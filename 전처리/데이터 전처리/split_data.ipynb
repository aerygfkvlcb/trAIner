{
 "cells": [
  {
   "cell_type": "code",
   "execution_count": 214,
   "id": "ee5cbf64-22c5-471a-af98-9df3bce29e36",
   "metadata": {
    "scrolled": true
   },
   "outputs": [
    {
     "name": "stdout",
     "output_type": "stream",
     "text": [
      "E:\\AI\\dataset_skeleton_for_generator\\training\n",
      "StepForwardDynamicLunge_096\n",
      "E:\\AI\\dataset_skeleton_for_generator\\training\\StepForwardDynamicLunge_096\n",
      "E:\\AI\\dataset_skeleton_for_generator\\validation\\StepForwardDynamicLunge_096\n",
      "파일 이동이 완료되었습니다.\n"
     ]
    }
   ],
   "source": [
    "import os\n",
    "import shutil\n",
    "import random\n",
    "\n",
    "# 원본 폴더와 대상 폴더 경로 설정\n",
    "source_folder = 'E:\\\\AI\\\\dataset_skeleton_for_generator\\\\training'\n",
    "valid_folder = 'E:\\\\AI\\\\dataset_skeleton_for_generator\\\\validation'\n",
    "test_folder = 'E:\\\\AI\\\\dataset_skeleton_for_generator\\\\test'\n",
    "print(source_folder)\n",
    "\n",
    "path = []\n",
    "\n",
    "for item in os.listdir(source_folder):\n",
    "    if item.startswith('StepForwardDynamicLunge'):\n",
    "        print(item)\n",
    "        path.append(item)\n",
    "\n",
    "# 원본 폴더에서 .jpg 파일만 리스트로 가져오기\n",
    "for exe in path:\n",
    "    source = os.path.join(source_folder, exe)\n",
    "    test = os.path.join(valid_folder, exe)\n",
    "    print(source)\n",
    "    print(test)\n",
    "    files = [file for file in os.listdir(source) if file.endswith('.jpg')]\n",
    "    \n",
    "    if len(files) < 300:\n",
    "        print(\"Error: 원본 폴더에 .jpg 파일이 300개 미만입니다.\")\n",
    "    else:\n",
    "        # 파일을 무작위로 선택하여 300개 리스트 생성\n",
    "        selected_files = random.sample(files, 3400)\n",
    "    \n",
    "        # 선택된 파일을 대상 폴더로 이동\n",
    "        for file in selected_files:\n",
    "            shutil.move(os.path.join(source, file), os.path.join(test, file))\n",
    "        \n",
    "        print(\"파일 이동이 완료되었습니다.\")\n"
   ]
  },
  {
   "cell_type": "code",
   "execution_count": null,
   "id": "acc4ef81-f383-4f8c-9d2f-dce6000e3b90",
   "metadata": {},
   "outputs": [],
   "source": []
  }
 ],
 "metadata": {
  "kernelspec": {
   "display_name": "Python 3 (ipykernel)",
   "language": "python",
   "name": "python3"
  },
  "language_info": {
   "codemirror_mode": {
    "name": "ipython",
    "version": 3
   },
   "file_extension": ".py",
   "mimetype": "text/x-python",
   "name": "python",
   "nbconvert_exporter": "python",
   "pygments_lexer": "ipython3",
   "version": "3.11.7"
  }
 },
 "nbformat": 4,
 "nbformat_minor": 5
}
