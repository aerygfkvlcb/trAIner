{
 "cells": [
  {
   "cell_type": "code",
   "execution_count": 4,
   "id": "dd3781c8-94b7-445e-82eb-414377998489",
   "metadata": {},
   "outputs": [],
   "source": [
    "import cv2\n",
    "\n",
    "# 비디오 파일 로드\n",
    "video = cv2.VideoCapture('E:/OneDrive - 가천대학교/4학년 1학기/졸프/운동영상/pushup/02/pushup02.mp4')\n",
    "\n",
    "# 비디오의 FPS(초당 프레임 수)를 가져옴\n",
    "fps = video.get(cv2.CAP_PROP_FPS)\n",
    "\n",
    "# 저장할 프레임의 간격 계산 (예: 2 FPS면, 각 프레임 사이에 15프레임 간격)\n",
    "frame_interval = int(fps / 2)\n",
    "\n",
    "# 프레임을 순회하며 처리\n",
    "count = 0\n",
    "while True:\n",
    "    # 비디오에서 프레임 하나 읽기\n",
    "    success, frame = video.read()\n",
    "    # 파일의 끝에 도달하면 종료\n",
    "    if not success:\n",
    "        break\n",
    "    \n",
    "    # 지정된 간격으로 프레임 저장\n",
    "    if count % frame_interval == 0:\n",
    "        # 파일명 형식 지정 (예: output_0001.jpg)\n",
    "        filename = f'output_{count // frame_interval:04d}.jpg'\n",
    "        cv2.imwrite(filename, frame)\n",
    "    \n",
    "    count += 1\n",
    "\n",
    "# 비디오 파일 닫기\n",
    "video.release()\n"
   ]
  },
  {
   "cell_type": "code",
   "execution_count": null,
   "id": "d8e41797-e588-4519-b3be-b3485a371686",
   "metadata": {},
   "outputs": [],
   "source": []
  }
 ],
 "metadata": {
  "kernelspec": {
   "display_name": "project",
   "language": "python",
   "name": "project"
  },
  "language_info": {
   "codemirror_mode": {
    "name": "ipython",
    "version": 3
   },
   "file_extension": ".py",
   "mimetype": "text/x-python",
   "name": "python",
   "nbconvert_exporter": "python",
   "pygments_lexer": "ipython3",
   "version": "3.9.18"
  }
 },
 "nbformat": 4,
 "nbformat_minor": 5
}
