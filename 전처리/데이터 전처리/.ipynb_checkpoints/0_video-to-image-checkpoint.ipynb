{
 "cells": [
  {
   "cell_type": "code",
   "execution_count": 1,
   "id": "dd3781c8-94b7-445e-82eb-414377998489",
   "metadata": {},
   "outputs": [],
   "source": [
    "import cv2\n",
    "import os\n",
    "\n",
    "# MP4 파일의 전체 경로\n",
    "video_path = 'E:/OneDrive - 가천대학교/4학년 1학기/졸프/push-up.mp4'\n",
    "\n",
    "# os.path를 사용하여 경로와 파일 이름 분리\n",
    "video_dir = os.path.dirname(video_path)\n",
    "video_filename = os.path.basename(video_path)\n",
    "\n",
    "# Load the video file\n",
    "video = cv2.VideoCapture(video_path)\n",
    "\n",
    "# Get the FPS (frames per second) of the video\n",
    "fps = video.get(cv2.CAP_PROP_FPS)\n",
    "\n",
    "# Calculate the interval to save frames (e.g., for 2 FPS, there is a 15-frame interval between each frame)\n",
    "frame_interval = int(fps / 2)\n",
    "\n",
    "# Iterate through the frames and process them\n",
    "count = 0\n",
    "while True:\n",
    "    # Read a frame from the video\n",
    "    success, frame = video.read()\n",
    "    # Exit at the end of the file\n",
    "    if not success:\n",
    "        break\n",
    "    \n",
    "    # Save frames at the specified interval\n",
    "    if count % frame_interval == 0:\n",
    "        # Define the filename format (e.g., output_0001.jpg)\n",
    "        filename = f'output_{count // frame_interval:04d}.jpg'\n",
    "        # 이미지를 동일한 디렉토리에 저장\n",
    "        save_path = os.path.join(video_dir, filename)\n",
    "        cv2.imwrite(save_path, frame)\n",
    "    \n",
    "    count += 1\n",
    "\n",
    "# Close the video file\n",
    "video.release()\n"
   ]
  },
  {
   "cell_type": "code",
   "execution_count": null,
   "id": "d8e41797-e588-4519-b3be-b3485a371686",
   "metadata": {},
   "outputs": [],
   "source": []
  }
 ],
 "metadata": {
  "kernelspec": {
   "display_name": "project",
   "language": "python",
   "name": "project"
  },
  "language_info": {
   "codemirror_mode": {
    "name": "ipython",
    "version": 3
   },
   "file_extension": ".py",
   "mimetype": "text/x-python",
   "name": "python",
   "nbconvert_exporter": "python",
   "pygments_lexer": "ipython3",
   "version": "3.9.18"
  }
 },
 "nbformat": 4,
 "nbformat_minor": 5
}
