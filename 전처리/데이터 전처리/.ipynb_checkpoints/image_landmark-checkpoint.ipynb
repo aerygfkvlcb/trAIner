{
 "cells": [
  {
   "cell_type": "code",
   "execution_count": 30,
   "id": "581e646a-cb8e-4130-8897-4513d061ad29",
   "metadata": {},
   "outputs": [],
   "source": [
    "import cv2\n",
    "import mediapipe as mp\n",
    "\n",
    "# MediaPipe의 Pose 모델 로드\n",
    "mp_pose = mp.solutions.pose\n",
    "\n",
    "# 이미지 불러오기\n",
    "image_path = 'pic03.jpg'\n",
    "image = cv2.imread(image_path)\n",
    "image_rgb = cv2.cvtColor(image, cv2.COLOR_BGR2RGB)\n",
    "\n",
    "# Pose 모델 초기화\n",
    "pose = mp_pose.Pose(static_image_mode=True, min_detection_confidence=0.5)\n",
    "\n",
    "# 키포인트 검출\n",
    "results = pose.process(image_rgb)\n",
    "\n",
    "# 결과 확인 및 시각화\n",
    "if results.pose_landmarks is not None:\n",
    "    # 파란색으로 점 그리기\n",
    "    for i, landmark in enumerate(results.pose_landmarks.landmark):\n",
    "        if i in [17, 18, 19, 20, 21, 22]:\n",
    "            continue  # 특정 랜드마크를 제외합니다.\n",
    "        \n",
    "        if landmark.visibility < 0.5:\n",
    "            continue  # 랜드마크의 신뢰도가 일정 수준 이하인 경우 점을 그리지 않습니다.\n",
    "        \n",
    "        height, width, _ = image.shape\n",
    "        cx, cy = int(landmark.x * width), int(landmark.y * height)\n",
    "        cv2.circle(image, (cx, cy), 5, (255, 0, 0), -1)  # 키포인트를 파란색 점으로 시각화\n",
    "    \n",
    "    # 빨간색으로 선 그리기\n",
    "    for connection in mp_pose.POSE_CONNECTIONS:\n",
    "        start_index = connection[0]\n",
    "        end_index = connection[1]\n",
    "        if start_index in [17, 18, 19, 20, 21, 22] or end_index in [17, 18, 19, 20, 21, 22]:\n",
    "            continue  # 특정 랜드마크와 연결된 선은 그리지 않습니다.\n",
    "        \n",
    "        start_landmark = results.pose_landmarks.landmark[start_index]\n",
    "        end_landmark = results.pose_landmarks.landmark[end_index]\n",
    "        \n",
    "        if start_landmark.visibility < 0.5 or end_landmark.visibility < 0.5:\n",
    "            continue  # 랜드마크의 신뢰도가 일정 수준 이하인 경우 선을 그리지 않습니다.\n",
    "        \n",
    "        start_point = (int(start_landmark.x * width), int(start_landmark.y * height))\n",
    "        end_point = (int(end_landmark.x * width), int(end_landmark.y * height))\n",
    "        cv2.line(image, start_point, end_point, (0, 0, 255), 2)  # 선을 빨간색으로 그립니다.\n",
    "\n",
    "# 이미지 출력\n",
    "cv2.imshow('Pose Detection', image)\n",
    "cv2.imwrite('pic02_trans.jpg', image)  # 이미지를 저장\n",
    "cv2.waitKey(0)\n",
    "cv2.destroyAllWindows()\n"
   ]
  }
 ],
 "metadata": {
  "kernelspec": {
   "display_name": "AI",
   "language": "python",
   "name": "aistudy"
  },
  "language_info": {
   "codemirror_mode": {
    "name": "ipython",
    "version": 3
   },
   "file_extension": ".py",
   "mimetype": "text/x-python",
   "name": "python",
   "nbconvert_exporter": "python",
   "pygments_lexer": "ipython3",
   "version": "3.8.19"
  }
 },
 "nbformat": 4,
 "nbformat_minor": 5
}
