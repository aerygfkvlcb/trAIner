{
 "cells": [
  {
   "cell_type": "code",
   "execution_count": null,
   "id": "60db2333-537c-4eb7-8921-693d78ff66e2",
   "metadata": {},
   "outputs": [
    {
     "name": "stderr",
     "output_type": "stream",
     "text": [
      "IOPub data rate exceeded.\n",
      "The Jupyter server will temporarily stop sending output\n",
      "to the client in order to avoid crashing it.\n",
      "To change this limit, set the config variable\n",
      "`--ServerApp.iopub_data_rate_limit`.\n",
      "\n",
      "Current values:\n",
      "ServerApp.iopub_data_rate_limit=1000000.0 (bytes/sec)\n",
      "ServerApp.rate_limit_window=3.0 (secs)\n",
      "\n"
     ]
    }
   ],
   "source": [
    "import os\n",
    "import shutil\n",
    "\n",
    "# 원본 디렉토리\n",
    "source_dir = r\"E:\\AI\\dataset_skeleton\\training\\face\\BicycleCrunch\"\n",
    "des_dir = r'E:\\AI\\dataset_skeleton_sep\\face\\training'\n",
    "# os.walk를 이용해 모든 하위 디렉토리 탐색\n",
    "for roots, dirs, files in os.walk(source_dir):\n",
    "    for file in files:\n",
    "        # 파일 확장자가 .jpg인 경우\n",
    "        if filename.lower().endswith('.jpg'):\n",
    "            # 원본 파일 경로\n",
    "            source_file_path = os.path.join(roots, file)\n",
    "\n",
    "            num = file[0:3]\n",
    "            source_path1, _ = os.path.split(roots)\n",
    "            source_path2, _ = os.path.split(source_path1)\n",
    "            source_path, exercise = os.path.split(source_path2)\n",
    "            des_path = os.path.join(des_path, f'{exercise}_{num}')\n",
    "            \n",
    "            # 목적지 파일 경로\n",
    "            destination_file_path = os.path.join(des_path, filename)\n",
    "            print(destination_file_path)\n",
    "            \n",
    "            # 파일 복사\n",
    "            #shutil.copy(source_file_path, destination_file_path)\n",
    "            #print(f\"{filename} 복사 완료.\")\n",
    "\n",
    "print(\"모든 .jpg 파일 복사 완료.\")"
   ]
  },
  {
   "cell_type": "code",
   "execution_count": null,
   "id": "30e7e30b-5692-4299-ad73-7ce691a15a37",
   "metadata": {},
   "outputs": [],
   "source": []
  }
 ],
 "metadata": {
  "kernelspec": {
   "display_name": "project",
   "language": "python",
   "name": "project"
  },
  "language_info": {
   "codemirror_mode": {
    "name": "ipython",
    "version": 3
   },
   "file_extension": ".py",
   "mimetype": "text/x-python",
   "name": "python",
   "nbconvert_exporter": "python",
   "pygments_lexer": "ipython3",
   "version": "3.9.18"
  }
 },
 "nbformat": 4,
 "nbformat_minor": 5
}
