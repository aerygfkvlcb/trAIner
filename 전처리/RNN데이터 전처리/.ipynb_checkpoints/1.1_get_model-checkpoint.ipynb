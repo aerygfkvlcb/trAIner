{
 "cells": [
  {
   "cell_type": "code",
   "execution_count": 4,
   "id": "3766d60b-59a5-4fa2-9c42-e1671a97f6e7",
   "metadata": {},
   "outputs": [
    {
     "name": "stdout",
     "output_type": "stream",
     "text": [
      "모든 폴더의 pts 데이터가 각각의 JSON 파일로 저장되었습니다.\n"
     ]
    }
   ],
   "source": [
    "#day01 model1 - 61번까지 pic size 3840*2160, 따로 분리\n",
    "import os\n",
    "import json\n",
    "\n",
    "# JSON 데이터의 상위 폴더\n",
    "json_path = 'E:\\\\AInotes\\\\자세교정\\\\RNN데이터 전처리\\\\keypoint\\\\Day01_200921_F_pts_output.json'\n",
    "out_folder = 'E:\\\\AInotes\\\\자세교정\\\\RNN데이터 전처리\\\\keypoint\\\\day01'\n",
    "\n",
    "\n",
    "model_list = []\n",
    "with open(json_path, 'r', encoding='utf-8') as json_file:  # 인코딩을 UTF-8로 지정\n",
    "    data = json.load(json_file)\n",
    "    # \"frames\" 내의 각 \"view1\"에서 \"pts\" 데이터와 \"img_key\" 추출\n",
    "    for items in data:\n",
    "        if items.get('filename')[4] == '1':\n",
    "            model_one = {\n",
    "                'filename':items.get('filename',''),\n",
    "                \"pts\": items.get('pts', {}),\n",
    "                \"img_key\": items.get('img_key', '')\n",
    "            }\n",
    "            model_list.append(model_one)\n",
    "\n",
    "        # 결과를 현재 폴더의 이름으로 JSON 파일에 저장\n",
    "output_json_file = os.path.join(out_folder, 'model_1.json')  # 결과를 저장할 JSON 파일 경로\n",
    "with open(output_json_file, 'w', encoding='utf-8') as output_file:  # 인코딩을 UTF-8로 지정\n",
    "    json.dump(model_list, output_file, indent=4, ensure_ascii=False)  # ensure_ascii=False 옵션 추가\n",
    "\n",
    "print(\"모든 폴더의 pts 데이터가 각각의 JSON 파일로 저장되었습니다.\")\n"
   ]
  },
  {
   "cell_type": "code",
   "execution_count": 12,
   "id": "d1c4b66b-8a43-4e0f-8d93-1343b7e27fc8",
   "metadata": {},
   "outputs": [
    {
     "name": "stdout",
     "output_type": "stream",
     "text": [
      "모든 폴더의 pts 데이터가 각각의 JSON 파일로 저장되었습니다.\n"
     ]
    }
   ],
   "source": [
    "import os\n",
    "import json\n",
    "\n",
    "# JSON 데이터의 상위 폴더\n",
    "json_path = 'E:\\\\AInotes\\\\자세교정\\\\RNN데이터 전처리\\\\keypoint\\\\Day01_200921_F_pts_output.json'\n",
    "out_folder = 'E:\\\\AInotes\\\\자세교정\\\\RNN데이터 전처리\\\\keypoint\\\\day01'\n",
    "\n",
    "\n",
    "model_list = []\n",
    "with open(json_path, 'r', encoding='utf-8') as json_file:  # 인코딩을 UTF-8로 지정\n",
    "    data = json.load(json_file)\n",
    "    # \"frames\" 내의 각 \"view1\"에서 \"pts\" 데이터와 \"img_key\" 추출\n",
    "    for items in data:\n",
    "        if items.get('filename')[4] == '2':\n",
    "            model_one = {\n",
    "                'filename':items.get('filename',''),\n",
    "                \"pts\": items.get('pts', {}),\n",
    "                \"img_key\": items.get('img_key', '')\n",
    "            }\n",
    "            model_list.append(model_one)\n",
    "\n",
    "        # 결과를 현재 폴더의 이름으로 JSON 파일에 저장\n",
    "output_json_file = os.path.join(out_folder, 'model_2.json')  # 결과를 저장할 JSON 파일 경로\n",
    "with open(output_json_file, 'w', encoding='utf-8') as output_file:  # 인코딩을 UTF-8로 지정\n",
    "    json.dump(model_list, output_file, indent=4, ensure_ascii=False)  # ensure_ascii=False 옵션 추가\n",
    "\n",
    "print(\"모든 폴더의 pts 데이터가 각각의 JSON 파일로 저장되었습니다.\")\n"
   ]
  },
  {
   "cell_type": "code",
   "execution_count": 6,
   "id": "55f6d93c-172b-4ea6-8f9a-aeb1d4a04537",
   "metadata": {},
   "outputs": [
    {
     "name": "stdout",
     "output_type": "stream",
     "text": [
      "모든 폴더의 pts 데이터가 각각의 JSON 파일로 저장되었습니다.\n"
     ]
    }
   ],
   "source": [
    "import os\n",
    "import json\n",
    "\n",
    "# JSON 데이터의 상위 폴더\n",
    "json_path = 'E:\\\\AInotes\\\\자세교정\\\\RNN데이터 전처리\\\\keypoint\\\\Day01_200921_F_pts_output.json'\n",
    "out_folder = 'E:\\\\AInotes\\\\자세교정\\\\RNN데이터 전처리\\\\keypoint\\\\day01'\n",
    "\n",
    "\n",
    "model_list = []\n",
    "with open(json_path, 'r', encoding='utf-8') as json_file:  # 인코딩을 UTF-8로 지정\n",
    "    data = json.load(json_file)\n",
    "    # \"frames\" 내의 각 \"view1\"에서 \"pts\" 데이터와 \"img_key\" 추출\n",
    "    for items in data:\n",
    "        if items.get('filename')[4] == '3':\n",
    "            model_one = {\n",
    "                'filename':items.get('filename',''),\n",
    "                \"pts\": items.get('pts', {}),\n",
    "                \"img_key\": items.get('img_key', '')\n",
    "            }\n",
    "            model_list.append(model_one)\n",
    "\n",
    "        # 결과를 현재 폴더의 이름으로 JSON 파일에 저장\n",
    "output_json_file = os.path.join(out_folder, 'model_3.json')  # 결과를 저장할 JSON 파일 경로\n",
    "with open(output_json_file, 'w', encoding='utf-8') as output_file:  # 인코딩을 UTF-8로 지정\n",
    "    json.dump(model_list, output_file, indent=4, ensure_ascii=False)  # ensure_ascii=False 옵션 추가\n",
    "\n",
    "print(\"모든 폴더의 pts 데이터가 각각의 JSON 파일로 저장되었습니다.\")\n"
   ]
  },
  {
   "cell_type": "code",
   "execution_count": 7,
   "id": "cd7920ae-954b-49ab-8b88-ca094c880bb7",
   "metadata": {},
   "outputs": [
    {
     "name": "stdout",
     "output_type": "stream",
     "text": [
      "모든 폴더의 pts 데이터가 각각의 JSON 파일로 저장되었습니다.\n"
     ]
    }
   ],
   "source": [
    "import os\n",
    "import json\n",
    "\n",
    "# JSON 데이터의 상위 폴더\n",
    "json_path = 'E:\\\\AInotes\\\\자세교정\\\\RNN데이터 전처리\\\\keypoint\\\\Day01_200921_F_pts_output.json'\n",
    "out_folder = 'E:\\\\AInotes\\\\자세교정\\\\RNN데이터 전처리\\\\keypoint\\\\day01'\n",
    "\n",
    "\n",
    "model_list = []\n",
    "with open(json_path, 'r', encoding='utf-8') as json_file:  # 인코딩을 UTF-8로 지정\n",
    "    data = json.load(json_file)\n",
    "    # \"frames\" 내의 각 \"view1\"에서 \"pts\" 데이터와 \"img_key\" 추출\n",
    "    for items in data:\n",
    "        if items.get('filename')[4] == '4':\n",
    "            model_one = {\n",
    "                'filename':items.get('filename',''),\n",
    "                \"pts\": items.get('pts', {}),\n",
    "                \"img_key\": items.get('img_key', '')\n",
    "            }\n",
    "            model_list.append(model_one)\n",
    "\n",
    "        # 결과를 현재 폴더의 이름으로 JSON 파일에 저장\n",
    "output_json_file = os.path.join(out_folder, 'model_4.json')  # 결과를 저장할 JSON 파일 경로\n",
    "with open(output_json_file, 'w', encoding='utf-8') as output_file:  # 인코딩을 UTF-8로 지정\n",
    "    json.dump(model_list, output_file, indent=4, ensure_ascii=False)  # ensure_ascii=False 옵션 추가\n",
    "\n",
    "print(\"모든 폴더의 pts 데이터가 각각의 JSON 파일로 저장되었습니다.\")\n"
   ]
  },
  {
   "cell_type": "code",
   "execution_count": 8,
   "id": "eef5b02b-66a2-4fc2-865f-d85893fe8c61",
   "metadata": {},
   "outputs": [
    {
     "name": "stdout",
     "output_type": "stream",
     "text": [
      "모든 폴더의 pts 데이터가 각각의 JSON 파일로 저장되었습니다.\n"
     ]
    }
   ],
   "source": [
    "import os\n",
    "import json\n",
    "\n",
    "# JSON 데이터의 상위 폴더\n",
    "json_path = 'E:\\\\AInotes\\\\자세교정\\\\RNN데이터 전처리\\\\keypoint\\\\Day01_200921_F_pts_output.json'\n",
    "out_folder = 'E:\\\\AInotes\\\\자세교정\\\\RNN데이터 전처리\\\\keypoint\\\\day01'\n",
    "\n",
    "\n",
    "model_list = []\n",
    "with open(json_path, 'r', encoding='utf-8') as json_file:  # 인코딩을 UTF-8로 지정\n",
    "    data = json.load(json_file)\n",
    "    # \"frames\" 내의 각 \"view1\"에서 \"pts\" 데이터와 \"img_key\" 추출\n",
    "    for items in data:\n",
    "        if items.get('filename')[4] == '5':\n",
    "            model_one = {\n",
    "                'filename':items.get('filename',''),\n",
    "                \"pts\": items.get('pts', {}),\n",
    "                \"img_key\": items.get('img_key', '')\n",
    "            }\n",
    "            model_list.append(model_one)\n",
    "\n",
    "        # 결과를 현재 폴더의 이름으로 JSON 파일에 저장\n",
    "output_json_file = os.path.join(out_folder, 'model_5.json')  # 결과를 저장할 JSON 파일 경로\n",
    "with open(output_json_file, 'w', encoding='utf-8') as output_file:  # 인코딩을 UTF-8로 지정\n",
    "    json.dump(model_list, output_file, indent=4, ensure_ascii=False)  # ensure_ascii=False 옵션 추가\n",
    "\n",
    "print(\"모든 폴더의 pts 데이터가 각각의 JSON 파일로 저장되었습니다.\")\n"
   ]
  },
  {
   "cell_type": "code",
   "execution_count": 9,
   "id": "f2856f5d-0ed1-45c7-acc1-a56186e4d13b",
   "metadata": {},
   "outputs": [
    {
     "name": "stdout",
     "output_type": "stream",
     "text": [
      "모든 폴더의 pts 데이터가 각각의 JSON 파일로 저장되었습니다.\n"
     ]
    }
   ],
   "source": [
    "import os\n",
    "import json\n",
    "\n",
    "# JSON 데이터의 상위 폴더\n",
    "json_path = 'E:\\\\AInotes\\\\자세교정\\\\RNN데이터 전처리\\\\keypoint\\\\Day01_200921_F_pts_output.json'\n",
    "out_folder = 'E:\\\\AInotes\\\\자세교정\\\\RNN데이터 전처리\\\\keypoint\\\\day01'\n",
    "\n",
    "\n",
    "model_list = []\n",
    "with open(json_path, 'r', encoding='utf-8') as json_file:  # 인코딩을 UTF-8로 지정\n",
    "    data = json.load(json_file)\n",
    "    # \"frames\" 내의 각 \"view1\"에서 \"pts\" 데이터와 \"img_key\" 추출\n",
    "    for items in data:\n",
    "        if items.get('filename')[4] == '6':\n",
    "            model_one = {\n",
    "                'filename':items.get('filename',''),\n",
    "                \"pts\": items.get('pts', {}),\n",
    "                \"img_key\": items.get('img_key', '')\n",
    "            }\n",
    "            model_list.append(model_one)\n",
    "\n",
    "        # 결과를 현재 폴더의 이름으로 JSON 파일에 저장\n",
    "output_json_file = os.path.join(out_folder, 'model_6.json')  # 결과를 저장할 JSON 파일 경로\n",
    "with open(output_json_file, 'w', encoding='utf-8') as output_file:  # 인코딩을 UTF-8로 지정\n",
    "    json.dump(model_list, output_file, indent=4, ensure_ascii=False)  # ensure_ascii=False 옵션 추가\n",
    "\n",
    "print(\"모든 폴더의 pts 데이터가 각각의 JSON 파일로 저장되었습니다.\")\n"
   ]
  },
  {
   "cell_type": "code",
   "execution_count": 10,
   "id": "13a8dc52-32d0-42b1-93d3-05d6e8470a2d",
   "metadata": {},
   "outputs": [
    {
     "name": "stdout",
     "output_type": "stream",
     "text": [
      "모든 폴더의 pts 데이터가 각각의 JSON 파일로 저장되었습니다.\n"
     ]
    }
   ],
   "source": [
    "import os\n",
    "import json\n",
    "\n",
    "# JSON 데이터의 상위 폴더\n",
    "json_path = 'E:\\\\AInotes\\\\자세교정\\\\RNN데이터 전처리\\\\keypoint\\\\Day01_200921_F_pts_output.json'\n",
    "out_folder = 'E:\\\\AInotes\\\\자세교정\\\\RNN데이터 전처리\\\\keypoint\\\\day01'\n",
    "\n",
    "\n",
    "model_list = []\n",
    "with open(json_path, 'r', encoding='utf-8') as json_file:  # 인코딩을 UTF-8로 지정\n",
    "    data = json.load(json_file)\n",
    "    # \"frames\" 내의 각 \"view1\"에서 \"pts\" 데이터와 \"img_key\" 추출\n",
    "    for items in data:\n",
    "        if items.get('filename')[4] == '7':\n",
    "            model_one = {\n",
    "                'filename':items.get('filename',''),\n",
    "                \"pts\": items.get('pts', {}),\n",
    "                \"img_key\": items.get('img_key', '')\n",
    "            }\n",
    "            model_list.append(model_one)\n",
    "\n",
    "        # 결과를 현재 폴더의 이름으로 JSON 파일에 저장\n",
    "output_json_file = os.path.join(out_folder, 'model_7.json')  # 결과를 저장할 JSON 파일 경로\n",
    "with open(output_json_file, 'w', encoding='utf-8') as output_file:  # 인코딩을 UTF-8로 지정\n",
    "    json.dump(model_list, output_file, indent=4, ensure_ascii=False)  # ensure_ascii=False 옵션 추가\n",
    "\n",
    "print(\"모든 폴더의 pts 데이터가 각각의 JSON 파일로 저장되었습니다.\")\n"
   ]
  },
  {
   "cell_type": "code",
   "execution_count": 11,
   "id": "6ef0b742-0f68-4ea7-a69a-9ab749999187",
   "metadata": {},
   "outputs": [
    {
     "name": "stdout",
     "output_type": "stream",
     "text": [
      "모든 폴더의 pts 데이터가 각각의 JSON 파일로 저장되었습니다.\n"
     ]
    }
   ],
   "source": [
    "import os\n",
    "import json\n",
    "\n",
    "# JSON 데이터의 상위 폴더\n",
    "json_path = 'E:\\\\AInotes\\\\자세교정\\\\RNN데이터 전처리\\\\keypoint\\\\Day01_200921_F_pts_output.json'\n",
    "out_folder = 'E:\\\\AInotes\\\\자세교정\\\\RNN데이터 전처리\\\\keypoint\\\\day01'\n",
    "\n",
    "\n",
    "model_list = []\n",
    "with open(json_path, 'r', encoding='utf-8') as json_file:  # 인코딩을 UTF-8로 지정\n",
    "    data = json.load(json_file)\n",
    "    for items in data:\n",
    "        if items.get('filename')[4] == '8':\n",
    "            model_one = {\n",
    "                'filename':items.get('filename',''),\n",
    "                \"pts\": items.get('pts', {}),\n",
    "                \"img_key\": items.get('img_key', '')\n",
    "            }\n",
    "            model_list.append(model_one)\n",
    "\n",
    "        # 결과를 현재 폴더의 이름으로 JSON 파일에 저장\n",
    "output_json_file = os.path.join(out_folder, 'model_8.json')  # 결과를 저장할 JSON 파일 경로\n",
    "with open(output_json_file, 'w', encoding='utf-8') as output_file:  # 인코딩을 UTF-8로 지정\n",
    "    json.dump(model_list, output_file, indent=4, ensure_ascii=False)  # ensure_ascii=False 옵션 추가\n",
    "\n",
    "print(\"모든 폴더의 pts 데이터가 각각의 JSON 파일로 저장되었습니다.\")\n"
   ]
  },
  {
   "cell_type": "code",
   "execution_count": 13,
   "id": "184c3101-f5bc-40a3-bba4-1c9a7d36d253",
   "metadata": {},
   "outputs": [
    {
     "name": "stdout",
     "output_type": "stream",
     "text": [
      "Day02\n",
      "Day05\n",
      "Day09\n",
      "Day10\n",
      "Day13\n",
      "Day14\n",
      "Day23\n",
      "Day24\n",
      "Day27\n",
      "Day28\n",
      "Day33\n",
      "Day34\n",
      "Day35\n",
      "Day36\n",
      "모든 폴더의 pts 데이터가 각각의 JSON 파일로 저장되었습니다.\n"
     ]
    }
   ],
   "source": [
    "#day02~\n",
    "\n",
    "import os\n",
    "import json\n",
    "\n",
    "# JSON 데이터의 상위 폴더\n",
    "json_path = 'E:\\\\AInotes\\\\자세교정\\\\RNN데이터 전처리\\\\keypoint'\n",
    "\n",
    "\n",
    "\n",
    "def trans_json(data_path, output_path):\n",
    "    model_nums = []    \n",
    "    with open(data_path, 'r', encoding='utf-8') as json_file:  # 인코딩을 UTF-8로 지정\n",
    "        data = json.load(json_file)\n",
    "        for items in data:                       \n",
    "            if items.get('filename')[4] not in model_nums:\n",
    "                model_nums.append(items.get('filename')[4])\n",
    "        for num in model_nums:\n",
    "            trans_json = []\n",
    "            for items in data:\n",
    "                if items.get('filename')[4] == num and ((193 > int(items.get('filename')[6:9])) or ((472 < int(items.get('filename')[6:9])) and 625 > int(items.get('filename')[6:9]))):\n",
    "                    model = {\n",
    "                        'filename':items.get('filename',''),\n",
    "                        \"pts\": items.get('pts', {}),\n",
    "                        \"img_key\": items.get('img_key', '')\n",
    "                    }\n",
    "                    trans_json.append(model)\n",
    "            output_json_file = os.path.join(output_path, f'model_{num}.json')  # 결과를 저장할 JSON 파일 경로\n",
    "            with open(output_json_file, 'w', encoding='utf-8') as output_file:  # 인코딩을 UTF-8로 지정\n",
    "                json.dump(trans_json, output_file, indent=4, ensure_ascii=False)  # ensure_ascii=False 옵션 추가\n",
    "\n",
    "for data in os.listdir(json_path):\n",
    "    data_path = os.path.join(json_path, data)\n",
    "    if os.path.isfile(data_path) and data_path.endswith('.json'):\n",
    "        print(data[0:5])\n",
    "        out_path = os.path.join(json_path, data[0:5])\n",
    "        if not os.path.exists(out_path):\n",
    "            os.makedirs(out_path)\n",
    "        trans_json(data_path, out_path)\n",
    "\n",
    "print(\"모든 폴더의 pts 데이터가 각각의 JSON 파일로 저장되었습니다.\")"
   ]
  },
  {
   "cell_type": "code",
   "execution_count": null,
   "id": "edb6990d-7301-48bd-a6d5-78a7b8207493",
   "metadata": {},
   "outputs": [],
   "source": []
  }
 ],
 "metadata": {
  "kernelspec": {
   "display_name": "Python 3 (ipykernel)",
   "language": "python",
   "name": "python3"
  },
  "language_info": {
   "codemirror_mode": {
    "name": "ipython",
    "version": 3
   },
   "file_extension": ".py",
   "mimetype": "text/x-python",
   "name": "python",
   "nbconvert_exporter": "python",
   "pygments_lexer": "ipython3",
   "version": "3.11.7"
  }
 },
 "nbformat": 4,
 "nbformat_minor": 5
}
