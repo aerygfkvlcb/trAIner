{
 "cells": [
  {
   "cell_type": "code",
   "execution_count": 1,
   "id": "bde146f1-fa36-4d24-a59a-776dc67448bb",
   "metadata": {},
   "outputs": [
    {
     "name": "stdout",
     "output_type": "stream",
     "text": [
      "모든 폴더의 pts 데이터가 각각의 JSON 파일로 저장되었습니다.\n"
     ]
    }
   ],
   "source": [
    "import os\n",
    "import json\n",
    "\n",
    "# JSON 데이터의 상위 폴더\n",
    "parent_folder = 'D:\\\\AI\\\\dataset\\\\fitnessPose\\\\Training\\\\labeldataset\\\\맨몸운동_Labeling_new_220128'\n",
    "out_folder = 'E:\\\\AInotes\\\\자세교정\\\\RNN데이터 전처리\\\\keypoint'\n",
    "\n",
    "# 상위 폴더 내의 모든 폴더에 대해 반복\n",
    "for folder_name in os.listdir(parent_folder):\n",
    "    folder_path = os.path.join(parent_folder, folder_name)\n",
    "    if os.path.isdir(folder_path):  # 폴더인 경우에만 처리\n",
    "        # 해당 폴더 내의 JSON 파일들을 처리하여 결과를 저장할 리스트 초기화\n",
    "        pts_img_key_data_list = []\n",
    "\n",
    "        # 현재 폴더 내의 모든 JSON 파일에 대해 반복\n",
    "        for filename in os.listdir(folder_path):\n",
    "            if filename.endswith('.json'):  # JSON 파일만 처리\n",
    "                file_path = os.path.join(folder_path, filename)\n",
    "                with open(file_path, 'r', encoding='utf-8') as json_file:  # 인코딩을 UTF-8로 지정\n",
    "                    data = json.load(json_file)\n",
    "                    # \"frames\" 내의 각 \"view1\"에서 \"pts\" 데이터와 \"img_key\" 추출\n",
    "                    for frame in data.get('frames', []):\n",
    "                        if 'view3' in frame:\n",
    "                            pts_img_key_data = {\n",
    "                                \"filename\": filename,\n",
    "                                \"pts\": frame['view3'].get('pts', {}),\n",
    "                                \"img_key\": frame['view3'].get('img_key', '')\n",
    "                            }\n",
    "                            pts_img_key_data_list.append(pts_img_key_data)\n",
    "\n",
    "        # 결과를 현재 폴더의 이름으로 JSON 파일에 저장\n",
    "        output_json_file = os.path.join(out_folder, f'{folder_name}_pts_output.json')  # 결과를 저장할 JSON 파일 경로\n",
    "        with open(output_json_file, 'w', encoding='utf-8') as output_file:  # 인코딩을 UTF-8로 지정\n",
    "            json.dump(pts_img_key_data_list, output_file, indent=4, ensure_ascii=False)  # ensure_ascii=False 옵션 추가\n",
    "\n",
    "print(\"모든 폴더의 pts 데이터가 각각의 JSON 파일로 저장되었습니다.\")\n"
   ]
  },
  {
   "cell_type": "code",
   "execution_count": null,
   "id": "60f34404-6e98-4cf5-b05c-cbd9c8b10f17",
   "metadata": {},
   "outputs": [],
   "source": []
  }
 ],
 "metadata": {
  "kernelspec": {
   "display_name": "Python 3 (ipykernel)",
   "language": "python",
   "name": "python3"
  },
  "language_info": {
   "codemirror_mode": {
    "name": "ipython",
    "version": 3
   },
   "file_extension": ".py",
   "mimetype": "text/x-python",
   "name": "python",
   "nbconvert_exporter": "python",
   "pygments_lexer": "ipython3",
   "version": "3.11.7"
  }
 },
 "nbformat": 4,
 "nbformat_minor": 5
}
