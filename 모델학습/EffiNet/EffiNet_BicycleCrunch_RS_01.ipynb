{
 "cells": [
  {
   "cell_type": "code",
   "execution_count": 1,
   "id": "42a662bf-423e-49be-90dd-9d09bba9d466",
   "metadata": {},
   "outputs": [
    {
     "name": "stdout",
     "output_type": "stream",
     "text": [
      "Found 7775 images belonging to 8 classes.\n",
      "Found 1670 images belonging to 8 classes.\n",
      "Found 1667 images belonging to 8 classes.\n"
     ]
    }
   ],
   "source": [
    "import numpy as np\n",
    "import tensorflow as tf\n",
    "from tensorflow import keras\n",
    "from tensorflow.keras.preprocessing.image import ImageDataGenerator\n",
    "from tensorflow.keras import layers, models, optimizers\n",
    "from tensorflow.keras.callbacks import EarlyStopping, ModelCheckpoint\n",
    "from tensorflow.keras.applications import EfficientNetB4 \n",
    "from keras_tuner import RandomSearch\n",
    "\n",
    "# 데이터셋 경로 설정\n",
    "train_dir = r'E:\\AI\\dataset_skeleton_sep\\side\\BicycleCrunch\\training'\n",
    "val_dir = r'E:\\AI\\dataset_skeleton_sep\\side\\BicycleCrunch\\validation'\n",
    "test_dir = r'E:\\AI\\dataset_skeleton_sep\\side\\BicycleCrunch\\test'\n",
    "\n",
    "# ImageDataGenerator 초기화\n",
    "datagen = ImageDataGenerator(rescale=1./255)\n",
    "\n",
    "# 훈련, 검증, 테스트 데이터셋을 위한 제너레이터 생성\n",
    "train_generator = datagen.flow_from_directory(\n",
    "    train_dir,\n",
    "    target_size=(128, 128),\n",
    "    batch_size=32,\n",
    "    class_mode='categorical',\n",
    "    shuffle=True)\n",
    "\n",
    "validation_generator = datagen.flow_from_directory(\n",
    "    val_dir,\n",
    "    target_size=(128, 128),\n",
    "    batch_size=32,\n",
    "    class_mode='categorical',\n",
    "    shuffle=False)\n",
    "\n",
    "test_generator = datagen.flow_from_directory(\n",
    "    test_dir,\n",
    "    target_size=(128, 128),\n",
    "    batch_size=32,\n",
    "    class_mode='categorical',\n",
    "    shuffle=False)\n"
   ]
  },
  {
   "cell_type": "code",
   "execution_count": 2,
   "id": "c1e30988-ebab-4f60-ac70-2ee1563d6b08",
   "metadata": {},
   "outputs": [],
   "source": [
    "def build_model(hp):\n",
    "    base_model = EfficientNetB4(weights='imagenet', include_top=False, input_shape=(128, 128, 3))\n",
    "\n",
    "    \n",
    "    for layer in base_model.layers:\n",
    "        layer.trainable = False\n",
    "\n",
    "    for layer in base_model.layers[-20:]:\n",
    "        layer.trainable = True   \n",
    "    \n",
    "    model = models.Sequential()\n",
    "    model.add(base_model)\n",
    "    model.add(layers.GlobalAveragePooling2D())\n",
    "    # Dense 레이어의 유닛 수를 하이퍼파라미터로 사용\n",
    "    model.add(layers.Dense(units=hp.Int('units', min_value=256, max_value=512, step=128), activation = 'relu'))\n",
    "    model.add(layers.Dense(8, activation = 'softmax'))\n",
    "\n",
    "    # learning_rate를 하이퍼파라미터로 사용\n",
    "    model.compile(optimizer=optimizers.Adam(learning_rate=hp.Float('learning_rate', min_value=1e-4, max_value=1e-3, sampling='LOG')),\n",
    "                  loss='categorical_crossentropy',\n",
    "                  metrics=['accuracy'])    \n",
    "    \n",
    "    return model\n"
   ]
  },
  {
   "cell_type": "code",
   "execution_count": 3,
   "id": "4df9ac25-5a23-45fd-a2a2-60e1db6de404",
   "metadata": {},
   "outputs": [
    {
     "name": "stdout",
     "output_type": "stream",
     "text": [
      "Search space summary\n",
      "Default search space size: 2\n",
      "units (Int)\n",
      "{'default': None, 'conditions': [], 'min_value': 256, 'max_value': 512, 'step': 128, 'sampling': 'linear'}\n",
      "learning_rate (Float)\n",
      "{'default': 0.0001, 'conditions': [], 'min_value': 0.0001, 'max_value': 0.001, 'step': None, 'sampling': 'log'}\n"
     ]
    }
   ],
   "source": [
    "import keras_tuner as kt\n",
    "\n",
    "tuner = RandomSearch(\n",
    "    build_model,\n",
    "    objective='val_accuracy',\n",
    "    max_trials=5,  # 시도할 하이퍼파라미터 조합의 최대 개수\n",
    "    executions_per_trial=1,  # 각 하이퍼파라미터 설정을 평가하기 위해 모델을 훈련시킬 횟수\n",
    "    directory=r'E:\\AInotes\\자세교정\\모델학습\\EffiNet\\random_search',  # 튜닝 세션의 결과를 저장할 디렉토리 이름\n",
    "    project_name='EN_BC_RS_01'  # 프로젝트 이름\n",
    ")\n",
    "tuner.search_space_summary()"
   ]
  },
  {
   "cell_type": "code",
   "execution_count": 4,
   "id": "f62b7db6-0780-4074-ba61-8a15480d5450",
   "metadata": {},
   "outputs": [
    {
     "name": "stdout",
     "output_type": "stream",
     "text": [
      "Trial 5 Complete [00h 03m 59s]\n",
      "val_accuracy: 0.1328125\n",
      "\n",
      "Best val_accuracy So Far: 0.13701923191547394\n",
      "Total elapsed time: 00h 24m 12s\n"
     ]
    }
   ],
   "source": [
    "early_stopping = EarlyStopping(monitor='val_loss', patience=10, min_delta=0, verbose=1)\n",
    "\n",
    "tuner.search(train_generator,\n",
    "             steps_per_epoch=train_generator.samples // train_generator.batch_size,\n",
    "             validation_data=validation_generator, \n",
    "             validation_steps=validation_generator.samples // validation_generator.batch_size,\n",
    "             epochs=25,\n",
    "             callbacks=[early_stopping])\n",
    "\n",
    "\n",
    "# 최적의 하이퍼파라미터 가져오기\n",
    "best_hps = tuner.get_best_hyperparameters(num_trials=1)[0]\n",
    "\n",
    "# 최적의 하이퍼파라미터로 모델 빌드\n",
    "model = tuner.hypermodel.build(best_hps)\n",
    "\n",
    "#best_models = tuner.get_best_models(1)\n",
    "#final_model = best_models[0]"
   ]
  },
  {
   "cell_type": "code",
   "execution_count": 5,
   "id": "5fbfa9c3-8c93-4d54-8868-326d7a3d76b8",
   "metadata": {},
   "outputs": [
    {
     "name": "stdout",
     "output_type": "stream",
     "text": [
      "The optimal value for units is 512\n",
      "The optimal value for learning_rate is 0.00010367752771388617\n",
      "Epoch 1/40\n",
      "242/242 [==============================] - 25s 74ms/step - loss: 2.1047 - accuracy: 0.1248 - val_loss: 2.0816 - val_accuracy: 0.1322\n",
      "Epoch 2/40\n",
      "242/242 [==============================] - 15s 63ms/step - loss: 2.0878 - accuracy: 0.1308 - val_loss: 2.0806 - val_accuracy: 0.1316\n",
      "Epoch 3/40\n",
      "242/242 [==============================] - 15s 62ms/step - loss: 2.0850 - accuracy: 0.1239 - val_loss: 2.0802 - val_accuracy: 0.1256\n",
      "Epoch 4/40\n",
      "242/242 [==============================] - 15s 61ms/step - loss: 2.0812 - accuracy: 0.1231 - val_loss: 2.0819 - val_accuracy: 0.1226\n",
      "Epoch 5/40\n",
      "242/242 [==============================] - 15s 61ms/step - loss: 2.0820 - accuracy: 0.1179 - val_loss: 2.0794 - val_accuracy: 0.1286\n",
      "Epoch 6/40\n",
      "242/242 [==============================] - 15s 61ms/step - loss: 2.0808 - accuracy: 0.1263 - val_loss: 2.0795 - val_accuracy: 0.1382\n",
      "Epoch 7/40\n",
      "242/242 [==============================] - 15s 61ms/step - loss: 2.0807 - accuracy: 0.1232 - val_loss: 2.0796 - val_accuracy: 0.1220\n",
      "Epoch 8/40\n",
      "242/242 [==============================] - 15s 61ms/step - loss: 2.0809 - accuracy: 0.1235 - val_loss: 2.0799 - val_accuracy: 0.1286\n",
      "Epoch 9/40\n",
      "242/242 [==============================] - 15s 62ms/step - loss: 2.0801 - accuracy: 0.1241 - val_loss: 2.0795 - val_accuracy: 0.1286\n",
      "Epoch 10/40\n",
      "242/242 [==============================] - 15s 62ms/step - loss: 2.0801 - accuracy: 0.1260 - val_loss: 2.0796 - val_accuracy: 0.1286\n",
      "Epoch 11/40\n",
      "242/242 [==============================] - 15s 62ms/step - loss: 2.0799 - accuracy: 0.1239 - val_loss: 2.0794 - val_accuracy: 0.1286\n",
      "Epoch 12/40\n",
      "242/242 [==============================] - 15s 62ms/step - loss: 2.0798 - accuracy: 0.1277 - val_loss: 2.0793 - val_accuracy: 0.1310\n",
      "Epoch 13/40\n",
      "242/242 [==============================] - 15s 62ms/step - loss: 2.0801 - accuracy: 0.1288 - val_loss: 2.0794 - val_accuracy: 0.1286\n",
      "Epoch 14/40\n",
      "242/242 [==============================] - 15s 61ms/step - loss: 2.0802 - accuracy: 0.1202 - val_loss: 2.0794 - val_accuracy: 0.1286\n",
      "Epoch 15/40\n",
      "242/242 [==============================] - 15s 62ms/step - loss: 2.0799 - accuracy: 0.1233 - val_loss: 2.0796 - val_accuracy: 0.1262\n",
      "Epoch 16/40\n",
      "242/242 [==============================] - 15s 61ms/step - loss: 2.0801 - accuracy: 0.1289 - val_loss: 2.0794 - val_accuracy: 0.1286\n",
      "Epoch 17/40\n",
      "242/242 [==============================] - 15s 62ms/step - loss: 2.0798 - accuracy: 0.1231 - val_loss: 2.0794 - val_accuracy: 0.1286\n",
      "Epoch 18/40\n",
      "242/242 [==============================] - 15s 62ms/step - loss: 2.0795 - accuracy: 0.1288 - val_loss: 2.0794 - val_accuracy: 0.1286\n",
      "Epoch 19/40\n",
      "242/242 [==============================] - 15s 62ms/step - loss: 2.0797 - accuracy: 0.1279 - val_loss: 2.0794 - val_accuracy: 0.1286\n",
      "Epoch 20/40\n",
      "242/242 [==============================] - 15s 62ms/step - loss: 2.0797 - accuracy: 0.1249 - val_loss: 2.0794 - val_accuracy: 0.1286\n",
      "Epoch 21/40\n",
      "242/242 [==============================] - 15s 62ms/step - loss: 2.0801 - accuracy: 0.1208 - val_loss: 2.0794 - val_accuracy: 0.1286\n",
      "Epoch 22/40\n",
      "242/242 [==============================] - 15s 62ms/step - loss: 2.0798 - accuracy: 0.1250 - val_loss: 2.0794 - val_accuracy: 0.1286\n",
      "Epoch 22: early stopping\n"
     ]
    }
   ],
   "source": [
    "# 모든 최적 하이퍼파라미터 출력\n",
    "for hp in best_hps.values:\n",
    "    print(f\"The optimal value for {hp} is {best_hps.get(hp)}\")\n",
    "\n",
    "# 모델 훈련\n",
    "history = model.fit(train_generator,\n",
    "                    steps_per_epoch=train_generator.samples // train_generator.batch_size,\n",
    "                    validation_data=validation_generator, \n",
    "                    validation_steps=validation_generator.samples // validation_generator.batch_size,\n",
    "                    epochs=40,\n",
    "                    callbacks=[early_stopping])"
   ]
  },
  {
   "cell_type": "code",
   "execution_count": null,
   "id": "0a626528-7dd0-425a-91e8-cee2e89409c8",
   "metadata": {},
   "outputs": [],
   "source": []
  }
 ],
 "metadata": {
  "kernelspec": {
   "display_name": "tensorGPU",
   "language": "python",
   "name": "tensorgpu"
  },
  "language_info": {
   "codemirror_mode": {
    "name": "ipython",
    "version": 3
   },
   "file_extension": ".py",
   "mimetype": "text/x-python",
   "name": "python",
   "nbconvert_exporter": "python",
   "pygments_lexer": "ipython3",
   "version": "3.9.18"
  }
 },
 "nbformat": 4,
 "nbformat_minor": 5
}
