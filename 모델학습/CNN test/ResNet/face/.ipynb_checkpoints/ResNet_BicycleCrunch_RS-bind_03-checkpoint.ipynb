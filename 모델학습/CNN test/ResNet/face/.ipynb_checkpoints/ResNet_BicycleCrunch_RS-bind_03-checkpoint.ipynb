{
 "cells": [
  {
   "cell_type": "code",
   "execution_count": 1,
   "id": "037f84ae-9b6b-4fd8-aa54-ebe006186b77",
   "metadata": {},
   "outputs": [
    {
     "name": "stdout",
     "output_type": "stream",
     "text": [
      "Found 7874 images belonging to 4 classes.\n",
      "Found 1691 images belonging to 4 classes.\n",
      "Found 1687 images belonging to 4 classes.\n"
     ]
    }
   ],
   "source": [
    "import os\n",
    "import cv2\n",
    "import numpy as np\n",
    "import matplotlib.pyplot as plt\n",
    "import tensorflow as tf\n",
    "from tensorflow.keras import layers, models, optimizers\n",
    "from tensorflow.keras import regularizers\n",
    "import keras_preprocessing\n",
    "from keras_preprocessing import image\n",
    "from keras_preprocessing.image import ImageDataGenerator\n",
    "from keras.callbacks import EarlyStopping\n",
    "from keras_tuner import RandomSearch\n",
    "train_dir = r'E:\\AItemp\\BicycleCrunch\\training'\n",
    "val_dir = r'E:\\AItemp\\BicycleCrunch\\validation'\n",
    "test_dir = r'E:\\AItemp\\BicycleCrunch\\test'\n",
    "\n",
    "from tensorflow.keras.preprocessing.image import ImageDataGenerator\n",
    "\n",
    "# 데이터 증식을 위한 ImageDataGenerator 초기화\n",
    "train_datagen = ImageDataGenerator(\n",
    "    rescale=1./255,  # 이미지 스케일 조정\n",
    "    #width_shift_range=0.2,  # 이미지를 수평으로 랜덤 이동 시키는 범위\n",
    "    #height_shift_range=0.2,  # 이미지를 수직으로 랜덤 이동 시키는 범위\n",
    "    #zoom_range=0.2,  # 랜덤하게 확대할 범위\n",
    "    #horizontal_flip=True,  # 수평 방향으로 이미지 뒤집기\n",
    "    #fill_mode='nearest'  # 회전이나 너비/높이 이동으로 인해 새롭게 생성해야 할 픽셀을 채우는 방법\n",
    ")\n",
    "\n",
    "# 검증과 테스트 데이터셋에는 데이터 증식을 적용하지 않음\n",
    "test_datagen = ImageDataGenerator(rescale=1./255)\n",
    "\n",
    "# 훈련 데이터셋을 위한 제너레이터\n",
    "train_generator = train_datagen.flow_from_directory(\n",
    "    train_dir,\n",
    "    target_size=(128, 128),\n",
    "    batch_size=32,\n",
    "    class_mode='categorical',\n",
    "    shuffle=True)\n",
    "\n",
    "# 검증 데이터셋을 위한 제너레이터\n",
    "validation_generator = test_datagen.flow_from_directory(\n",
    "    val_dir,\n",
    "    target_size=(128, 128),\n",
    "    batch_size=32,\n",
    "    class_mode='categorical',\n",
    "    shuffle=False)\n",
    "\n",
    "# 테스트 데이터셋을 위한 제너레이터\n",
    "test_generator = test_datagen.flow_from_directory(\n",
    "    test_dir,\n",
    "    target_size=(128, 128),\n",
    "    batch_size=32,\n",
    "    class_mode='categorical',\n",
    "    shuffle=False)\n"
   ]
  },
  {
   "cell_type": "code",
   "execution_count": 2,
   "id": "dea49f2b-a228-497d-ba9a-f5d120443afa",
   "metadata": {},
   "outputs": [],
   "source": [
    "def build_model(hp):\n",
    "    base_model = tf.keras.applications.resnet_v2.ResNet50V2(weights=\"imagenet\",\n",
    "                                                         include_top=False, \n",
    "                                                         input_shape=(128, 128, 3))\n",
    "    for layer in base_model.layers:\n",
    "        base_model.trainable = False\n",
    "    for layer in base_model.layers[-9:]:\n",
    "        base_model.trainable = True\n",
    "    \n",
    "\n",
    "    model = models.Sequential()\n",
    "    model.add(base_model)\n",
    "    model.add(layers.Flatten())\n",
    "    # Dropout 적용\n",
    "    #model.add(layers.Dropout(rate=hp.Float('dropout_rate', min_value=0.0, max_value=0.5, step=0.1)))\n",
    "\n",
    "    # L2 규제를 적용한 Dense 레이어 추가\n",
    "    model.add(layers.Dense(units=hp.Int('units', min_value=128, max_value=512, step=128),\n",
    "                           activation='relu',))\n",
    "                           #kernel_regularizer=regularizers.l1(hp.Float('l1', min_value=1e-5, max_value=1e-2, sampling='LOG'))))\n",
    "    \n",
    "    # Dense 레이어의 유닛 수를 하이퍼파라미터로 사용\n",
    "    #model.add(layers.Dense(units=hp.Int('units', min_value=128, max_value=512, step=128), activation = 'relu'))\n",
    "    model.add(layers.Dense(4, activation = 'softmax'))\n",
    "    \n",
    "    # learning_rate를 하이퍼파라미터로 사용\n",
    "    model.compile(optimizer=optimizers.Adam(learning_rate=hp.Float('learning_rate', min_value=1e-6, max_value=1e-4, sampling='LOG')),\n",
    "                  loss='categorical_crossentropy',\n",
    "                  metrics=['accuracy'])\n",
    "    \n",
    "    return model\n"
   ]
  },
  {
   "cell_type": "code",
   "execution_count": 3,
   "id": "95709e65-3d73-4157-bdb1-36ea1c21dfb6",
   "metadata": {},
   "outputs": [
    {
     "name": "stdout",
     "output_type": "stream",
     "text": [
      "Search space summary\n",
      "Default search space size: 2\n",
      "units (Int)\n",
      "{'default': None, 'conditions': [], 'min_value': 128, 'max_value': 512, 'step': 128, 'sampling': 'linear'}\n",
      "learning_rate (Float)\n",
      "{'default': 1e-06, 'conditions': [], 'min_value': 1e-06, 'max_value': 0.0001, 'step': None, 'sampling': 'log'}\n"
     ]
    }
   ],
   "source": [
    "import keras_tuner as kt\n",
    "\n",
    "tuner = RandomSearch(\n",
    "    build_model,\n",
    "    objective='val_accuracy',\n",
    "    max_trials=20,  # 시도할 하이퍼파라미터 조합의 최대 개수\n",
    "    executions_per_trial=1,  # 각 하이퍼파라미터 설정을 평가하기 위해 모델을 훈련시킬 횟수\n",
    "    directory='E:\\AImodel\\ResNet_RandomSearch',  # 튜닝 세션의 결과를 저장할 디렉토리 이름\n",
    "    project_name='ResNet-BicycleCrunch-bind-04',) # 프로젝트 이름\n",
    "\n",
    "tuner.search_space_summary()"
   ]
  },
  {
   "cell_type": "code",
   "execution_count": 4,
   "id": "a43c18dc-2a64-4c4f-95a8-d2ded0404978",
   "metadata": {},
   "outputs": [
    {
     "name": "stdout",
     "output_type": "stream",
     "text": [
      "Trial 20 Complete [00h 05m 20s]\n",
      "val_accuracy: 0.573317289352417\n",
      "\n",
      "Best val_accuracy So Far: 0.7151442170143127\n",
      "Total elapsed time: 01h 16m 21s\n"
     ]
    }
   ],
   "source": [
    "early_stopping = EarlyStopping(monitor='val_loss', patience=5, verbose=1)\n",
    "\n",
    "tuner.search(train_generator,\n",
    "             steps_per_epoch=train_generator.samples // train_generator.batch_size,\n",
    "             validation_data=validation_generator, \n",
    "             validation_steps=validation_generator.samples // validation_generator.batch_size,\n",
    "             epochs=25,\n",
    "             callbacks=[early_stopping])\n",
    "\n",
    "\n",
    "# 최적의 하이퍼파라미터 가져오기\n",
    "best_hps = tuner.get_best_hyperparameters(num_trials=1)[0]\n",
    "\n",
    "# 최적의 하이퍼파라미터로 모델 빌드\n",
    "model = tuner.hypermodel.build(best_hps)"
   ]
  },
  {
   "cell_type": "code",
   "execution_count": 5,
   "id": "e69e2532-3934-4908-873a-ea2b30a70462",
   "metadata": {},
   "outputs": [
    {
     "name": "stdout",
     "output_type": "stream",
     "text": [
      "The optimal value for units is 384\n",
      "The optimal value for learning_rate is 9.220493149691641e-05\n",
      "Epoch 1/25\n",
      "246/246 [==============================] - 22s 77ms/step - loss: 1.2092 - accuracy: 0.4630 - val_loss: 1.1065 - val_accuracy: 0.4940\n",
      "Epoch 2/25\n",
      "246/246 [==============================] - 18s 74ms/step - loss: 0.9606 - accuracy: 0.5616 - val_loss: 1.1285 - val_accuracy: 0.5144\n",
      "Epoch 3/25\n",
      "246/246 [==============================] - 19s 75ms/step - loss: 0.7891 - accuracy: 0.6466 - val_loss: 0.9461 - val_accuracy: 0.6112\n",
      "Epoch 4/25\n",
      "246/246 [==============================] - 18s 74ms/step - loss: 0.6172 - accuracy: 0.7385 - val_loss: 0.9148 - val_accuracy: 0.6442\n",
      "Epoch 5/25\n",
      "246/246 [==============================] - 18s 73ms/step - loss: 0.5131 - accuracy: 0.7913 - val_loss: 0.9093 - val_accuracy: 0.6562\n",
      "Epoch 6/25\n",
      "246/246 [==============================] - 18s 72ms/step - loss: 0.4372 - accuracy: 0.8276 - val_loss: 0.9515 - val_accuracy: 0.6689\n",
      "Epoch 7/25\n",
      "246/246 [==============================] - 18s 74ms/step - loss: 0.3207 - accuracy: 0.8776 - val_loss: 0.9154 - val_accuracy: 0.7019\n",
      "Epoch 8/25\n",
      "246/246 [==============================] - 18s 74ms/step - loss: 0.2461 - accuracy: 0.9060 - val_loss: 0.8688 - val_accuracy: 0.7049\n",
      "Epoch 9/25\n",
      "246/246 [==============================] - 18s 74ms/step - loss: 0.2065 - accuracy: 0.9278 - val_loss: 1.1857 - val_accuracy: 0.6460\n",
      "Epoch 10/25\n",
      "246/246 [==============================] - 18s 73ms/step - loss: 0.2560 - accuracy: 0.9059 - val_loss: 0.9282 - val_accuracy: 0.7097\n",
      "Epoch 11/25\n",
      "246/246 [==============================] - 18s 72ms/step - loss: 0.1540 - accuracy: 0.9462 - val_loss: 1.1521 - val_accuracy: 0.6857\n",
      "Epoch 12/25\n",
      "246/246 [==============================] - 19s 77ms/step - loss: 0.1412 - accuracy: 0.9500 - val_loss: 1.1500 - val_accuracy: 0.6971\n",
      "Epoch 13/25\n",
      "246/246 [==============================] - 19s 76ms/step - loss: 0.1389 - accuracy: 0.9532 - val_loss: 1.1544 - val_accuracy: 0.7061\n",
      "Epoch 13: early stopping\n",
      "52/52 [==============================] - 1s 24ms/step - loss: 1.1727 - accuracy: 0.7061\n",
      "\n",
      "테스트 정확도: 0.706129789352417\n"
     ]
    }
   ],
   "source": [
    "# 모든 최적 하이퍼파라미터 출력\n",
    "for hp in best_hps.values:\n",
    "    print(f\"The optimal value for {hp} is {best_hps.get(hp)}\")\n",
    "\n",
    "# 모델 훈련\n",
    "history = model.fit(train_generator,\n",
    "                    steps_per_epoch=train_generator.samples // train_generator.batch_size,\n",
    "                    validation_data=validation_generator, \n",
    "                    validation_steps=validation_generator.samples // validation_generator.batch_size,\n",
    "                    epochs=25,\n",
    "                    callbacks=[early_stopping])\n",
    "\n",
    "# 모델 평가 (테스트 데이터셋)\n",
    "test_loss, test_acc = model.evaluate(test_generator, steps=test_generator.samples // test_generator.batch_size)\n",
    "print('\\n테스트 정확도:', test_acc)"
   ]
  },
  {
   "cell_type": "code",
   "execution_count": 6,
   "id": "8e93b5f0-1f9a-4136-9b06-a2a1465886ed",
   "metadata": {},
   "outputs": [
    {
     "name": "stderr",
     "output_type": "stream",
     "text": [
      "WARNING:absl:Found untraced functions such as _jit_compiled_convolution_op, _jit_compiled_convolution_op, _jit_compiled_convolution_op, _jit_compiled_convolution_op, _jit_compiled_convolution_op while saving (showing 5 of 53). These functions will not be directly callable after loading.\n"
     ]
    },
    {
     "name": "stdout",
     "output_type": "stream",
     "text": [
      "INFO:tensorflow:Assets written to: E:\\AImodel\\models\\Face-ResNet-BicycleCrunch-dropout-model\\assets\n"
     ]
    },
    {
     "name": "stderr",
     "output_type": "stream",
     "text": [
      "INFO:tensorflow:Assets written to: E:\\AImodel\\models\\Face-ResNet-BicycleCrunch-dropout-model\\assets\n"
     ]
    }
   ],
   "source": [
    "model.save(r'E:\\AImodel\\models\\Face-ResNet-BicycleCrunch-model')\n"
   ]
  },
  {
   "cell_type": "code",
   "execution_count": null,
   "id": "bc1f8958-810e-49fd-8a96-0add1d53cc6d",
   "metadata": {},
   "outputs": [],
   "source": []
  }
 ],
 "metadata": {
  "kernelspec": {
   "display_name": "tensorGPU",
   "language": "python",
   "name": "tensorgpu"
  },
  "language_info": {
   "codemirror_mode": {
    "name": "ipython",
    "version": 3
   },
   "file_extension": ".py",
   "mimetype": "text/x-python",
   "name": "python",
   "nbconvert_exporter": "python",
   "pygments_lexer": "ipython3",
   "version": "3.9.18"
  }
 },
 "nbformat": 4,
 "nbformat_minor": 5
}
