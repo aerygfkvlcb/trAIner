{
 "cells": [
  {
   "cell_type": "code",
   "execution_count": 1,
   "id": "037f84ae-9b6b-4fd8-aa54-ebe006186b77",
   "metadata": {},
   "outputs": [
    {
     "name": "stdout",
     "output_type": "stream",
     "text": [
      "Found 15894 images belonging to 16 classes.\n",
      "Found 3415 images belonging to 16 classes.\n",
      "Found 3406 images belonging to 16 classes.\n"
     ]
    }
   ],
   "source": [
    "import os\n",
    "import cv2\n",
    "import numpy as np\n",
    "import matplotlib.pyplot as plt\n",
    "import tensorflow as tf\n",
    "from tensorflow.keras import layers, models, optimizers\n",
    "import keras_preprocessing\n",
    "from keras_preprocessing import image\n",
    "from keras_preprocessing.image import ImageDataGenerator\n",
    "from keras.callbacks import EarlyStopping\n",
    "from keras_tuner import RandomSearch\n",
    "train_dir = r'E:\\AI\\dataset_skeleton_sep\\face\\LyingLegRaise\\training'\n",
    "val_dir = r'E:\\AI\\dataset_skeleton_sep\\face\\LyingLegRaise\\validation'\n",
    "test_dir = r'E:\\AI\\dataset_skeleton_sep\\face\\LyingLegRaise\\test'\n",
    "\n",
    "# ImageDataGenerator 초기화\n",
    "datagen = ImageDataGenerator(rescale=1./255)  # 이미지를 0과 1 사이의 값으로 정규화\n",
    "\n",
    "# 훈련, 검증, 테스트 데이터셋을 위한 제너레이터 생성\n",
    "train_generator = datagen.flow_from_directory(\n",
    "    train_dir,\n",
    "    target_size=(128, 128),\n",
    "    batch_size=32,\n",
    "    class_mode='categorical',\n",
    "    shuffle=True)\n",
    "\n",
    "validation_generator = datagen.flow_from_directory(\n",
    "    val_dir,\n",
    "    target_size=(128, 128),\n",
    "    batch_size=32,\n",
    "    class_mode='categorical',\n",
    "    shuffle=False)\n",
    "\n",
    "test_generator = datagen.flow_from_directory(\n",
    "    test_dir,\n",
    "    target_size=(128, 128),\n",
    "    batch_size=32,\n",
    "    class_mode='categorical',\n",
    "    shuffle=False)\n"
   ]
  },
  {
   "cell_type": "code",
   "execution_count": 2,
   "id": "dea49f2b-a228-497d-ba9a-f5d120443afa",
   "metadata": {},
   "outputs": [],
   "source": [
    "def build_model(hp):\n",
    "    base_model = tf.keras.applications.resnet_v2.ResNet50V2(weights=\"imagenet\",\n",
    "                                                         include_top=False, \n",
    "                                                         input_shape=(128, 128, 3))\n",
    "    for layer in base_model.layers:\n",
    "        base_model.trainable = False\n",
    "    for layer in base_model.layers[-9:]:\n",
    "        base_model.trainable = True\n",
    "    \n",
    "\n",
    "    model = models.Sequential()\n",
    "    model.add(base_model)\n",
    "    model.add(layers.Flatten())\n",
    "    \n",
    "    # Dropout 적용\n",
    "    #model.add(layers.Dropout(rate=hp.Float('dropout_rate', min_value=0.0, max_value=0.5, step=0.1)))\n",
    "\n",
    "    # L2 규제를 적용한 Dense 레이어 추가\n",
    "    model.add(layers.Dense(units=hp.Int('units', min_value=128, max_value=512, step=128),\n",
    "                           activation='relu',))\n",
    "                           #kernel_regularizer=regularizers.l2(hp.Float('l2', min_value=1e-5, max_value=1e-2, sampling='LOG'))))\n",
    "    \n",
    "    # Dense 레이어의 유닛 수를 하이퍼파라미터로 사용\n",
    "    #model.add(layers.Dense(units=hp.Int('units', min_value=128, max_value=512, step=128), activation = 'relu'))\n",
    "    \n",
    "    # Dense 레이어의 유닛 수를 하이퍼파라미터로 사용\n",
    "    #model.add(layers.Dense(units=hp.Int('units', min_value=128, max_value=512, step=128), activation = 'relu'))\n",
    "    model.add(layers.Dense(16, activation = 'softmax'))\n",
    "    \n",
    "    # learning_rate를 하이퍼파라미터로 사용\n",
    "    model.compile(optimizer=optimizers.Adam(learning_rate=hp.Float('learning_rate', min_value=1e-5, max_value=1e-3, sampling='LOG')),\n",
    "                  loss='categorical_crossentropy',\n",
    "                  metrics=['accuracy'])\n",
    "    \n",
    "    return model\n"
   ]
  },
  {
   "cell_type": "code",
   "execution_count": 3,
   "id": "95709e65-3d73-4157-bdb1-36ea1c21dfb6",
   "metadata": {},
   "outputs": [
    {
     "name": "stdout",
     "output_type": "stream",
     "text": [
      "Reloading Tuner from random_search\\SSC_RS_01\\tuner0.json\n",
      "Search space summary\n",
      "Default search space size: 2\n",
      "units (Int)\n",
      "{'default': None, 'conditions': [], 'min_value': 128, 'max_value': 512, 'step': 128, 'sampling': 'linear'}\n",
      "learning_rate (Float)\n",
      "{'default': 0.0001, 'conditions': [], 'min_value': 0.0001, 'max_value': 0.001, 'step': None, 'sampling': 'log'}\n"
     ]
    }
   ],
   "source": [
    "import keras_tuner as kt\n",
    "\n",
    "tuner = RandomSearch(\n",
    "    build_model,\n",
    "    objective='val_accuracy',\n",
    "    max_trials=10,  # 시도할 하이퍼파라미터 조합의 최대 개수\n",
    "    executions_per_trial=1,  # 각 하이퍼파라미터 설정을 평가하기 위해 모델을 훈련시킬 횟수\n",
    "    directory=r'E:\\AImodel\\ResNet_RandomSearch',  # 튜닝 세션의 결과를 저장할 디렉토리 이름\n",
    "    project_name='ResNet-LyingLegRaise-01', # 프로젝트 이름    \n",
    ")\n",
    "tuner.search_space_summary()"
   ]
  },
  {
   "cell_type": "code",
   "execution_count": 4,
   "id": "a43c18dc-2a64-4c4f-95a8-d2ded0404978",
   "metadata": {},
   "outputs": [],
   "source": [
    "early_stopping = EarlyStopping(monitor='val_loss', patience=5, verbose=1)\n",
    "\n",
    "tuner.search(train_generator,\n",
    "             steps_per_epoch=train_generator.samples // train_generator.batch_size,\n",
    "             validation_data=validation_generator, \n",
    "             validation_steps=validation_generator.samples // validation_generator.batch_size,\n",
    "             epochs=25,\n",
    "             callbacks=[early_stopping])\n",
    "\n",
    "\n",
    "# 최적의 하이퍼파라미터 가져오기\n",
    "best_hps = tuner.get_best_hyperparameters(num_trials=1)[0]\n",
    "\n",
    "# 최적의 하이퍼파라미터로 모델 빌드\n",
    "model = tuner.hypermodel.build(best_hps)"
   ]
  },
  {
   "cell_type": "code",
   "execution_count": 5,
   "id": "e69e2532-3934-4908-873a-ea2b30a70462",
   "metadata": {},
   "outputs": [
    {
     "name": "stdout",
     "output_type": "stream",
     "text": [
      "The optimal value for units is 512\n",
      "The optimal value for learning_rate is 0.00024179444722259406\n",
      "Epoch 1/25\n",
      "496/496 [==============================] - 67s 123ms/step - loss: 1.9649 - accuracy: 0.3081 - val_loss: 1.6424 - val_accuracy: 0.4077\n",
      "Epoch 2/25\n",
      "496/496 [==============================] - 37s 75ms/step - loss: 1.2504 - accuracy: 0.5375 - val_loss: 1.1128 - val_accuracy: 0.5881\n",
      "Epoch 3/25\n",
      "496/496 [==============================] - 37s 75ms/step - loss: 0.8784 - accuracy: 0.6751 - val_loss: 1.4529 - val_accuracy: 0.4979\n",
      "Epoch 4/25\n",
      "496/496 [==============================] - 37s 75ms/step - loss: 0.6422 - accuracy: 0.7639 - val_loss: 0.8927 - val_accuracy: 0.6916\n",
      "Epoch 5/25\n",
      "496/496 [==============================] - 37s 75ms/step - loss: 0.4948 - accuracy: 0.8242 - val_loss: 0.7871 - val_accuracy: 0.7376\n",
      "Epoch 6/25\n",
      "496/496 [==============================] - 37s 75ms/step - loss: 0.3798 - accuracy: 0.8633 - val_loss: 0.8518 - val_accuracy: 0.7241\n",
      "Epoch 7/25\n",
      "496/496 [==============================] - 37s 75ms/step - loss: 0.3058 - accuracy: 0.8926 - val_loss: 0.7975 - val_accuracy: 0.7503\n",
      "Epoch 8/25\n",
      "496/496 [==============================] - 37s 75ms/step - loss: 0.2607 - accuracy: 0.9120 - val_loss: 0.9838 - val_accuracy: 0.7099\n",
      "Epoch 9/25\n",
      "496/496 [==============================] - 37s 75ms/step - loss: 0.2404 - accuracy: 0.9170 - val_loss: 1.0965 - val_accuracy: 0.6459\n",
      "Epoch 10/25\n",
      "496/496 [==============================] - 37s 75ms/step - loss: 0.1948 - accuracy: 0.9330 - val_loss: 0.7756 - val_accuracy: 0.7730\n",
      "Epoch 11/25\n",
      "496/496 [==============================] - 37s 75ms/step - loss: 0.1653 - accuracy: 0.9458 - val_loss: 0.7586 - val_accuracy: 0.7804\n",
      "Epoch 12/25\n",
      "496/496 [==============================] - 37s 75ms/step - loss: 0.1516 - accuracy: 0.9511 - val_loss: 0.9174 - val_accuracy: 0.7600\n",
      "Epoch 13/25\n",
      "496/496 [==============================] - 37s 75ms/step - loss: 0.1526 - accuracy: 0.9519 - val_loss: 0.8917 - val_accuracy: 0.7827\n",
      "Epoch 14/25\n",
      "496/496 [==============================] - 37s 75ms/step - loss: 0.1341 - accuracy: 0.9568 - val_loss: 1.8820 - val_accuracy: 0.6129\n",
      "Epoch 15/25\n",
      "496/496 [==============================] - 37s 75ms/step - loss: 0.1108 - accuracy: 0.9666 - val_loss: 0.8145 - val_accuracy: 0.7901\n",
      "Epoch 16/25\n",
      "496/496 [==============================] - 37s 75ms/step - loss: 0.1130 - accuracy: 0.9663 - val_loss: 0.8574 - val_accuracy: 0.7745\n",
      "Epoch 16: early stopping\n",
      "106/106 [==============================] - 10s 97ms/step - loss: 0.8905 - accuracy: 0.7759\n",
      "\n",
      "테스트 정확도: 0.775943398475647\n"
     ]
    }
   ],
   "source": [
    "# 모든 최적 하이퍼파라미터 출력\n",
    "for hp in best_hps.values:\n",
    "    print(f\"The optimal value for {hp} is {best_hps.get(hp)}\")\n",
    "    \n",
    "# 모델 훈련\n",
    "history = model.fit(train_generator,\n",
    "                    steps_per_epoch=train_generator.samples // train_generator.batch_size,\n",
    "                    validation_data=validation_generator, \n",
    "                    validation_steps=validation_generator.samples // validation_generator.batch_size,\n",
    "                    epochs=25,\n",
    "                    callbacks=[early_stopping])\n",
    "\n",
    "# 모델 평가 (테스트 데이터셋)\n",
    "test_loss, test_acc = model.evaluate(test_generator, steps=test_generator.samples // test_generator.batch_size)\n",
    "print('\\n테스트 정확도:', test_acc)"
   ]
  },
  {
   "cell_type": "code",
   "execution_count": null,
   "id": "8e93b5f0-1f9a-4136-9b06-a2a1465886ed",
   "metadata": {},
   "outputs": [],
   "source": [
    "model.save(r'E:\\AImodel\\models\\Face-ResNet-LyingLegRaise-model')"
   ]
  }
 ],
 "metadata": {
  "kernelspec": {
   "display_name": "tensorGPU",
   "language": "python",
   "name": "tensorgpu"
  },
  "language_info": {
   "codemirror_mode": {
    "name": "ipython",
    "version": 3
   },
   "file_extension": ".py",
   "mimetype": "text/x-python",
   "name": "python",
   "nbconvert_exporter": "python",
   "pygments_lexer": "ipython3",
   "version": "3.9.18"
  }
 },
 "nbformat": 4,
 "nbformat_minor": 5
}
