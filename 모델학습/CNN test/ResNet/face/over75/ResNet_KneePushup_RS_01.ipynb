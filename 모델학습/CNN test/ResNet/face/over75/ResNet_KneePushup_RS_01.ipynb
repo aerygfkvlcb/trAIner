{
 "cells": [
  {
   "cell_type": "code",
   "execution_count": 1,
   "id": "037f84ae-9b6b-4fd8-aa54-ebe006186b77",
   "metadata": {},
   "outputs": [
    {
     "name": "stdout",
     "output_type": "stream",
     "text": [
      "Found 31146 images belonging to 32 classes.\n",
      "Found 6689 images belonging to 32 classes.\n",
      "Found 6676 images belonging to 32 classes.\n"
     ]
    }
   ],
   "source": [
    "import os\n",
    "import cv2\n",
    "import numpy as np\n",
    "import matplotlib.pyplot as plt\n",
    "import tensorflow as tf\n",
    "from tensorflow.keras import layers, models, optimizers, regularizers\n",
    "import keras_preprocessing\n",
    "from keras_preprocessing import image\n",
    "from keras_preprocessing.image import ImageDataGenerator\n",
    "from keras.callbacks import EarlyStopping\n",
    "from keras_tuner import RandomSearch\n",
    "train_dir = r'E:\\AI\\dataset_skeleton_sep\\face\\KneePushup\\training'\n",
    "val_dir = r'E:\\AI\\dataset_skeleton_sep\\face\\KneePushup\\validation'\n",
    "test_dir = r'E:\\AI\\dataset_skeleton_sep\\face\\KneePushup\\test'\n",
    "\n",
    "# ImageDataGenerator 초기화\n",
    "datagen = ImageDataGenerator(rescale=1./255)  # 이미지를 0과 1 사이의 값으로 정규화\n",
    "\n",
    "# 훈련, 검증, 테스트 데이터셋을 위한 제너레이터 생성\n",
    "train_generator = datagen.flow_from_directory(\n",
    "    train_dir,\n",
    "    target_size=(128, 128),\n",
    "    batch_size=32,\n",
    "    class_mode='categorical',\n",
    "    shuffle=True)\n",
    "\n",
    "validation_generator = datagen.flow_from_directory(\n",
    "    val_dir,\n",
    "    target_size=(128, 128),\n",
    "    batch_size=32,\n",
    "    class_mode='categorical',\n",
    "    shuffle=False)\n",
    "\n",
    "test_generator = datagen.flow_from_directory(\n",
    "    test_dir,\n",
    "    target_size=(128, 128),\n",
    "    batch_size=32,\n",
    "    class_mode='categorical',\n",
    "    shuffle=False)\n"
   ]
  },
  {
   "cell_type": "code",
   "execution_count": 2,
   "id": "dea49f2b-a228-497d-ba9a-f5d120443afa",
   "metadata": {},
   "outputs": [],
   "source": [
    "def build_model(hp):\n",
    "    base_model = tf.keras.applications.resnet_v2.ResNet50V2(weights=\"imagenet\",\n",
    "                                                         include_top=False, \n",
    "                                                         input_shape=(128, 128, 3))\n",
    "    for layer in base_model.layers:\n",
    "        base_model.trainable = False\n",
    "    for layer in base_model.layers[-9:]:\n",
    "        base_model.trainable = True\n",
    "    \n",
    "\n",
    "    model = models.Sequential()\n",
    "    model.add(base_model)\n",
    "    model.add(layers.Flatten())\n",
    "    \n",
    "    # Dropout 적용\n",
    "    #model.add(layers.Dropout(rate=hp.Float('dropout_rate', min_value=0.0, max_value=0.5, step=0.1)))\n",
    "\n",
    "    # L2 규제를 적용한 Dense 레이어 추가\n",
    "    model.add(layers.Dense(units=hp.Int('units', min_value=128, max_value=512, step=128),\n",
    "                           activation='relu',))\n",
    "                           #kernel_regularizer=regularizers.l2(hp.Float('l2', min_value=1e-5, max_value=1e-2, sampling='LOG'))))\n",
    "    \n",
    "    # Dense 레이어의 유닛 수를 하이퍼파라미터로 사용\n",
    "    #model.add(layers.Dense(units=hp.Int('units', min_value=128, max_value=512, step=128), activation = 'relu'))\n",
    "    \n",
    "    # Dense 레이어의 유닛 수를 하이퍼파라미터로 사용\n",
    "    #model.add(layers.Dense(units=hp.Int('units', min_value=128, max_value=512, step=128), activation = 'relu'))\n",
    "    model.add(layers.Dense(32, activation = 'softmax'))\n",
    "    \n",
    "    # learning_rate를 하이퍼파라미터로 사용\n",
    "    model.compile(optimizer=optimizers.Adam(learning_rate=hp.Float('learning_rate', min_value=1e-5, max_value=1e-3, sampling='LOG')),\n",
    "                  loss='categorical_crossentropy',\n",
    "                  metrics=['accuracy'])\n",
    "    \n",
    "    return model\n"
   ]
  },
  {
   "cell_type": "code",
   "execution_count": 3,
   "id": "95709e65-3d73-4157-bdb1-36ea1c21dfb6",
   "metadata": {},
   "outputs": [
    {
     "name": "stdout",
     "output_type": "stream",
     "text": [
      "Reloading Tuner from E:\\AImodel\\ResNet_RandomSearch\\ResNet-KneePushup-01\\tuner0.json\n",
      "Search space summary\n",
      "Default search space size: 2\n",
      "units (Int)\n",
      "{'default': None, 'conditions': [], 'min_value': 128, 'max_value': 512, 'step': 128, 'sampling': 'linear'}\n",
      "learning_rate (Float)\n",
      "{'default': 1e-05, 'conditions': [], 'min_value': 1e-05, 'max_value': 0.001, 'step': None, 'sampling': 'log'}\n"
     ]
    }
   ],
   "source": [
    "import keras_tuner as kt\n",
    "\n",
    "tuner = RandomSearch(\n",
    "    build_model,\n",
    "    objective='val_accuracy',\n",
    "    max_trials=5,  # 시도할 하이퍼파라미터 조합의 최대 개수\n",
    "    executions_per_trial=1,  # 각 하이퍼파라미터 설정을 평가하기 위해 모델을 훈련시킬 횟수\n",
    "    directory=r'E:\\AImodel\\ResNet_RandomSearch',  # 튜닝 세션의 결과를 저장할 디렉토리 이름\n",
    "    project_name='ResNet-KneePushup-01', # 프로젝트 이름    \n",
    ")\n",
    "tuner.search_space_summary()"
   ]
  },
  {
   "cell_type": "code",
   "execution_count": 4,
   "id": "a43c18dc-2a64-4c4f-95a8-d2ded0404978",
   "metadata": {},
   "outputs": [],
   "source": [
    "early_stopping = EarlyStopping(monitor='val_loss', patience=5, verbose=1)\n",
    "\n",
    "tuner.search(train_generator,\n",
    "             steps_per_epoch=train_generator.samples // train_generator.batch_size,\n",
    "             validation_data=validation_generator, \n",
    "             validation_steps=validation_generator.samples // validation_generator.batch_size,\n",
    "             epochs=25,\n",
    "             callbacks=[early_stopping])\n",
    "\n",
    "\n",
    "# 최적의 하이퍼파라미터 가져오기\n",
    "best_hps = tuner.get_best_hyperparameters(num_trials=1)[0]\n",
    "\n",
    "# 최적의 하이퍼파라미터로 모델 빌드\n",
    "model = tuner.hypermodel.build(best_hps)"
   ]
  },
  {
   "cell_type": "code",
   "execution_count": 5,
   "id": "e69e2532-3934-4908-873a-ea2b30a70462",
   "metadata": {},
   "outputs": [
    {
     "name": "stdout",
     "output_type": "stream",
     "text": [
      "The optimal value for units is 384\n",
      "The optimal value for learning_rate is 0.00013774307036805428\n",
      "Epoch 1/25\n",
      "973/973 [==============================] - 84s 80ms/step - loss: 2.6358 - accuracy: 0.2230 - val_loss: 2.0702 - val_accuracy: 0.3405\n",
      "Epoch 2/25\n",
      "973/973 [==============================] - 77s 79ms/step - loss: 1.6718 - accuracy: 0.4599 - val_loss: 1.4814 - val_accuracy: 0.5269\n",
      "Epoch 3/25\n",
      "973/973 [==============================] - 74s 76ms/step - loss: 1.0956 - accuracy: 0.6387 - val_loss: 1.1596 - val_accuracy: 0.6234\n",
      "Epoch 4/25\n",
      "973/973 [==============================] - 75s 77ms/step - loss: 0.7461 - accuracy: 0.7483 - val_loss: 1.0593 - val_accuracy: 0.6670\n",
      "Epoch 5/25\n",
      "973/973 [==============================] - 77s 79ms/step - loss: 0.5172 - accuracy: 0.8275 - val_loss: 0.9144 - val_accuracy: 0.7205\n",
      "Epoch 6/25\n",
      "973/973 [==============================] - 79s 81ms/step - loss: 0.3801 - accuracy: 0.8720 - val_loss: 0.8121 - val_accuracy: 0.7584\n",
      "Epoch 7/25\n",
      "973/973 [==============================] - 81s 83ms/step - loss: 0.2965 - accuracy: 0.9032 - val_loss: 0.9141 - val_accuracy: 0.7364\n",
      "Epoch 8/25\n",
      "973/973 [==============================] - 74s 76ms/step - loss: 0.2516 - accuracy: 0.9195 - val_loss: 0.8476 - val_accuracy: 0.7581\n",
      "Epoch 9/25\n",
      "973/973 [==============================] - 78s 81ms/step - loss: 0.2223 - accuracy: 0.9283 - val_loss: 0.8136 - val_accuracy: 0.7823\n",
      "Epoch 10/25\n",
      "973/973 [==============================] - 74s 76ms/step - loss: 0.1880 - accuracy: 0.9419 - val_loss: 0.9665 - val_accuracy: 0.7585\n",
      "Epoch 11/25\n",
      "973/973 [==============================] - 76s 78ms/step - loss: 0.1687 - accuracy: 0.9483 - val_loss: 0.8024 - val_accuracy: 0.7711\n",
      "Epoch 12/25\n",
      "973/973 [==============================] - 78s 80ms/step - loss: 0.1421 - accuracy: 0.9567 - val_loss: 0.9171 - val_accuracy: 0.7687\n",
      "Epoch 13/25\n",
      "973/973 [==============================] - 72s 74ms/step - loss: 0.1548 - accuracy: 0.9529 - val_loss: 0.8027 - val_accuracy: 0.7929\n",
      "Epoch 14/25\n",
      "973/973 [==============================] - 71s 73ms/step - loss: 0.1256 - accuracy: 0.9629 - val_loss: 0.7799 - val_accuracy: 0.8109\n",
      "Epoch 15/25\n",
      "973/973 [==============================] - 71s 73ms/step - loss: 0.1171 - accuracy: 0.9645 - val_loss: 0.9384 - val_accuracy: 0.7714\n",
      "Epoch 16/25\n",
      "973/973 [==============================] - 71s 72ms/step - loss: 0.1142 - accuracy: 0.9662 - val_loss: 0.7456 - val_accuracy: 0.8122\n",
      "Epoch 17/25\n",
      "973/973 [==============================] - 72s 74ms/step - loss: 0.1067 - accuracy: 0.9690 - val_loss: 0.8532 - val_accuracy: 0.7956\n",
      "Epoch 18/25\n",
      "973/973 [==============================] - 78s 81ms/step - loss: 0.1036 - accuracy: 0.9702 - val_loss: 0.7317 - val_accuracy: 0.8149\n",
      "Epoch 19/25\n",
      "973/973 [==============================] - 74s 77ms/step - loss: 0.0951 - accuracy: 0.9735 - val_loss: 0.7211 - val_accuracy: 0.8272\n",
      "Epoch 20/25\n",
      "973/973 [==============================] - 77s 79ms/step - loss: 0.0896 - accuracy: 0.9752 - val_loss: 0.7506 - val_accuracy: 0.8110\n",
      "Epoch 21/25\n",
      "973/973 [==============================] - 75s 77ms/step - loss: 0.0902 - accuracy: 0.9751 - val_loss: 0.8970 - val_accuracy: 0.7832\n",
      "Epoch 22/25\n",
      "973/973 [==============================] - 76s 79ms/step - loss: 0.0801 - accuracy: 0.9796 - val_loss: 0.8053 - val_accuracy: 0.8149\n",
      "Epoch 23/25\n",
      "973/973 [==============================] - 80s 82ms/step - loss: 0.0884 - accuracy: 0.9754 - val_loss: 0.9016 - val_accuracy: 0.7830\n",
      "Epoch 24/25\n",
      "973/973 [==============================] - 76s 78ms/step - loss: 0.0699 - accuracy: 0.9813 - val_loss: 0.8823 - val_accuracy: 0.7993\n",
      "Epoch 24: early stopping\n",
      "208/208 [==============================] - 5s 22ms/step - loss: 0.8550 - accuracy: 0.7958\n",
      "\n",
      "테스트 정확도: 0.795823335647583\n"
     ]
    }
   ],
   "source": [
    "# 모든 최적 하이퍼파라미터 출력\n",
    "for hp in best_hps.values:\n",
    "    print(f\"The optimal value for {hp} is {best_hps.get(hp)}\")\n",
    "    \n",
    "# 모델 훈련\n",
    "history = model.fit(train_generator,\n",
    "                    steps_per_epoch=train_generator.samples // train_generator.batch_size,\n",
    "                    validation_data=validation_generator, \n",
    "                    validation_steps=validation_generator.samples // validation_generator.batch_size,\n",
    "                    epochs=25,\n",
    "                    callbacks=[early_stopping])\n",
    "\n",
    "# 모델 평가 (테스트 데이터셋)\n",
    "test_loss, test_acc = model.evaluate(test_generator, steps=test_generator.samples // test_generator.batch_size)\n",
    "print('\\n테스트 정확도:', test_acc)"
   ]
  },
  {
   "cell_type": "code",
   "execution_count": 6,
   "id": "8e93b5f0-1f9a-4136-9b06-a2a1465886ed",
   "metadata": {},
   "outputs": [
    {
     "name": "stderr",
     "output_type": "stream",
     "text": [
      "WARNING:absl:Found untraced functions such as _jit_compiled_convolution_op, _jit_compiled_convolution_op, _jit_compiled_convolution_op, _jit_compiled_convolution_op, _jit_compiled_convolution_op while saving (showing 5 of 53). These functions will not be directly callable after loading.\n"
     ]
    },
    {
     "name": "stdout",
     "output_type": "stream",
     "text": [
      "INFO:tensorflow:Assets written to: E:\\AImodel\\models\\Face-ResNet-KneePushup-model\\assets\n"
     ]
    },
    {
     "name": "stderr",
     "output_type": "stream",
     "text": [
      "INFO:tensorflow:Assets written to: E:\\AImodel\\models\\Face-ResNet-KneePushup-model\\assets\n"
     ]
    }
   ],
   "source": [
    "model.save(r'E:\\AImodel\\models\\Face-ResNet-KneePushup-model')"
   ]
  },
  {
   "cell_type": "code",
   "execution_count": null,
   "id": "ea8308c7-b80e-4182-882f-39d5567196e2",
   "metadata": {},
   "outputs": [],
   "source": []
  }
 ],
 "metadata": {
  "kernelspec": {
   "display_name": "tensorGPU",
   "language": "python",
   "name": "tensorgpu"
  },
  "language_info": {
   "codemirror_mode": {
    "name": "ipython",
    "version": 3
   },
   "file_extension": ".py",
   "mimetype": "text/x-python",
   "name": "python",
   "nbconvert_exporter": "python",
   "pygments_lexer": "ipython3",
   "version": "3.9.18"
  }
 },
 "nbformat": 4,
 "nbformat_minor": 5
}
