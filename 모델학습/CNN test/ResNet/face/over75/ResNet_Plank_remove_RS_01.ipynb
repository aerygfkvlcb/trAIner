{
 "cells": [
  {
   "cell_type": "code",
   "execution_count": 1,
   "id": "037f84ae-9b6b-4fd8-aa54-ebe006186b77",
   "metadata": {},
   "outputs": [
    {
     "name": "stdout",
     "output_type": "stream",
     "text": [
      "Found 4072 images belonging to 4 classes.\n",
      "Found 874 images belonging to 4 classes.\n",
      "Found 873 images belonging to 4 classes.\n"
     ]
    }
   ],
   "source": [
    "import os\n",
    "import cv2\n",
    "import numpy as np\n",
    "import matplotlib.pyplot as plt\n",
    "import tensorflow as tf\n",
    "from tensorflow.keras import layers, models, optimizers, regularizers\n",
    "import keras_preprocessing\n",
    "from keras_preprocessing import image\n",
    "from keras_preprocessing.image import ImageDataGenerator\n",
    "from keras.callbacks import EarlyStopping\n",
    "from keras_tuner import RandomSearch\n",
    "\n",
    "from sklearn.model_selection import KFold\n",
    "\n",
    "# K-Fold 교차 검증 설정\n",
    "k = 5\n",
    "kf = KFold(n_splits=k, shuffle=True, random_state=42)\n",
    "\n",
    "train_dir = r'E:\\AItemp\\Flank\\training'\n",
    "val_dir = r'E:\\AItemp\\Flank\\validation'\n",
    "test_dir = r'E:\\AItemp\\Flank\\test'\n",
    "\n",
    "# ImageDataGenerator 초기화\n",
    "datagen = ImageDataGenerator(rescale=1./255)  # 이미지를 0과 1 사이의 값으로 정규화\n",
    "\n",
    "# 훈련, 검증, 테스트 데이터셋을 위한 제너레이터 생성\n",
    "train_generator = datagen.flow_from_directory(\n",
    "    train_dir,\n",
    "    target_size=(128, 128),\n",
    "    batch_size=32,\n",
    "    class_mode='categorical',\n",
    "    shuffle=True)\n",
    "\n",
    "validation_generator = datagen.flow_from_directory(\n",
    "    val_dir,\n",
    "    target_size=(128, 128),\n",
    "    batch_size=32,\n",
    "    class_mode='categorical',\n",
    "    shuffle=False)\n",
    "\n",
    "test_generator = datagen.flow_from_directory(\n",
    "    test_dir,\n",
    "    target_size=(128, 128),\n",
    "    batch_size=32,\n",
    "    class_mode='categorical',\n",
    "    shuffle=False)\n"
   ]
  },
  {
   "cell_type": "code",
   "execution_count": 2,
   "id": "dea49f2b-a228-497d-ba9a-f5d120443afa",
   "metadata": {},
   "outputs": [],
   "source": [
    "def build_model(hp):\n",
    "    base_model = tf.keras.applications.resnet_v2.ResNet50V2(weights=\"imagenet\",\n",
    "                                                         include_top=False, \n",
    "                                                         input_shape=(128, 128, 3))\n",
    "    for layer in base_model.layers:\n",
    "        base_model.trainable = False\n",
    "    for layer in base_model.layers[-9:]:\n",
    "        base_model.trainable = True\n",
    "    \n",
    "\n",
    "    model = models.Sequential()\n",
    "    model.add(base_model)\n",
    "    model.add(layers.Flatten())\n",
    "    \n",
    "    # Dropout 적용\n",
    "    #model.add(layers.Dropout(rate=hp.Float('dropout_rate', min_value=0.0, max_value=0.5, step=0.1)))\n",
    "\n",
    "    # L2 규제를 적용한 Dense 레이어 추가\n",
    "    model.add(layers.Dense(units=hp.Int('units', min_value=128, max_value=512, step=128),\n",
    "                           activation='relu',))\n",
    "                           #kernel_regularizer=regularizers.l2(hp.Float('l2', min_value=1e-5, max_value=1e-2, sampling='LOG'))))\n",
    "    \n",
    "    # Dense 레이어의 유닛 수를 하이퍼파라미터로 사용\n",
    "    #model.add(layers.Dense(units=hp.Int('units', min_value=128, max_value=512, step=128), activation = 'relu'))\n",
    "    \n",
    "    # Dense 레이어의 유닛 수를 하이퍼파라미터로 사용\n",
    "    #model.add(layers.Dense(units=hp.Int('units', min_value=128, max_value=512, step=128), activation = 'relu'))\n",
    "    model.add(layers.Dense(4, activation = 'softmax'))\n",
    "    \n",
    "    # learning_rate를 하이퍼파라미터로 사용\n",
    "    model.compile(optimizer=optimizers.Adam(learning_rate=hp.Float('learning_rate', min_value=1e-5, max_value=1e-3, sampling='LOG')),\n",
    "                  loss='categorical_crossentropy',\n",
    "                  metrics=['accuracy'])\n",
    "    \n",
    "    return model\n"
   ]
  },
  {
   "cell_type": "code",
   "execution_count": 3,
   "id": "95709e65-3d73-4157-bdb1-36ea1c21dfb6",
   "metadata": {},
   "outputs": [
    {
     "name": "stdout",
     "output_type": "stream",
     "text": [
      "Reloading Tuner from E:\\AImodel\\ResNet_remove\\ResNet-Plank-remove-01\\tuner0.json\n",
      "Search space summary\n",
      "Default search space size: 2\n",
      "units (Int)\n",
      "{'default': None, 'conditions': [], 'min_value': 128, 'max_value': 512, 'step': 128, 'sampling': 'linear'}\n",
      "learning_rate (Float)\n",
      "{'default': 1e-05, 'conditions': [], 'min_value': 1e-05, 'max_value': 0.001, 'step': None, 'sampling': 'log'}\n"
     ]
    }
   ],
   "source": [
    "import keras_tuner as kt\n",
    "\n",
    "tuner = RandomSearch(\n",
    "    build_model,\n",
    "    objective='val_accuracy',\n",
    "    max_trials=5,  # 시도할 하이퍼파라미터 조합의 최대 개수\n",
    "    executions_per_trial=1,  # 각 하이퍼파라미터 설정을 평가하기 위해 모델을 훈련시킬 횟수\n",
    "    directory=r'E:\\AImodel\\ResNet_remove',  # 튜닝 세션의 결과를 저장할 디렉토리 이름\n",
    "    project_name='ResNet-Plank-remove-01', # 프로젝트 이름    \n",
    ")\n",
    "tuner.search_space_summary()"
   ]
  },
  {
   "cell_type": "code",
   "execution_count": 4,
   "id": "a43c18dc-2a64-4c4f-95a8-d2ded0404978",
   "metadata": {},
   "outputs": [],
   "source": [
    "early_stopping = EarlyStopping(monitor='val_loss', patience=5, verbose=1)\n",
    "\n",
    "tuner.search(train_generator,\n",
    "             steps_per_epoch=train_generator.samples // train_generator.batch_size,\n",
    "             validation_data=validation_generator, \n",
    "             validation_steps=validation_generator.samples // validation_generator.batch_size,\n",
    "             epochs=25,\n",
    "             callbacks=[early_stopping])\n",
    "\n",
    "\n",
    "# 최적의 하이퍼파라미터 가져오기\n",
    "best_hps = tuner.get_best_hyperparameters(num_trials=1)[0]\n",
    "\n",
    "# 최적의 하이퍼파라미터로 모델 빌드\n",
    "model = tuner.hypermodel.build(best_hps)"
   ]
  },
  {
   "cell_type": "code",
   "execution_count": 5,
   "id": "e69e2532-3934-4908-873a-ea2b30a70462",
   "metadata": {},
   "outputs": [
    {
     "name": "stdout",
     "output_type": "stream",
     "text": [
      "The optimal value for units is 512\n",
      "The optimal value for learning_rate is 3.9903354967580395e-05\n",
      "Epoch 1/25\n",
      "127/127 [==============================] - 16s 78ms/step - loss: 1.0184 - accuracy: 0.6248 - val_loss: 1.4170 - val_accuracy: 0.4977\n",
      "Epoch 2/25\n",
      "127/127 [==============================] - 9s 72ms/step - loss: 0.3833 - accuracy: 0.8584 - val_loss: 0.8156 - val_accuracy: 0.7025\n",
      "Epoch 3/25\n",
      "127/127 [==============================] - 16s 126ms/step - loss: 0.2047 - accuracy: 0.9295 - val_loss: 0.5411 - val_accuracy: 0.8194\n",
      "Epoch 4/25\n",
      "127/127 [==============================] - 15s 122ms/step - loss: 0.1207 - accuracy: 0.9619 - val_loss: 0.5852 - val_accuracy: 0.8229\n",
      "Epoch 5/25\n",
      "127/127 [==============================] - 11s 83ms/step - loss: 0.1193 - accuracy: 0.9609 - val_loss: 0.5667 - val_accuracy: 0.8507\n",
      "Epoch 6/25\n",
      "127/127 [==============================] - 13s 100ms/step - loss: 0.1058 - accuracy: 0.9646 - val_loss: 0.5102 - val_accuracy: 0.8727\n",
      "Epoch 7/25\n",
      "127/127 [==============================] - 11s 88ms/step - loss: 0.1074 - accuracy: 0.9676 - val_loss: 0.4689 - val_accuracy: 0.8692\n",
      "Epoch 8/25\n",
      "127/127 [==============================] - 10s 82ms/step - loss: 0.1093 - accuracy: 0.9641 - val_loss: 0.5206 - val_accuracy: 0.8715\n",
      "Epoch 9/25\n",
      "127/127 [==============================] - 10s 81ms/step - loss: 0.0784 - accuracy: 0.9730 - val_loss: 0.4601 - val_accuracy: 0.8819\n",
      "Epoch 10/25\n",
      "127/127 [==============================] - 10s 81ms/step - loss: 0.0591 - accuracy: 0.9847 - val_loss: 0.4463 - val_accuracy: 0.8889\n",
      "Epoch 11/25\n",
      "127/127 [==============================] - 10s 81ms/step - loss: 0.0500 - accuracy: 0.9837 - val_loss: 0.4596 - val_accuracy: 0.8877\n",
      "Epoch 12/25\n",
      "127/127 [==============================] - 10s 81ms/step - loss: 0.0249 - accuracy: 0.9923 - val_loss: 0.5498 - val_accuracy: 0.9028\n",
      "Epoch 13/25\n",
      "127/127 [==============================] - 10s 81ms/step - loss: 0.0301 - accuracy: 0.9923 - val_loss: 0.4282 - val_accuracy: 0.9097\n",
      "Epoch 14/25\n",
      "127/127 [==============================] - 10s 81ms/step - loss: 0.0597 - accuracy: 0.9834 - val_loss: 0.5952 - val_accuracy: 0.8669\n",
      "Epoch 15/25\n",
      "127/127 [==============================] - 10s 81ms/step - loss: 0.0818 - accuracy: 0.9762 - val_loss: 0.5480 - val_accuracy: 0.8808\n",
      "Epoch 16/25\n",
      "127/127 [==============================] - 10s 81ms/step - loss: 0.0590 - accuracy: 0.9822 - val_loss: 0.3844 - val_accuracy: 0.8981\n",
      "Epoch 17/25\n",
      "127/127 [==============================] - 10s 81ms/step - loss: 0.0336 - accuracy: 0.9899 - val_loss: 0.4923 - val_accuracy: 0.8958\n",
      "Epoch 18/25\n",
      "127/127 [==============================] - 10s 81ms/step - loss: 0.0486 - accuracy: 0.9889 - val_loss: 0.4447 - val_accuracy: 0.8958\n",
      "Epoch 19/25\n",
      "127/127 [==============================] - 10s 81ms/step - loss: 0.0508 - accuracy: 0.9842 - val_loss: 0.4674 - val_accuracy: 0.8935\n",
      "Epoch 20/25\n",
      "127/127 [==============================] - 10s 81ms/step - loss: 0.0628 - accuracy: 0.9812 - val_loss: 0.3879 - val_accuracy: 0.9132\n",
      "Epoch 21/25\n",
      "127/127 [==============================] - 10s 81ms/step - loss: 0.0318 - accuracy: 0.9901 - val_loss: 0.4600 - val_accuracy: 0.9005\n",
      "Epoch 21: early stopping\n",
      "27/27 [==============================] - 3s 109ms/step - loss: 0.3785 - accuracy: 0.9109\n",
      "\n",
      "테스트 정확도: 0.9108796119689941\n"
     ]
    }
   ],
   "source": [
    "# 모든 최적 하이퍼파라미터 출력\n",
    "for hp in best_hps.values:\n",
    "    print(f\"The optimal value for {hp} is {best_hps.get(hp)}\")\n",
    "    \n",
    "# 모델 훈련\n",
    "history = model.fit(train_generator,\n",
    "                    steps_per_epoch=train_generator.samples // train_generator.batch_size,\n",
    "                    validation_data=validation_generator, \n",
    "                    validation_steps=validation_generator.samples // validation_generator.batch_size,\n",
    "                    epochs=25,\n",
    "                    callbacks=[early_stopping])\n",
    "\n",
    "# 모델 평가 (테스트 데이터셋)\n",
    "test_loss, test_acc = model.evaluate(test_generator, steps=test_generator.samples // test_generator.batch_size)\n",
    "print('\\n테스트 정확도:', test_acc)"
   ]
  },
  {
   "cell_type": "code",
   "execution_count": 6,
   "id": "8e93b5f0-1f9a-4136-9b06-a2a1465886ed",
   "metadata": {},
   "outputs": [
    {
     "name": "stderr",
     "output_type": "stream",
     "text": [
      "WARNING:absl:Found untraced functions such as _jit_compiled_convolution_op, _jit_compiled_convolution_op, _jit_compiled_convolution_op, _jit_compiled_convolution_op, _jit_compiled_convolution_op while saving (showing 5 of 53). These functions will not be directly callable after loading.\n"
     ]
    },
    {
     "name": "stdout",
     "output_type": "stream",
     "text": [
      "INFO:tensorflow:Assets written to: E:\\AImodel\\models\\Face-ResNet-Plank-remove-model\\assets\n"
     ]
    },
    {
     "name": "stderr",
     "output_type": "stream",
     "text": [
      "INFO:tensorflow:Assets written to: E:\\AImodel\\models\\Face-ResNet-Plank-remove-model\\assets\n"
     ]
    }
   ],
   "source": [
    "model.save(r'E:\\AImodel\\models\\Face-ResNet-Plank-remove-model')"
   ]
  },
  {
   "cell_type": "code",
   "execution_count": null,
   "id": "ea8308c7-b80e-4182-882f-39d5567196e2",
   "metadata": {},
   "outputs": [],
   "source": [
    " "
   ]
  }
 ],
 "metadata": {
  "kernelspec": {
   "display_name": "tensorGPU",
   "language": "python",
   "name": "tensorgpu"
  },
  "language_info": {
   "codemirror_mode": {
    "name": "ipython",
    "version": 3
   },
   "file_extension": ".py",
   "mimetype": "text/x-python",
   "name": "python",
   "nbconvert_exporter": "python",
   "pygments_lexer": "ipython3",
   "version": "3.9.18"
  }
 },
 "nbformat": 4,
 "nbformat_minor": 5
}
