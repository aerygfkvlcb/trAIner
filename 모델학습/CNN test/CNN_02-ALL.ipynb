{
 "cells": [
  {
   "cell_type": "code",
   "execution_count": 1,
   "id": "ebe32dcf-fef8-4932-be38-39a137b2b096",
   "metadata": {},
   "outputs": [
    {
     "name": "stdout",
     "output_type": "stream",
     "text": [
      "Num GPUs Available:  1\n"
     ]
    }
   ],
   "source": [
    "import tensorflow as tf\n",
    "\n",
    "print(\"Num GPUs Available: \", len(tf.config.experimental.list_physical_devices('GPU')))\n"
   ]
  },
  {
   "cell_type": "code",
   "execution_count": 2,
   "id": "07f0e78a-673a-4a7f-9f2a-fde32ad2cf7c",
   "metadata": {},
   "outputs": [
    {
     "name": "stdout",
     "output_type": "stream",
     "text": [
      "Found 7775 images belonging to 8 classes.\n",
      "Found 1670 images belonging to 8 classes.\n",
      "Found 1667 images belonging to 8 classes.\n",
      "{'BicycleCrunch_505': 0, 'BicycleCrunch_506': 1, 'BicycleCrunch_507': 2, 'BicycleCrunch_508': 3, 'BicycleCrunch_509': 4, 'BicycleCrunch_510': 5, 'BicycleCrunch_511': 6, 'BicycleCrunch_512': 7}\n"
     ]
    }
   ],
   "source": [
    "import numpy as np\n",
    "import tensorflow as tf\n",
    "import os\n",
    "import cv2\n",
    "from PIL import Image\n",
    "from tensorflow import keras\n",
    "from tensorflow.keras.models import Sequential\n",
    "from tensorflow.keras.layers import Conv2D, MaxPooling2D, Flatten, Dense, Dropout\n",
    "from tensorflow.keras.callbacks import EarlyStopping\n",
    "from tensorflow.keras.preprocessing.image import ImageDataGenerator\n",
    "from tensorflow.keras.regularizers import l2\n",
    "\n",
    "\n",
    "\n",
    "\n",
    "train_dir = r'E:\\AI\\dataset_skeleton_sep\\side\\BicycleCrunch\\training'\n",
    "val_dir = r'E:\\AI\\dataset_skeleton_sep\\side\\BicycleCrunch\\validation'\n",
    "test_dir = r'E:\\AI\\dataset_skeleton_sep\\side\\BicycleCrunch\\test'\n",
    "\n",
    "# ImageDataGenerator 초기화\n",
    "\n",
    "datagen = ImageDataGenerator(rescale=1./255)  # 이미지를 0과 1 사이의 값으로 정규화\n",
    "\n",
    "# 훈련, 검증 데이터셋을 위한 제너레이터 생성\n",
    "train_generator = datagen.flow_from_directory(\n",
    "        train_dir,  # 훈련 데이터셋 디렉토리\n",
    "        target_size=(128, 128),\n",
    "        batch_size=32,\n",
    "        class_mode='categorical',\n",
    "        shuffle=True)\n",
    "\n",
    "validation_generator = datagen.flow_from_directory(\n",
    "        val_dir,  # 훈련 데이터셋 디렉토리\n",
    "        target_size=(128, 128), \n",
    "        batch_size=32,\n",
    "        class_mode='categorical',\n",
    "        shuffle=True) \n",
    "\n",
    "# 테스트 데이터셋을 위한 제너레이터 생성\n",
    "test_generator = datagen.flow_from_directory(\n",
    "        test_dir,  # 테스트 데이터셋 디렉토리\n",
    "        target_size=(128, 128),\n",
    "        batch_size=32,\n",
    "        class_mode='categorical',  # 다중 분류 문제인 경우 'categorical'\n",
    "        shuffle=False)  # 평가 시 데이터 순서를 유지\n",
    "\n",
    "print(train_generator.class_indices)"
   ]
  },
  {
   "cell_type": "code",
   "execution_count": 3,
   "id": "1a60c9d2-4193-4671-95c6-f8d7cab51e06",
   "metadata": {},
   "outputs": [
    {
     "name": "stdout",
     "output_type": "stream",
     "text": [
      "Epoch 1/25\n",
      "485/485 [==============================] - 38s 73ms/step - loss: 2.1548 - accuracy: 0.1447 - val_loss: 2.0678 - val_accuracy: 0.2133\n",
      "Epoch 2/25\n",
      "485/485 [==============================] - 12s 25ms/step - loss: 2.0341 - accuracy: 0.2159 - val_loss: 1.9317 - val_accuracy: 0.3221\n",
      "Epoch 3/25\n",
      "485/485 [==============================] - 12s 25ms/step - loss: 1.9175 - accuracy: 0.2765 - val_loss: 1.8143 - val_accuracy: 0.3588\n",
      "Epoch 4/25\n",
      "485/485 [==============================] - 16s 32ms/step - loss: 1.8314 - accuracy: 0.3252 - val_loss: 1.7705 - val_accuracy: 0.3870\n",
      "Epoch 5/25\n",
      "485/485 [==============================] - 15s 31ms/step - loss: 1.7676 - accuracy: 0.3423 - val_loss: 1.7148 - val_accuracy: 0.4243\n",
      "Epoch 6/25\n",
      "485/485 [==============================] - 12s 25ms/step - loss: 1.7033 - accuracy: 0.3649 - val_loss: 1.6706 - val_accuracy: 0.4255\n",
      "Epoch 7/25\n",
      "485/485 [==============================] - 13s 27ms/step - loss: 1.6658 - accuracy: 0.3837 - val_loss: 1.6758 - val_accuracy: 0.4345\n",
      "Epoch 8/25\n",
      "485/485 [==============================] - 13s 26ms/step - loss: 1.6301 - accuracy: 0.3926 - val_loss: 1.6576 - val_accuracy: 0.4339\n",
      "Epoch 9/25\n",
      "485/485 [==============================] - 19s 39ms/step - loss: 1.6147 - accuracy: 0.4011 - val_loss: 1.6386 - val_accuracy: 0.4519\n",
      "Epoch 10/25\n",
      "485/485 [==============================] - 104s 214ms/step - loss: 1.5830 - accuracy: 0.4153 - val_loss: 1.6398 - val_accuracy: 0.4417\n",
      "Epoch 11/25\n",
      "485/485 [==============================] - 15s 32ms/step - loss: 1.5784 - accuracy: 0.4263 - val_loss: 1.6392 - val_accuracy: 0.4585\n",
      "Epoch 12/25\n",
      "485/485 [==============================] - 13s 27ms/step - loss: 1.5527 - accuracy: 0.4307 - val_loss: 1.6412 - val_accuracy: 0.4579\n",
      "Epoch 13/25\n",
      "485/485 [==============================] - 12s 25ms/step - loss: 1.5452 - accuracy: 0.4377 - val_loss: 1.6580 - val_accuracy: 0.4477\n",
      "Epoch 14/25\n",
      "485/485 [==============================] - 13s 28ms/step - loss: 1.5438 - accuracy: 0.4314 - val_loss: 1.6498 - val_accuracy: 0.4513\n",
      "Epoch 15/25\n",
      "485/485 [==============================] - 16s 34ms/step - loss: 1.5420 - accuracy: 0.4376 - val_loss: 1.6686 - val_accuracy: 0.4549\n",
      "Epoch 16/25\n",
      "485/485 [==============================] - 13s 27ms/step - loss: 1.5066 - accuracy: 0.4511 - val_loss: 1.6640 - val_accuracy: 0.4555\n",
      "Epoch 17/25\n",
      "485/485 [==============================] - 14s 28ms/step - loss: 1.4879 - accuracy: 0.4578 - val_loss: 1.6649 - val_accuracy: 0.4627\n",
      "Epoch 18/25\n",
      "485/485 [==============================] - 29s 59ms/step - loss: 1.4917 - accuracy: 0.4535 - val_loss: 1.6738 - val_accuracy: 0.4525\n",
      "Epoch 19/25\n",
      "485/485 [==============================] - 132s 268ms/step - loss: 1.4652 - accuracy: 0.4651 - val_loss: 1.7145 - val_accuracy: 0.4669\n",
      "104/104 [==============================] - 6s 57ms/step - loss: 1.7340 - accuracy: 0.4621\n",
      "\n",
      "테스트 정확도: 0.46213942766189575\n"
     ]
    }
   ],
   "source": [
    "early_stopping = EarlyStopping(monitor='val_loss', patience=10)\n",
    "\n",
    "# 모델 구성\n",
    "model = Sequential([\n",
    "    Conv2D(32, (3, 3), activation='relu', input_shape=(128, 128, 3)),\n",
    "    MaxPooling2D(2, 2),\n",
    "    Conv2D(64, (3, 3), activation='relu'),\n",
    "    MaxPooling2D(2, 2),\n",
    "    Flatten(),\n",
    "    Dense(64, activation='relu', kernel_regularizer=l2(0.001)),\n",
    "    Dropout(0.5),\n",
    "    Dense(8, activation='softmax')\n",
    "])\n",
    "\n",
    "# 모델 컴파일\n",
    "model.compile(optimizer='adam',\n",
    "              loss='categorical_crossentropy',\n",
    "              metrics=['accuracy'])\n",
    "\n",
    "# 모델 훈련\n",
    "history = model.fit(\n",
    "        train_generator,\n",
    "        steps_per_epoch=train_generator.samples // train_generator.batch_size,\n",
    "        epochs=25,\n",
    "        validation_data=validation_generator,\n",
    "        validation_steps=validation_generator.samples // validation_generator.batch_size,\n",
    "        callbacks=[early_stopping])\n",
    "\n",
    "# 모델 평가 (테스트 데이터셋)\n",
    "test_loss, test_acc = model.evaluate(test_generator, steps=test_generator.samples // test_generator.batch_size)\n",
    "print('\\n테스트 정확도:', test_acc)\n"
   ]
  },
  {
   "cell_type": "code",
   "execution_count": null,
   "id": "09b0caf9-c6a2-454c-8c61-3cf28e540121",
   "metadata": {},
   "outputs": [],
   "source": [
    "model.summary()"
   ]
  }
 ],
 "metadata": {
  "kernelspec": {
   "display_name": "tensorGPU",
   "language": "python",
   "name": "tensorgpu"
  },
  "language_info": {
   "codemirror_mode": {
    "name": "ipython",
    "version": 3
   },
   "file_extension": ".py",
   "mimetype": "text/x-python",
   "name": "python",
   "nbconvert_exporter": "python",
   "pygments_lexer": "ipython3",
   "version": "3.9.18"
  }
 },
 "nbformat": 4,
 "nbformat_minor": 5
}
