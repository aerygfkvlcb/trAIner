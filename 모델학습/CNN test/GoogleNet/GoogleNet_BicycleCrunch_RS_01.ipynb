{
 "cells": [
  {
   "cell_type": "code",
   "execution_count": 1,
   "id": "037f84ae-9b6b-4fd8-aa54-ebe006186b77",
   "metadata": {},
   "outputs": [
    {
     "name": "stdout",
     "output_type": "stream",
     "text": [
      "Found 7775 images belonging to 8 classes.\n",
      "Found 1670 images belonging to 8 classes.\n",
      "Found 1667 images belonging to 8 classes.\n"
     ]
    }
   ],
   "source": [
    "import os\n",
    "import cv2\n",
    "import numpy as np\n",
    "import matplotlib.pyplot as plt\n",
    "import tensorflow as tf\n",
    "from tensorflow.keras import layers, models, optimizers\n",
    "import keras_preprocessing\n",
    "from keras_preprocessing import image\n",
    "from keras_preprocessing.image import ImageDataGenerator\n",
    "from keras.callbacks import EarlyStopping\n",
    "from keras_tuner import RandomSearch\n",
    "train_dir = r'E:\\AI\\dataset_skeleton_sep\\side\\BicycleCrunch\\training'\n",
    "val_dir = r'E:\\AI\\dataset_skeleton_sep\\side\\BicycleCrunch\\validation'\n",
    "test_dir = r'E:\\AI\\dataset_skeleton_sep\\side\\BicycleCrunch\\test'\n",
    "\n",
    "# ImageDataGenerator 초기화\n",
    "datagen = ImageDataGenerator(rescale=1./255)  # 이미지를 0과 1 사이의 값으로 정규화\n",
    "\n",
    "# 훈련, 검증, 테스트 데이터셋을 위한 제너레이터 생성\n",
    "train_generator = datagen.flow_from_directory(\n",
    "    train_dir,\n",
    "    target_size=(128, 128),\n",
    "    batch_size=32,\n",
    "    class_mode='categorical',\n",
    "    shuffle=True)\n",
    "\n",
    "validation_generator = datagen.flow_from_directory(\n",
    "    val_dir,\n",
    "    target_size=(128, 128),\n",
    "    batch_size=32,\n",
    "    class_mode='categorical',\n",
    "    shuffle=False)\n",
    "\n",
    "test_generator = datagen.flow_from_directory(\n",
    "    test_dir,\n",
    "    target_size=(128, 128),\n",
    "    batch_size=32,\n",
    "    class_mode='categorical',\n",
    "    shuffle=False)\n"
   ]
  },
  {
   "cell_type": "code",
   "execution_count": 2,
   "id": "dea49f2b-a228-497d-ba9a-f5d120443afa",
   "metadata": {},
   "outputs": [],
   "source": [
    "def build_model(hp):\n",
    "    base_model = tf.keras.applications.InceptionV3(weights=\"imagenet\",\n",
    "                                                    include_top=False, \n",
    "                                                    input_shape=(128, 128, 3))\n",
    "    for layer in base_model.layers:\n",
    "        base_model.trainable = False\n",
    "    for layer in base_model.layers[-9:]:\n",
    "        base_model.trainable = True\n",
    "\n",
    "    model = models.Sequential()\n",
    "    model.add(base_model)\n",
    "    model.add(layers.Flatten())\n",
    "    # Dense 레이어의 유닛 수를 하이퍼파라미터로 사용\n",
    "    model.add(layers.Dense(units=hp.Int('units', min_value=128, max_value=512, step=128), activation='relu'))\n",
    "    model.add(layers.Dense(8, activation='softmax'))\n",
    "    \n",
    "    # learning_rate를 하이퍼파라미터로 사용\n",
    "    model.compile(optimizer=optimizers.Adam(learning_rate=hp.Float('learning_rate', min_value=1e-4, max_value=1e-3, sampling='LOG')),\n",
    "                  loss='categorical_crossentropy',\n",
    "                  metrics=['accuracy'])\n",
    "    \n",
    "    return model\n"
   ]
  },
  {
   "cell_type": "code",
   "execution_count": 3,
   "id": "95709e65-3d73-4157-bdb1-36ea1c21dfb6",
   "metadata": {},
   "outputs": [
    {
     "name": "stdout",
     "output_type": "stream",
     "text": [
      "Search space summary\n",
      "Default search space size: 2\n",
      "units (Int)\n",
      "{'default': None, 'conditions': [], 'min_value': 128, 'max_value': 512, 'step': 128, 'sampling': 'linear'}\n",
      "learning_rate (Float)\n",
      "{'default': 0.0001, 'conditions': [], 'min_value': 0.0001, 'max_value': 0.001, 'step': None, 'sampling': 'log'}\n"
     ]
    }
   ],
   "source": [
    "import keras_tuner as kt\n",
    "\n",
    "tuner = RandomSearch(\n",
    "    build_model,\n",
    "    objective='val_accuracy',\n",
    "    max_trials=5,  # 시도할 하이퍼파라미터 조합의 최대 개수\n",
    "    executions_per_trial=1,  # 각 하이퍼파라미터 설정을 평가하기 위해 모델을 훈련시킬 횟수\n",
    "    directory='random_search',  # 튜닝 세션의 결과를 저장할 디렉토리 이름\n",
    "    project_name='GN_BC_RS_01', # 프로젝트 이름    \n",
    ")\n",
    "tuner.search_space_summary()"
   ]
  },
  {
   "cell_type": "code",
   "execution_count": 4,
   "id": "a43c18dc-2a64-4c4f-95a8-d2ded0404978",
   "metadata": {},
   "outputs": [
    {
     "name": "stdout",
     "output_type": "stream",
     "text": [
      "Trial 5 Complete [00h 07m 49s]\n",
      "val_accuracy: 0.625\n",
      "\n",
      "Best val_accuracy So Far: 0.625\n",
      "Total elapsed time: 00h 24m 15s\n"
     ]
    }
   ],
   "source": [
    "early_stopping = EarlyStopping(monitor='val_loss', patience=5, verbose=1)\n",
    "\n",
    "tuner.search(train_generator,\n",
    "             steps_per_epoch=train_generator.samples // train_generator.batch_size,\n",
    "             validation_data=validation_generator, \n",
    "             validation_steps=validation_generator.samples // validation_generator.batch_size,\n",
    "             epochs=25,\n",
    "             callbacks=[early_stopping])\n",
    "\n",
    "\n",
    "# 최적의 하이퍼파라미터 가져오기\n",
    "best_hps = tuner.get_best_hyperparameters(num_trials=1)[0]\n",
    "\n",
    "# 최적의 하이퍼파라미터로 모델 빌드\n",
    "model = tuner.hypermodel.build(best_hps)"
   ]
  },
  {
   "cell_type": "code",
   "execution_count": 5,
   "id": "e69e2532-3934-4908-873a-ea2b30a70462",
   "metadata": {},
   "outputs": [
    {
     "name": "stdout",
     "output_type": "stream",
     "text": [
      "The optimal value for units is 512\n",
      "The optimal value for learning_rate is 0.0007297440579587305\n",
      "Epoch 1/25\n",
      "242/242 [==============================] - 22s 76ms/step - loss: 2.1302 - accuracy: 0.1601 - val_loss: 2.0295 - val_accuracy: 0.1995\n",
      "Epoch 2/25\n",
      "242/242 [==============================] - 17s 72ms/step - loss: 1.8869 - accuracy: 0.2405 - val_loss: 1.8816 - val_accuracy: 0.2476\n",
      "Epoch 3/25\n",
      "242/242 [==============================] - 17s 72ms/step - loss: 1.7531 - accuracy: 0.2893 - val_loss: 1.8448 - val_accuracy: 0.2650\n",
      "Epoch 4/25\n",
      "242/242 [==============================] - 17s 72ms/step - loss: 1.6713 - accuracy: 0.3243 - val_loss: 1.7727 - val_accuracy: 0.2939\n",
      "Epoch 5/25\n",
      "242/242 [==============================] - 17s 72ms/step - loss: 1.4815 - accuracy: 0.3904 - val_loss: 1.6990 - val_accuracy: 0.3167\n",
      "Epoch 6/25\n",
      "242/242 [==============================] - 18s 73ms/step - loss: 1.3497 - accuracy: 0.4443 - val_loss: 2.3269 - val_accuracy: 0.2758\n",
      "Epoch 7/25\n",
      "242/242 [==============================] - 17s 72ms/step - loss: 1.2460 - accuracy: 0.5007 - val_loss: 1.7158 - val_accuracy: 0.3780\n",
      "Epoch 8/25\n",
      "242/242 [==============================] - 17s 72ms/step - loss: 1.1931 - accuracy: 0.5170 - val_loss: 3.1193 - val_accuracy: 0.2067\n",
      "Epoch 9/25\n",
      "242/242 [==============================] - 17s 72ms/step - loss: 1.0467 - accuracy: 0.5874 - val_loss: 1.8526 - val_accuracy: 0.3389\n",
      "Epoch 10/25\n",
      "242/242 [==============================] - 18s 73ms/step - loss: 0.9953 - accuracy: 0.6017 - val_loss: 1.3429 - val_accuracy: 0.4748\n",
      "Epoch 11/25\n",
      "242/242 [==============================] - 17s 72ms/step - loss: 0.8552 - accuracy: 0.6641 - val_loss: 1.5602 - val_accuracy: 0.5030\n",
      "Epoch 12/25\n",
      "242/242 [==============================] - 18s 73ms/step - loss: 0.7157 - accuracy: 0.7217 - val_loss: 1.4408 - val_accuracy: 0.4916\n",
      "Epoch 13/25\n",
      "242/242 [==============================] - 18s 72ms/step - loss: 0.6424 - accuracy: 0.7652 - val_loss: 1.5649 - val_accuracy: 0.4988\n",
      "Epoch 14/25\n",
      "242/242 [==============================] - 18s 73ms/step - loss: 0.6155 - accuracy: 0.7723 - val_loss: 2.2374 - val_accuracy: 0.3960\n",
      "Epoch 15/25\n",
      "242/242 [==============================] - 18s 73ms/step - loss: 0.5001 - accuracy: 0.8188 - val_loss: 1.3372 - val_accuracy: 0.5601\n",
      "Epoch 16/25\n",
      "242/242 [==============================] - 18s 73ms/step - loss: 0.3888 - accuracy: 0.8630 - val_loss: 1.7218 - val_accuracy: 0.5463\n",
      "Epoch 17/25\n",
      "242/242 [==============================] - 17s 72ms/step - loss: 0.3452 - accuracy: 0.8795 - val_loss: 1.2932 - val_accuracy: 0.6142\n",
      "Epoch 18/25\n",
      "242/242 [==============================] - 18s 73ms/step - loss: 0.3173 - accuracy: 0.8898 - val_loss: 1.6092 - val_accuracy: 0.5565\n",
      "Epoch 19/25\n",
      "242/242 [==============================] - 18s 73ms/step - loss: 0.2683 - accuracy: 0.9082 - val_loss: 1.7223 - val_accuracy: 0.5270\n",
      "Epoch 20/25\n",
      "242/242 [==============================] - 18s 72ms/step - loss: 0.2482 - accuracy: 0.9188 - val_loss: 1.5344 - val_accuracy: 0.6100\n",
      "Epoch 21/25\n",
      "242/242 [==============================] - 18s 73ms/step - loss: 0.2338 - accuracy: 0.9229 - val_loss: 1.6379 - val_accuracy: 0.5907\n",
      "Epoch 22/25\n",
      "242/242 [==============================] - 18s 73ms/step - loss: 0.1981 - accuracy: 0.9361 - val_loss: 1.8365 - val_accuracy: 0.5661\n",
      "Epoch 22: early stopping\n",
      "52/52 [==============================] - 1s 22ms/step - loss: 1.7223 - accuracy: 0.5691\n",
      "\n",
      "테스트 정확도: 0.5691105723381042\n"
     ]
    }
   ],
   "source": [
    "# 모든 최적 하이퍼파라미터 출력\n",
    "for hp in best_hps.values:\n",
    "    print(f\"The optimal value for {hp} is {best_hps.get(hp)}\")\n",
    "    \n",
    "# 모델 훈련\n",
    "history = model.fit(train_generator,\n",
    "                    steps_per_epoch=train_generator.samples // train_generator.batch_size,\n",
    "                    validation_data=validation_generator, \n",
    "                    validation_steps=validation_generator.samples // validation_generator.batch_size,\n",
    "                    epochs=25,\n",
    "                    callbacks=[early_stopping])\n",
    "\n",
    "# 모델 평가 (테스트 데이터셋)\n",
    "test_loss, test_acc = model.evaluate(test_generator, steps=test_generator.samples // test_generator.batch_size)\n",
    "print('\\n테스트 정확도:', test_acc)"
   ]
  },
  {
   "cell_type": "code",
   "execution_count": null,
   "id": "a2662483-4ba5-472b-82a3-b5d928f22f0b",
   "metadata": {},
   "outputs": [],
   "source": []
  }
 ],
 "metadata": {
  "kernelspec": {
   "display_name": "tensorGPU",
   "language": "python",
   "name": "tensorgpu"
  },
  "language_info": {
   "codemirror_mode": {
    "name": "ipython",
    "version": 3
   },
   "file_extension": ".py",
   "mimetype": "text/x-python",
   "name": "python",
   "nbconvert_exporter": "python",
   "pygments_lexer": "ipython3",
   "version": "3.9.18"
  }
 },
 "nbformat": 4,
 "nbformat_minor": 5
}
