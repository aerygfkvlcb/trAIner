{
 "cells": [
  {
   "cell_type": "code",
   "execution_count": 1,
   "id": "037f84ae-9b6b-4fd8-aa54-ebe006186b77",
   "metadata": {},
   "outputs": [
    {
     "name": "stdout",
     "output_type": "stream",
     "text": [
      "Found 15894 images belonging to 16 classes.\n",
      "Found 3415 images belonging to 16 classes.\n",
      "Found 3406 images belonging to 16 classes.\n"
     ]
    }
   ],
   "source": [
    "import os\n",
    "import cv2\n",
    "import numpy as np\n",
    "import matplotlib.pyplot as plt\n",
    "import tensorflow as tf\n",
    "from tensorflow.keras import layers, models, optimizers\n",
    "import keras_preprocessing\n",
    "from keras_preprocessing import image\n",
    "from keras_preprocessing.image import ImageDataGenerator\n",
    "from keras.callbacks import EarlyStopping\n",
    "from keras_tuner import RandomSearch\n",
    "\n",
    "train_dir = r'E:\\AI\\dataset_skeleton_sep\\face\\LyingLegRaise\\training'\n",
    "val_dir = r'E:\\AI\\dataset_skeleton_sep\\face\\LyingLegRaise\\validation'\n",
    "test_dir = r'E:\\AI\\dataset_skeleton_sep\\face\\LyingLegRaise\\test'\n",
    "\n",
    "# ImageDataGenerator 초기화\n",
    "datagen = ImageDataGenerator(rescale=1./255)  # 이미지를 0과 1 사이의 값으로 정규화\n",
    "\n",
    "# 훈련, 검증, 테스트 데이터셋을 위한 제너레이터 생성\n",
    "train_generator = datagen.flow_from_directory(\n",
    "    train_dir,\n",
    "    target_size=(128, 128),\n",
    "    batch_size=32,\n",
    "    class_mode='categorical',\n",
    "    shuffle=True)\n",
    "\n",
    "validation_generator = datagen.flow_from_directory(\n",
    "    val_dir,\n",
    "    target_size=(128, 128),\n",
    "    batch_size=32,\n",
    "    class_mode='categorical',\n",
    "    shuffle=False)\n",
    "\n",
    "test_generator = datagen.flow_from_directory(\n",
    "    test_dir,\n",
    "    target_size=(128, 128),\n",
    "    batch_size=32,\n",
    "    class_mode='categorical',\n",
    "    shuffle=False)\n"
   ]
  },
  {
   "cell_type": "code",
   "execution_count": 2,
   "id": "dea49f2b-a228-497d-ba9a-f5d120443afa",
   "metadata": {},
   "outputs": [],
   "source": [
    "def build_model(hp):\n",
    "    base_model = tf.keras.applications.InceptionV3(weights=\"imagenet\",\n",
    "                                                    include_top=False, \n",
    "                                                    input_shape=(128, 128, 3))\n",
    "    for layer in base_model.layers:\n",
    "        base_model.trainable = False\n",
    "    for layer in base_model.layers[-9:]:\n",
    "        base_model.trainable = True\n",
    "\n",
    "    model = models.Sequential()\n",
    "    model.add(base_model)\n",
    "    model.add(layers.Flatten())\n",
    "    # Dense 레이어의 유닛 수를 하이퍼파라미터로 사용\n",
    "    model.add(layers.Dense(units=hp.Int('units', min_value=128, max_value=512, step=128), activation='relu'))\n",
    "    model.add(layers.Dense(16, activation='softmax'))\n",
    "    \n",
    "    # learning_rate를 하이퍼파라미터로 사용\n",
    "    model.compile(optimizer=optimizers.Adam(learning_rate=hp.Float('learning_rate', min_value=1e-4, max_value=1e-3, sampling='LOG')),\n",
    "                  loss='categorical_crossentropy',\n",
    "                  metrics=['accuracy'])\n",
    "    \n",
    "    return model\n"
   ]
  },
  {
   "cell_type": "code",
   "execution_count": 3,
   "id": "95709e65-3d73-4157-bdb1-36ea1c21dfb6",
   "metadata": {},
   "outputs": [
    {
     "name": "stdout",
     "output_type": "stream",
     "text": [
      "Reloading Tuner from random_search\\GN_LLR_RS_01\\tuner0.json\n",
      "Search space summary\n",
      "Default search space size: 2\n",
      "units (Int)\n",
      "{'default': None, 'conditions': [], 'min_value': 128, 'max_value': 512, 'step': 128, 'sampling': 'linear'}\n",
      "learning_rate (Float)\n",
      "{'default': 0.0001, 'conditions': [], 'min_value': 0.0001, 'max_value': 0.001, 'step': None, 'sampling': 'log'}\n"
     ]
    }
   ],
   "source": [
    "import keras_tuner as kt\n",
    "\n",
    "tuner = RandomSearch(\n",
    "    build_model,\n",
    "    objective='val_accuracy',\n",
    "    max_trials=5,  # 시도할 하이퍼파라미터 조합의 최대 개수\n",
    "    executions_per_trial=1,  # 각 하이퍼파라미터 설정을 평가하기 위해 모델을 훈련시킬 횟수\n",
    "    directory='random_search',  # 튜닝 세션의 결과를 저장할 디렉토리 이름\n",
    "    project_name='GN_LLR_RS_01', # 프로젝트 이름   \n",
    ")\n",
    "tuner.search_space_summary()"
   ]
  },
  {
   "cell_type": "code",
   "execution_count": 4,
   "id": "a43c18dc-2a64-4c4f-95a8-d2ded0404978",
   "metadata": {},
   "outputs": [],
   "source": [
    "early_stopping = EarlyStopping(monitor='val_loss', patience=5, verbose=1)\n",
    "\n",
    "tuner.search(train_generator,\n",
    "             steps_per_epoch=train_generator.samples // train_generator.batch_size,\n",
    "             validation_data=validation_generator, \n",
    "             validation_steps=validation_generator.samples // validation_generator.batch_size,\n",
    "             epochs=25,\n",
    "             callbacks=[early_stopping])\n",
    "\n",
    "\n",
    "# 최적의 하이퍼파라미터 가져오기\n",
    "best_hps = tuner.get_best_hyperparameters(num_trials=1)[0]\n",
    "\n",
    "# 최적의 하이퍼파라미터로 모델 빌드\n",
    "model = tuner.hypermodel.build(best_hps)"
   ]
  },
  {
   "cell_type": "code",
   "execution_count": 5,
   "id": "e69e2532-3934-4908-873a-ea2b30a70462",
   "metadata": {},
   "outputs": [
    {
     "name": "stdout",
     "output_type": "stream",
     "text": [
      "The optimal value for units is 256\n",
      "The optimal value for learning_rate is 0.00036403875971769393\n",
      "Epoch 1/25\n",
      "496/496 [==============================] - 73s 132ms/step - loss: 2.1702 - accuracy: 0.2328 - val_loss: 2.2102 - val_accuracy: 0.2594\n",
      "Epoch 2/25\n",
      "496/496 [==============================] - 39s 79ms/step - loss: 1.5774 - accuracy: 0.4233 - val_loss: 3.7259 - val_accuracy: 0.1860\n",
      "Epoch 3/25\n",
      "496/496 [==============================] - 37s 75ms/step - loss: 1.2167 - accuracy: 0.5458 - val_loss: 1.2671 - val_accuracy: 0.5507\n",
      "Epoch 4/25\n",
      "496/496 [==============================] - 40s 80ms/step - loss: 0.9648 - accuracy: 0.6427 - val_loss: 1.9460 - val_accuracy: 0.4098\n",
      "Epoch 5/25\n",
      "496/496 [==============================] - 39s 80ms/step - loss: 0.7891 - accuracy: 0.7122 - val_loss: 1.1606 - val_accuracy: 0.6111\n",
      "Epoch 6/25\n",
      "496/496 [==============================] - 38s 77ms/step - loss: 0.6531 - accuracy: 0.7607 - val_loss: 0.9049 - val_accuracy: 0.6899\n",
      "Epoch 7/25\n",
      "496/496 [==============================] - 39s 80ms/step - loss: 0.5248 - accuracy: 0.8118 - val_loss: 1.2678 - val_accuracy: 0.6073\n",
      "Epoch 8/25\n",
      "496/496 [==============================] - 37s 76ms/step - loss: 0.4478 - accuracy: 0.8453 - val_loss: 1.3272 - val_accuracy: 0.5935\n",
      "Epoch 9/25\n",
      "496/496 [==============================] - 37s 75ms/step - loss: 0.3674 - accuracy: 0.8717 - val_loss: 1.3692 - val_accuracy: 0.5979\n",
      "Epoch 10/25\n",
      "496/496 [==============================] - 38s 77ms/step - loss: 0.3319 - accuracy: 0.8845 - val_loss: 1.0734 - val_accuracy: 0.6795\n",
      "Epoch 11/25\n",
      "496/496 [==============================] - 39s 78ms/step - loss: 0.2755 - accuracy: 0.9051 - val_loss: 1.1030 - val_accuracy: 0.6893\n",
      "Epoch 11: early stopping\n",
      "106/106 [==============================] - 11s 107ms/step - loss: 1.0892 - accuracy: 0.6875\n",
      "\n",
      "테스트 정확도: 0.6875\n"
     ]
    }
   ],
   "source": [
    "# 모든 최적 하이퍼파라미터 출력\n",
    "for hp in best_hps.values:\n",
    "    print(f\"The optimal value for {hp} is {best_hps.get(hp)}\")\n",
    "    \n",
    "# 모델 훈련\n",
    "history = model.fit(train_generator,\n",
    "                    steps_per_epoch=train_generator.samples // train_generator.batch_size,\n",
    "                    validation_data=validation_generator, \n",
    "                    validation_steps=validation_generator.samples // validation_generator.batch_size,\n",
    "                    epochs=25,\n",
    "                    callbacks=[early_stopping])\n",
    "\n",
    "# 모델 평가 (테스트 데이터셋)\n",
    "test_loss, test_acc = model.evaluate(test_generator, steps=test_generator.samples // test_generator.batch_size)\n",
    "print('\\n테스트 정확도:', test_acc)"
   ]
  },
  {
   "cell_type": "code",
   "execution_count": null,
   "id": "a2662483-4ba5-472b-82a3-b5d928f22f0b",
   "metadata": {},
   "outputs": [],
   "source": []
  }
 ],
 "metadata": {
  "kernelspec": {
   "display_name": "tensorGPU",
   "language": "python",
   "name": "tensorgpu"
  },
  "language_info": {
   "codemirror_mode": {
    "name": "ipython",
    "version": 3
   },
   "file_extension": ".py",
   "mimetype": "text/x-python",
   "name": "python",
   "nbconvert_exporter": "python",
   "pygments_lexer": "ipython3",
   "version": "3.9.18"
  }
 },
 "nbformat": 4,
 "nbformat_minor": 5
}
