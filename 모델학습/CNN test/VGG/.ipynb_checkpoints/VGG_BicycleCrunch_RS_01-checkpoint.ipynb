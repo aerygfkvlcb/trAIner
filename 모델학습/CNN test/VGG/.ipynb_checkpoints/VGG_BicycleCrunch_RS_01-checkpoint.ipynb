{
 "cells": [
  {
   "cell_type": "code",
   "execution_count": 1,
   "id": "037f84ae-9b6b-4fd8-aa54-ebe006186b77",
   "metadata": {},
   "outputs": [
    {
     "name": "stdout",
     "output_type": "stream",
     "text": [
      "Found 7775 images belonging to 8 classes.\n",
      "Found 1670 images belonging to 8 classes.\n",
      "Found 1667 images belonging to 8 classes.\n"
     ]
    }
   ],
   "source": [
    "import numpy as np\n",
    "import tensorflow as tf\n",
    "from tensorflow import keras\n",
    "from tensorflow.keras.preprocessing.image import ImageDataGenerator\n",
    "from tensorflow.keras import layers, models, optimizers\n",
    "from tensorflow.keras.layers import Input, Flatten, Dense, GlobalAveragePooling2D\n",
    "from tensorflow.keras.callbacks import EarlyStopping, ModelCheckpoint\n",
    "from tensorflow.keras.applications import VGG16\n",
    "from keras_tuner import RandomSearch\n",
    "\n",
    "train_dir = r'E:\\AI\\dataset_skeleton_sep\\side\\BicycleCrunch\\training'\n",
    "val_dir = r'E:\\AI\\dataset_skeleton_sep\\side\\BicycleCrunch\\validation'\n",
    "test_dir = r'E:\\AI\\dataset_skeleton_sep\\side\\BicycleCrunch\\test'\n",
    "\n",
    "# ImageDataGenerator 초기화\n",
    "datagen = ImageDataGenerator(rescale=1./255)  # 이미지를 0과 1 사이의 값으로 정규화\n",
    "\n",
    "# 훈련, 검증, 테스트 데이터셋을 위한 제너레이터 생성\n",
    "train_generator = datagen.flow_from_directory(\n",
    "    train_dir,\n",
    "    target_size=(128, 128),\n",
    "    batch_size=32,\n",
    "    class_mode='categorical',\n",
    "    shuffle=True)\n",
    "\n",
    "validation_generator = datagen.flow_from_directory(\n",
    "    val_dir,\n",
    "    target_size=(128, 128),\n",
    "    batch_size=32,\n",
    "    class_mode='categorical',\n",
    "    shuffle=False)\n",
    "\n",
    "test_generator = datagen.flow_from_directory(\n",
    "    test_dir,\n",
    "    target_size=(128, 128),\n",
    "    batch_size=32,\n",
    "    class_mode='categorical',\n",
    "    shuffle=False)\n"
   ]
  },
  {
   "cell_type": "code",
   "execution_count": 2,
   "id": "f359c00e-9c0d-4ae8-ab24-d8125804111e",
   "metadata": {},
   "outputs": [],
   "source": [
    "def build_model(hp):\n",
    "    base_model = VGG16(weights='imagenet', include_top=False, input_shape=(128, 128, 3))\n",
    "    \n",
    "    for layer in base_model.layers:\n",
    "        if layer.name == 'block5_conv1' or layer.name == 'block5_conv2':\n",
    "            layer.trainable = True\n",
    "        else:\n",
    "            layer.trainable = False    \n",
    "    \n",
    "    model = models.Sequential()\n",
    "    model.add(base_model)\n",
    "    model.add(layers.Flatten())\n",
    "    # Dense 레이어의 유닛 수를 하이퍼파라미터로 사용\n",
    "    model.add(layers.Dense(units=hp.Int('units', min_value=64, max_value=512, step=64), activation = 'relu'))\n",
    "    model.add(layers.Dense(8, activation = 'softmax'))\n",
    "\n",
    "    lr = hp.Float(\"lr\", min_value=1e-4, max_value=1e-3, sampling=\"log\")\n",
    "    model.compile(keras.optimizers.Adam(learning_rate=lr), loss=\"categorical_crossentropy\", metrics=[\"accuracy\"])\n",
    "    \n",
    "    return model\n"
   ]
  },
  {
   "cell_type": "code",
   "execution_count": 3,
   "id": "268edabb-2d5b-4485-bb78-b64236c5bcb1",
   "metadata": {},
   "outputs": [
    {
     "name": "stdout",
     "output_type": "stream",
     "text": [
      "Search space summary\n",
      "Default search space size: 2\n",
      "units (Int)\n",
      "{'default': None, 'conditions': [], 'min_value': 64, 'max_value': 512, 'step': 64, 'sampling': 'linear'}\n",
      "lr (Float)\n",
      "{'default': 0.0001, 'conditions': [], 'min_value': 0.0001, 'max_value': 0.001, 'step': None, 'sampling': 'log'}\n"
     ]
    }
   ],
   "source": [
    "import keras_tuner as kt\n",
    "\n",
    "tuner = RandomSearch(\n",
    "    build_model,\n",
    "    objective='val_accuracy',\n",
    "    max_trials=20,  # 시도할 하이퍼파라미터 조합의 최대 개수\n",
    "    executions_per_trial=1,  # 각 하이퍼파라미터 설정을 평가하기 위해 모델을 훈련시킬 횟수\n",
    "    directory=r'E:\\AInotes\\자세교정\\모델학습\\VGG\\random_search',  # 튜닝 세션의 결과를 저장할 디렉토리 이름\n",
    "    project_name='VGG_FT_RS_param_02'  # 프로젝트 이름\n",
    ")\n",
    "tuner.search_space_summary()"
   ]
  },
  {
   "cell_type": "code",
   "execution_count": null,
   "id": "36d2d3cf-10ce-4dcd-acba-f8c8ab2a1218",
   "metadata": {},
   "outputs": [
    {
     "name": "stdout",
     "output_type": "stream",
     "text": [
      "Trial 10 Complete [00h 02m 47s]\n",
      "val_accuracy: 0.5871394276618958\n",
      "\n",
      "Best val_accuracy So Far: 0.6171875\n",
      "Total elapsed time: 00h 20m 55s\n",
      "\n",
      "Search: Running Trial #11\n",
      "\n",
      "Value             |Best Value So Far |Hyperparameter\n",
      "128               |448               |units\n",
      "0.00011029        |0.00012231        |lr\n",
      "\n",
      "Epoch 1/40\n",
      "242/242 [==============================] - 9s 37ms/step - loss: 2.0866 - accuracy: 0.1395 - val_loss: 2.0712 - val_accuracy: 0.1430\n",
      "Epoch 2/40\n",
      "242/242 [==============================] - 9s 37ms/step - loss: 2.0074 - accuracy: 0.2008 - val_loss: 1.9102 - val_accuracy: 0.2542\n",
      "Epoch 3/40\n",
      "242/242 [==============================] - 9s 36ms/step - loss: 1.8597 - accuracy: 0.2671 - val_loss: 1.7889 - val_accuracy: 0.3095\n",
      "Epoch 4/40\n",
      "242/242 [==============================] - 9s 35ms/step - loss: 1.7031 - accuracy: 0.3336 - val_loss: 1.7113 - val_accuracy: 0.3239\n",
      "Epoch 5/40\n",
      "242/242 [==============================] - 9s 36ms/step - loss: 1.5280 - accuracy: 0.4041 - val_loss: 1.5707 - val_accuracy: 0.3810\n",
      "Epoch 6/40\n",
      "242/242 [==============================] - 9s 39ms/step - loss: 1.3519 - accuracy: 0.4808 - val_loss: 1.6235 - val_accuracy: 0.3846\n",
      "Epoch 7/40\n",
      "242/242 [==============================] - 9s 36ms/step - loss: 1.1871 - accuracy: 0.5530 - val_loss: 1.3497 - val_accuracy: 0.4802\n",
      "Epoch 8/40\n",
      "242/242 [==============================] - 9s 39ms/step - loss: 1.0041 - accuracy: 0.6273 - val_loss: 1.3539 - val_accuracy: 0.4856\n",
      "Epoch 9/40\n",
      "242/242 [==============================] - 10s 40ms/step - loss: 0.8504 - accuracy: 0.6862 - val_loss: 1.2814 - val_accuracy: 0.5288\n",
      "Epoch 10/40\n",
      "242/242 [==============================] - 9s 38ms/step - loss: 0.7141 - accuracy: 0.7380 - val_loss: 1.2698 - val_accuracy: 0.5385\n",
      "Epoch 11/40\n",
      "242/242 [==============================] - 9s 39ms/step - loss: 0.6010 - accuracy: 0.7854 - val_loss: 1.3104 - val_accuracy: 0.5463\n",
      "Epoch 12/40\n",
      "242/242 [==============================] - 9s 39ms/step - loss: 0.4937 - accuracy: 0.8262 - val_loss: 1.1938 - val_accuracy: 0.5925\n",
      "Epoch 13/40\n",
      "242/242 [==============================] - 9s 39ms/step - loss: 0.4014 - accuracy: 0.8551 - val_loss: 1.3539 - val_accuracy: 0.5709\n",
      "Epoch 14/40\n",
      "242/242 [==============================] - 9s 36ms/step - loss: 0.3182 - accuracy: 0.8916 - val_loss: 1.3942 - val_accuracy: 0.5925\n",
      "Epoch 15/40\n",
      "241/242 [============================>.] - ETA: 0s - loss: 0.2929 - accuracy: 0.8995"
     ]
    }
   ],
   "source": [
    "early_stopping = EarlyStopping(monitor='val_loss', patience=5, min_delta=0.01, verbose=1)\n",
    "\n",
    "tuner.search(train_generator,\n",
    "             steps_per_epoch=train_generator.samples // train_generator.batch_size,\n",
    "             validation_data=validation_generator, \n",
    "             validation_steps=validation_generator.samples // validation_generator.batch_size,\n",
    "             epochs=25,\n",
    "             callbacks=[early_stopping])\n",
    "\n",
    "\n",
    "# 최적의 하이퍼파라미터 가져오기\n",
    "best_hps = tuner.get_best_hyperparameters(num_trials=1)[0]\n",
    "\n",
    "# 최적의 하이퍼파라미터로 모델 빌드\n",
    "model = tuner.hypermodel.build(best_hps)\n",
    "\n",
    "#best_models = tuner.get_best_models(1)\n",
    "#final_model = best_models[0]"
   ]
  },
  {
   "cell_type": "code",
   "execution_count": null,
   "id": "ad7ab4dc-1326-4f86-9113-ee157bab2980",
   "metadata": {},
   "outputs": [],
   "source": [
    "# 모든 최적 하이퍼파라미터 출력\n",
    "for hp in best_hps.values:\n",
    "    print(f\"The optimal value for {hp} is {best_hps.get(hp)}\")\n",
    "\n",
    "# 모델 훈련\n",
    "history = model.fit(train_generator,\n",
    "                    steps_per_epoch=train_generator.samples // train_generator.batch_size,\n",
    "                    validation_data=validation_generator, \n",
    "                    validation_steps=validation_generator.samples // validation_generator.batch_size,\n",
    "                    epochs=40,\n",
    "                    callbacks=[early_stopping])\n",
    "\n",
    "# 모델 평가 (테스트 데이터셋)\n",
    "test_loss, test_acc = model.evaluate(test_generator, steps=test_generator.samples // test_generator.batch_size)\n",
    "print('\\n테스트 정확도:', test_acc)\n"
   ]
  },
  {
   "cell_type": "code",
   "execution_count": null,
   "id": "5d3c63c1-38bc-4bed-bc0c-e25d97e5f879",
   "metadata": {},
   "outputs": [],
   "source": []
  }
 ],
 "metadata": {
  "kernelspec": {
   "display_name": "tensorGPU",
   "language": "python",
   "name": "tensorgpu"
  },
  "language_info": {
   "codemirror_mode": {
    "name": "ipython",
    "version": 3
   },
   "file_extension": ".py",
   "mimetype": "text/x-python",
   "name": "python",
   "nbconvert_exporter": "python",
   "pygments_lexer": "ipython3",
   "version": "3.9.18"
  }
 },
 "nbformat": 4,
 "nbformat_minor": 5
}
