{
 "cells": [
  {
   "cell_type": "code",
   "execution_count": 1,
   "id": "42a662bf-423e-49be-90dd-9d09bba9d466",
   "metadata": {},
   "outputs": [
    {
     "name": "stdout",
     "output_type": "stream",
     "text": [
      "Found 7775 images belonging to 8 classes.\n",
      "Found 1670 images belonging to 8 classes.\n",
      "Found 1667 images belonging to 8 classes.\n"
     ]
    }
   ],
   "source": [
    "import numpy as np\n",
    "import tensorflow as tf\n",
    "from tensorflow import keras\n",
    "from tensorflow.keras.preprocessing.image import ImageDataGenerator\n",
    "from tensorflow.keras import layers, models\n",
    "from tensorflow.keras.callbacks import EarlyStopping, ModelCheckpoint\n",
    "from tensorflow.keras.applications import EfficientNetB4 \n",
    "from keras_tuner import RandomSearch\n",
    "\n",
    "# 데이터셋 경로 설정\n",
    "train_dir = r'E:\\AI\\dataset_skeleton_sep\\side\\BicycleCrunch\\training'\n",
    "val_dir = r'E:\\AI\\dataset_skeleton_sep\\side\\BicycleCrunch\\validation'\n",
    "test_dir = r'E:\\AI\\dataset_skeleton_sep\\side\\BicycleCrunch\\test'\n",
    "\n",
    "# ImageDataGenerator 초기화\n",
    "datagen = ImageDataGenerator(rescale=1./255)\n",
    "\n",
    "# 훈련, 검증, 테스트 데이터셋을 위한 제너레이터 생성\n",
    "train_generator = datagen.flow_from_directory(\n",
    "    train_dir,\n",
    "    target_size=(128, 128),\n",
    "    batch_size=16,\n",
    "    class_mode='categorical',\n",
    "    shuffle=True)\n",
    "\n",
    "validation_generator = datagen.flow_from_directory(\n",
    "    val_dir,\n",
    "    target_size=(128, 128),\n",
    "    batch_size=16,\n",
    "    class_mode='categorical',\n",
    "    shuffle=False)\n",
    "\n",
    "test_generator = datagen.flow_from_directory(\n",
    "    test_dir,\n",
    "    target_size=(128, 128),\n",
    "    batch_size=16,\n",
    "    class_mode='categorical',\n",
    "    shuffle=False)\n"
   ]
  },
  {
   "cell_type": "code",
   "execution_count": 2,
   "id": "c1e30988-ebab-4f60-ac70-2ee1563d6b08",
   "metadata": {},
   "outputs": [],
   "source": [
    "def build_model(hp):\n",
    "    base_model = EfficientNetB4(weights='imagenet', include_top=False, input_shape=(128, 128, 3))\n",
    "\n",
    "    \n",
    "    for layer in base_model.layers:\n",
    "        layer.trainable = False\n",
    "\n",
    "    for layer in base_model.layers[-20:]:\n",
    "        layer.trainable = True   \n",
    "    \n",
    "    model = models.Sequential()\n",
    "    model.add(base_model)\n",
    "    model.add(layers.GlobalAveragePooling2D())\n",
    "    # Dense 레이어의 유닛 수를 하이퍼파라미터로 사용\n",
    "    model.add(layers.Dense(units=hp.Int('units', min_value=256, max_value=512, step=128), activation = 'relu'))\n",
    "    model.add(layers.Dense(8, activation = 'softmax'))\n",
    "\n",
    "    # learning_rate를 하이퍼파라미터로 사용\n",
    "    model.compile(optimizer=optimizers.Adam(learning_rate=hp.Float('learning_rate', min_value=1e-4, max_value=1e-3, sampling='LOG')),\n",
    "                  loss='categorical_crossentropy',\n",
    "                  metrics=['accuracy'])\n",
    "    \n",
    "    return model\n"
   ]
  },
  {
   "cell_type": "code",
   "execution_count": 3,
   "id": "4df9ac25-5a23-45fd-a2a2-60e1db6de404",
   "metadata": {},
   "outputs": [
    {
     "name": "stdout",
     "output_type": "stream",
     "text": [
      "Search space summary\n",
      "Default search space size: 3\n",
      "units (Int)\n",
      "{'default': None, 'conditions': [], 'min_value': 256, 'max_value': 512, 'step': 128, 'sampling': 'linear'}\n",
      "optimizer (Choice)\n",
      "{'default': 'rmsprop', 'conditions': [], 'values': ['rmsprop', 'adam'], 'ordered': False}\n",
      "lr (Float)\n",
      "{'default': 1e-05, 'conditions': [], 'min_value': 1e-05, 'max_value': 0.001, 'step': None, 'sampling': 'log'}\n"
     ]
    }
   ],
   "source": [
    "import keras_tuner as kt\n",
    "\n",
    "tuner = RandomSearch(\n",
    "    build_model,\n",
    "    objective='val_accuracy',\n",
    "    max_trials=5,  # 시도할 하이퍼파라미터 조합의 최대 개수\n",
    "    executions_per_trial=1,  # 각 하이퍼파라미터 설정을 평가하기 위해 모델을 훈련시킬 횟수\n",
    "    directory=r'E:\\AInotes\\자세교정\\모델학습\\EffiNet\\random_search',  # 튜닝 세션의 결과를 저장할 디렉토리 이름\n",
    "    project_name='EN_LLR_RS_01'  # 프로젝트 이름\n",
    ")\n",
    "tuner.search_space_summary()"
   ]
  },
  {
   "cell_type": "code",
   "execution_count": null,
   "id": "f62b7db6-0780-4074-ba61-8a15480d5450",
   "metadata": {},
   "outputs": [
    {
     "name": "stdout",
     "output_type": "stream",
     "text": [
      "Trial 8 Complete [00h 08m 27s]\n",
      "val_accuracy: 0.13762019574642181\n",
      "\n",
      "Best val_accuracy So Far: 0.15144230425357819\n",
      "Total elapsed time: 01h 04m 35s\n",
      "\n",
      "Search: Running Trial #9\n",
      "\n",
      "Value             |Best Value So Far |Hyperparameter\n",
      "384               |384               |units\n",
      "rmsprop           |rmsprop           |optimizer\n",
      "0.00028419        |7.887e-05         |lr\n",
      "\n",
      "Epoch 1/25\n",
      "485/485 [==============================] - 34s 55ms/step - loss: 2.0992 - accuracy: 0.1241 - val_loss: 2.0847 - val_accuracy: 0.1256\n",
      "Epoch 2/25\n",
      "485/485 [==============================] - 24s 50ms/step - loss: 2.0848 - accuracy: 0.1231 - val_loss: 2.0804 - val_accuracy: 0.1256\n",
      "Epoch 3/25\n",
      "485/485 [==============================] - 25s 51ms/step - loss: 2.0834 - accuracy: 0.1235 - val_loss: 2.0834 - val_accuracy: 0.1286\n",
      "Epoch 4/25\n",
      "485/485 [==============================] - 24s 50ms/step - loss: 2.0844 - accuracy: 0.1237 - val_loss: 2.0802 - val_accuracy: 0.1226\n",
      "Epoch 5/25\n",
      "485/485 [==============================] - 24s 50ms/step - loss: 2.0829 - accuracy: 0.1297 - val_loss: 2.0820 - val_accuracy: 0.1256\n",
      "Epoch 6/25\n",
      "485/485 [==============================] - 24s 50ms/step - loss: 2.0829 - accuracy: 0.1257 - val_loss: 2.0830 - val_accuracy: 0.1238\n",
      "Epoch 7/25\n",
      "485/485 [==============================] - 25s 51ms/step - loss: 2.0846 - accuracy: 0.1221 - val_loss: 2.0821 - val_accuracy: 0.1316\n",
      "Epoch 8/25\n",
      "485/485 [==============================] - 24s 49ms/step - loss: 2.0838 - accuracy: 0.1237 - val_loss: 2.0825 - val_accuracy: 0.1292\n",
      "Epoch 9/25\n",
      "485/485 [==============================] - 24s 50ms/step - loss: 2.0827 - accuracy: 0.1214 - val_loss: 2.0826 - val_accuracy: 0.1256\n",
      "Epoch 10/25\n",
      "404/485 [=======================>......] - ETA: 3s - loss: 2.0828 - accuracy: 0.1267"
     ]
    }
   ],
   "source": [
    "early_stopping = EarlyStopping(monitor='val_loss', patience=10, min_delta=0, verbose=1)\n",
    "\n",
    "tuner.search(train_generator,\n",
    "             steps_per_epoch=train_generator.samples // train_generator.batch_size,\n",
    "             validation_data=validation_generator, \n",
    "             validation_steps=validation_generator.samples // validation_generator.batch_size,\n",
    "             epochs=25,\n",
    "             callbacks=[early_stopping])\n",
    "\n",
    "\n",
    "# 최적의 하이퍼파라미터 가져오기\n",
    "best_hps = tuner.get_best_hyperparameters(num_trials=1)[0]\n",
    "\n",
    "# 최적의 하이퍼파라미터로 모델 빌드\n",
    "model = tuner.hypermodel.build(best_hps)\n",
    "\n",
    "#best_models = tuner.get_best_models(1)\n",
    "#final_model = best_models[0]"
   ]
  },
  {
   "cell_type": "code",
   "execution_count": null,
   "id": "5fbfa9c3-8c93-4d54-8868-326d7a3d76b8",
   "metadata": {},
   "outputs": [],
   "source": [
    "# 모든 최적 하이퍼파라미터 출력\n",
    "for hp in best_hps.values:\n",
    "    print(f\"The optimal value for {hp} is {best_hps.get(hp)}\")\n",
    "\n",
    "# 모델 훈련\n",
    "history = model.fit(train_generator,\n",
    "                    steps_per_epoch=train_generator.samples // train_generator.batch_size,\n",
    "                    validation_data=validation_generator, \n",
    "                    validation_steps=validation_generator.samples // validation_generator.batch_size,\n",
    "                    epochs=40,\n",
    "                    callbacks=[early_stopping])"
   ]
  },
  {
   "cell_type": "code",
   "execution_count": null,
   "id": "0a626528-7dd0-425a-91e8-cee2e89409c8",
   "metadata": {},
   "outputs": [],
   "source": []
  }
 ],
 "metadata": {
  "kernelspec": {
   "display_name": "tensorGPU",
   "language": "python",
   "name": "tensorgpu"
  },
  "language_info": {
   "codemirror_mode": {
    "name": "ipython",
    "version": 3
   },
   "file_extension": ".py",
   "mimetype": "text/x-python",
   "name": "python",
   "nbconvert_exporter": "python",
   "pygments_lexer": "ipython3",
   "version": "3.9.18"
  }
 },
 "nbformat": 4,
 "nbformat_minor": 5
}
