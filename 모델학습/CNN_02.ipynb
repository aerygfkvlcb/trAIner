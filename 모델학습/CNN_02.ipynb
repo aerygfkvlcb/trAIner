{
 "cells": [
  {
   "cell_type": "code",
   "execution_count": 1,
   "id": "ebe32dcf-fef8-4932-be38-39a137b2b096",
   "metadata": {},
   "outputs": [
    {
     "name": "stdout",
     "output_type": "stream",
     "text": [
      "Num GPUs Available:  1\n"
     ]
    }
   ],
   "source": [
    "import tensorflow as tf\n",
    "\n",
    "print(\"Num GPUs Available: \", len(tf.config.experimental.list_physical_devices('GPU')))\n"
   ]
  },
  {
   "cell_type": "code",
   "execution_count": 2,
   "id": "07f0e78a-673a-4a7f-9f2a-fde32ad2cf7c",
   "metadata": {},
   "outputs": [
    {
     "name": "stdout",
     "output_type": "stream",
     "text": [
      "Found 709960 images belonging to 269 classes.\n",
      "Found 130596 images belonging to 269 classes.\n",
      "709960\n",
      "269\n"
     ]
    }
   ],
   "source": [
    "import numpy as np\n",
    "import tensorflow as tf\n",
    "import os\n",
    "import cv2\n",
    "from tensorflow import keras\n",
    "from tensorflow.keras import layers\n",
    "from tensorflow.keras.models import Sequential\n",
    "from tensorflow.keras.layers import Conv2D, MaxPooling2D, Flatten, Dense\n",
    "from tensorflow.keras.preprocessing.image import ImageDataGenerator\n",
    "from PIL import Image\n",
    "\n",
    "\n",
    "train_dir = r'E:\\AI\\dataset_skeleton_for_generator\\training'\n",
    "val_dir = r'E:\\AI\\dataset_skeleton_for_generator\\validation'\n",
    "test_dir = r'E:\\AI\\dataset_skeleton_for_generator\\test'\n",
    "\n",
    "# ImageDataGenerator 초기화\n",
    "datagen = ImageDataGenerator(rescale=1./255)  # 이미지를 0과 1 사이의 값으로 정규화\n",
    "\n",
    "# 훈련 데이터셋을 위한 제너레이터 생성\n",
    "train_generator = datagen.flow_from_directory(\n",
    "        train_dir,  # 훈련 데이터셋 디렉토리\n",
    "        target_size=(128, 128),\n",
    "        batch_size=32,\n",
    "        class_mode='categorical')\n",
    "\n",
    "validation_generator = datagen.flow_from_directory(\n",
    "        val_dir,  # 훈련 데이터셋 디렉토리\n",
    "        target_size=(128, 128), \n",
    "        batch_size=32,\n",
    "        class_mode='categorical') \n",
    "\n",
    "print(train_generator.samples)\n",
    "print(train_generator.num_classes)\n"
   ]
  },
  {
   "cell_type": "code",
   "execution_count": null,
   "id": "1a60c9d2-4193-4671-95c6-f8d7cab51e06",
   "metadata": {},
   "outputs": [
    {
     "name": "stdout",
     "output_type": "stream",
     "text": [
      "Epoch 1/10\n",
      "22186/22186 [==============================] - 2748s 124ms/step - loss: 2.9949 - accuracy: 0.1456 - val_loss: 5.4176 - val_accuracy: 0.1416\n",
      "Epoch 2/10\n",
      "14357/22186 [==================>...........] - ETA: 9:22 - loss: 2.5690 - accuracy: 0.1970"
     ]
    }
   ],
   "source": [
    "\n",
    "# 모델 정의\n",
    "model = Sequential([\n",
    "    Conv2D(32, (3, 3), activation='relu', input_shape=(128, 128, 3)),\n",
    "    MaxPooling2D(2, 2),\n",
    "    Conv2D(64, (3, 3), activation='relu'),\n",
    "    MaxPooling2D(2, 2),\n",
    "    Flatten(),\n",
    "    Dense(64, activation='relu'),\n",
    "    Dense(train_generator.num_classes, activation='softmax')\n",
    "])\n",
    "\n",
    "# 모델 컴파일\n",
    "model.compile(optimizer='adam', loss='categorical_crossentropy', metrics=['accuracy'])\n",
    "\n",
    "# 모델 학습\n",
    "model.fit(\n",
    "    train_generator,\n",
    "    steps_per_epoch=train_generator.samples // train_generator.batch_size,\n",
    "    epochs=10,\n",
    "    validation_data=validation_generator,  # 검증 데이터셋 설정\n",
    "    validation_steps=validation_generator.samples // validation_generator.batch_size\n",
    ")\n"
   ]
  },
  {
   "cell_type": "code",
   "execution_count": null,
   "id": "09b0caf9-c6a2-454c-8c61-3cf28e540121",
   "metadata": {},
   "outputs": [],
   "source": [
    "model.summary()"
   ]
  },
  {
   "cell_type": "code",
   "execution_count": null,
   "id": "9e7e2ac8-81f3-4adc-9b23-9a5b17eef63f",
   "metadata": {},
   "outputs": [],
   "source": [
    "# 테스트 데이터셋 디렉토리 경로 설정\n",
    "\n",
    "\n",
    "# ImageDataGenerator 초기화 (테스트 데이터셋용)\n",
    "test_datagen = ImageDataGenerator(rescale=1./255)  # 이미지를 0과 1 사이의 값으로 정규화\n",
    "\n",
    "# 테스트 데이터셋을 위한 제너레이터 생성\n",
    "test_generator = test_datagen.flow_from_directory(\n",
    "        test_dir,  # 테스트 데이터셋 디렉토리\n",
    "        target_size=(128, 128),\n",
    "        batch_size=32,\n",
    "        class_mode='categorical',  # 다중 분류 문제인 경우 'categorical'\n",
    "        shuffle=False)  # 평가 시 데이터 순서를 유지\n",
    "\n",
    "# 모델 성능 평가\n",
    "test_loss, test_acc = model.evaluate(test_generator, steps=test_generator.samples // test_generator.batch_size)\n",
    "\n",
    "print('테스트 정확도:', test_acc)\n"
   ]
  }
 ],
 "metadata": {
  "kernelspec": {
   "display_name": "tensorGPU",
   "language": "python",
   "name": "tensorgpu"
  },
  "language_info": {
   "codemirror_mode": {
    "name": "ipython",
    "version": 3
   },
   "file_extension": ".py",
   "mimetype": "text/x-python",
   "name": "python",
   "nbconvert_exporter": "python",
   "pygments_lexer": "ipython3",
   "version": "3.9.18"
  }
 },
 "nbformat": 4,
 "nbformat_minor": 5
}
