{
 "cells": [
  {
   "cell_type": "code",
   "execution_count": 1,
   "id": "037f84ae-9b6b-4fd8-aa54-ebe006186b77",
   "metadata": {},
   "outputs": [
    {
     "name": "stdout",
     "output_type": "stream",
     "text": [
      "Found 36640 images belonging to 32 classes.\n",
      "Found 7870 images belonging to 32 classes.\n",
      "Found 7854 images belonging to 32 classes.\n"
     ]
    }
   ],
   "source": [
    "import os\n",
    "import cv2\n",
    "import numpy as np\n",
    "import matplotlib.pyplot as plt\n",
    "import tensorflow as tf\n",
    "from tensorflow.keras import layers, models, optimizers\n",
    "import keras_preprocessing\n",
    "from keras_preprocessing import image\n",
    "from keras_preprocessing.image import ImageDataGenerator\n",
    "from keras.callbacks import EarlyStopping\n",
    "from keras_tuner import RandomSearch\n",
    "train_dir = r'E:\\AI\\dataset_skeleton_sep\\face\\StandingSideCrunch\\training'\n",
    "val_dir = r'E:\\AI\\dataset_skeleton_sep\\face\\StandingSideCrunch\\validation'\n",
    "test_dir = r'E:\\AI\\dataset_skeleton_sep\\face\\StandingSideCrunch\\test'\n",
    "\n",
    "# ImageDataGenerator 초기화\n",
    "datagen = ImageDataGenerator(rescale=1./255)  # 이미지를 0과 1 사이의 값으로 정규화\n",
    "\n",
    "# 훈련, 검증, 테스트 데이터셋을 위한 제너레이터 생성\n",
    "train_generator = datagen.flow_from_directory(\n",
    "    train_dir,\n",
    "    target_size=(128, 128),\n",
    "    batch_size=32,\n",
    "    class_mode='categorical',\n",
    "    shuffle=True)\n",
    "\n",
    "validation_generator = datagen.flow_from_directory(\n",
    "    val_dir,\n",
    "    target_size=(128, 128),\n",
    "    batch_size=32,\n",
    "    class_mode='categorical',\n",
    "    shuffle=False)\n",
    "\n",
    "test_generator = datagen.flow_from_directory(\n",
    "    test_dir,\n",
    "    target_size=(128, 128),\n",
    "    batch_size=32,\n",
    "    class_mode='categorical',\n",
    "    shuffle=False)\n"
   ]
  },
  {
   "cell_type": "code",
   "execution_count": 2,
   "id": "dea49f2b-a228-497d-ba9a-f5d120443afa",
   "metadata": {},
   "outputs": [],
   "source": [
    "def build_model(hp):\n",
    "    base_model = tf.keras.applications.InceptionV3(weights=\"imagenet\",\n",
    "                                                    include_top=False, \n",
    "                                                    input_shape=(128, 128, 3))\n",
    "    for layer in base_model.layers:\n",
    "        base_model.trainable = False\n",
    "    for layer in base_model.layers[-9:]:\n",
    "        base_model.trainable = True\n",
    "\n",
    "    model = models.Sequential()\n",
    "    model.add(base_model)\n",
    "    model.add(layers.Flatten())\n",
    "    # Dense 레이어의 유닛 수를 하이퍼파라미터로 사용\n",
    "    model.add(layers.Dense(units=hp.Int('units', min_value=128, max_value=512, step=128), activation='relu'))\n",
    "    model.add(layers.Dense(32, activation='softmax'))\n",
    "    \n",
    "    # learning_rate를 하이퍼파라미터로 사용\n",
    "    model.compile(optimizer=optimizers.Adam(learning_rate=hp.Float('learning_rate', min_value=1e-4, max_value=1e-3, sampling='LOG')),\n",
    "                  loss='categorical_crossentropy',\n",
    "                  metrics=['accuracy'])\n",
    "    \n",
    "    return model\n"
   ]
  },
  {
   "cell_type": "code",
   "execution_count": 3,
   "id": "95709e65-3d73-4157-bdb1-36ea1c21dfb6",
   "metadata": {},
   "outputs": [
    {
     "name": "stdout",
     "output_type": "stream",
     "text": [
      "Reloading Tuner from random_search\\SSC_RS_01\\tuner0.json\n",
      "Search space summary\n",
      "Default search space size: 2\n",
      "units (Int)\n",
      "{'default': None, 'conditions': [], 'min_value': 128, 'max_value': 512, 'step': 128, 'sampling': 'linear'}\n",
      "learning_rate (Float)\n",
      "{'default': 0.0001, 'conditions': [], 'min_value': 0.0001, 'max_value': 0.001, 'step': None, 'sampling': 'log'}\n"
     ]
    }
   ],
   "source": [
    "import keras_tuner as kt\n",
    "\n",
    "tuner = RandomSearch(\n",
    "    build_model,\n",
    "    objective='val_accuracy',\n",
    "    max_trials=5,  # 시도할 하이퍼파라미터 조합의 최대 개수\n",
    "    executions_per_trial=1,  # 각 하이퍼파라미터 설정을 평가하기 위해 모델을 훈련시킬 횟수\n",
    "    directory='random_search',  # 튜닝 세션의 결과를 저장할 디렉토리 이름\n",
    "    project_name='SSC_RS_01', # 프로젝트 이름    \n",
    ")\n",
    "tuner.search_space_summary()"
   ]
  },
  {
   "cell_type": "code",
   "execution_count": 4,
   "id": "a43c18dc-2a64-4c4f-95a8-d2ded0404978",
   "metadata": {},
   "outputs": [
    {
     "name": "stdout",
     "output_type": "stream",
     "text": [
      "Trial 5 Complete [00h 23m 36s]\n",
      "val_accuracy: 0.7478316426277161\n",
      "\n",
      "Best val_accuracy So Far: 0.7478316426277161\n",
      "Total elapsed time: 01h 27m 59s\n",
      "최적의 Dense 레이어 유닛 수: 256\n",
      "최적의 학습률: 0.0001248777618816557\n"
     ]
    }
   ],
   "source": [
    "early_stopping = EarlyStopping(monitor='val_loss', patience=5, verbose=1)\n",
    "\n",
    "tuner.search(train_generator,\n",
    "             steps_per_epoch=train_generator.samples // train_generator.batch_size,\n",
    "             validation_data=validation_generator, \n",
    "             validation_steps=validation_generator.samples // validation_generator.batch_size,\n",
    "             epochs=25,\n",
    "             callbacks=[early_stopping])\n",
    "\n",
    "\n",
    "# 최적의 하이퍼파라미터 가져오기\n",
    "best_hps = tuner.get_best_hyperparameters(num_trials=1)[0]\n",
    "\n",
    "# 최적의 하이퍼파라미터로 모델 빌드\n",
    "model = tuner.hypermodel.build(best_hps)"
   ]
  },
  {
   "cell_type": "code",
   "execution_count": 5,
   "id": "e69e2532-3934-4908-873a-ea2b30a70462",
   "metadata": {},
   "outputs": [
    {
     "name": "stdout",
     "output_type": "stream",
     "text": [
      "Epoch 1/25\n",
      "1145/1145 [==============================] - 86s 72ms/step - loss: 2.5546 - accuracy: 0.2109 - val_loss: 2.0910 - val_accuracy: 0.3361\n",
      "Epoch 2/25\n",
      "1145/1145 [==============================] - 81s 71ms/step - loss: 1.6406 - accuracy: 0.4547 - val_loss: 1.4498 - val_accuracy: 0.5119\n",
      "Epoch 3/25\n",
      "1145/1145 [==============================] - 81s 71ms/step - loss: 1.2244 - accuracy: 0.5851 - val_loss: 1.3883 - val_accuracy: 0.5478\n",
      "Epoch 4/25\n",
      "1145/1145 [==============================] - 81s 71ms/step - loss: 0.9694 - accuracy: 0.6690 - val_loss: 1.1094 - val_accuracy: 0.6305\n",
      "Epoch 5/25\n",
      "1145/1145 [==============================] - 81s 71ms/step - loss: 0.7794 - accuracy: 0.7340 - val_loss: 1.0978 - val_accuracy: 0.6416\n",
      "Epoch 6/25\n",
      "1145/1145 [==============================] - 81s 71ms/step - loss: 0.6222 - accuracy: 0.7851 - val_loss: 1.0619 - val_accuracy: 0.6629\n",
      "Epoch 7/25\n",
      "1145/1145 [==============================] - 82s 71ms/step - loss: 0.5175 - accuracy: 0.8205 - val_loss: 1.0941 - val_accuracy: 0.6749\n",
      "Epoch 8/25\n",
      "1145/1145 [==============================] - 81s 71ms/step - loss: 0.4433 - accuracy: 0.8475 - val_loss: 1.0253 - val_accuracy: 0.6994\n",
      "Epoch 9/25\n",
      "1145/1145 [==============================] - 82s 71ms/step - loss: 0.3701 - accuracy: 0.8716 - val_loss: 0.9550 - val_accuracy: 0.7223\n",
      "Epoch 10/25\n",
      "1145/1145 [==============================] - 82s 71ms/step - loss: 0.3171 - accuracy: 0.8921 - val_loss: 1.0090 - val_accuracy: 0.7158\n",
      "Epoch 11/25\n",
      "1145/1145 [==============================] - 81s 71ms/step - loss: 0.2849 - accuracy: 0.9041 - val_loss: 1.0586 - val_accuracy: 0.7097\n",
      "Epoch 12/25\n",
      "1145/1145 [==============================] - 82s 71ms/step - loss: 0.2522 - accuracy: 0.9138 - val_loss: 1.0354 - val_accuracy: 0.7230\n",
      "Epoch 13/25\n",
      "1145/1145 [==============================] - 82s 71ms/step - loss: 0.2279 - accuracy: 0.9237 - val_loss: 1.0596 - val_accuracy: 0.7276\n",
      "Epoch 14/25\n",
      "1145/1145 [==============================] - 81s 71ms/step - loss: 0.2017 - accuracy: 0.9324 - val_loss: 1.0030 - val_accuracy: 0.7413\n",
      "Epoch 14: early stopping\n"
     ]
    }
   ],
   "source": [
    "# 모든 최적 하이퍼파라미터 출력\n",
    "for hp in best_hps.values:\n",
    "    print(f\"The optimal value for {hp} is {best_hps.get(hp)}\")\n",
    "    \n",
    "# 모델 훈련\n",
    "history = model.fit(train_generator,\n",
    "                    steps_per_epoch=train_generator.samples // train_generator.batch_size,\n",
    "                    validation_data=validation_generator, \n",
    "                    validation_steps=validation_generator.samples // validation_generator.batch_size,\n",
    "                    epochs=25,\n",
    "                    callbacks=[early_stopping])\n",
    "\n",
    "# 모델 평가 (테스트 데이터셋)\n",
    "test_loss, test_acc = model.evaluate(test_generator, steps=test_generator.samples // test_generator.batch_size)\n",
    "print('\\n테스트 정확도:', test_acc)"
   ]
  },
  {
   "cell_type": "code",
   "execution_count": null,
   "id": "a2662483-4ba5-472b-82a3-b5d928f22f0b",
   "metadata": {},
   "outputs": [],
   "source": []
  }
 ],
 "metadata": {
  "kernelspec": {
   "display_name": "tensorGPU",
   "language": "python",
   "name": "tensorgpu"
  },
  "language_info": {
   "codemirror_mode": {
    "name": "ipython",
    "version": 3
   },
   "file_extension": ".py",
   "mimetype": "text/x-python",
   "name": "python",
   "nbconvert_exporter": "python",
   "pygments_lexer": "ipython3",
   "version": "3.9.18"
  }
 },
 "nbformat": 4,
 "nbformat_minor": 5
}
