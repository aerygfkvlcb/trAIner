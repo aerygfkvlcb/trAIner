{
 "cells": [
  {
   "cell_type": "code",
   "execution_count": 1,
   "id": "037f84ae-9b6b-4fd8-aa54-ebe006186b77",
   "metadata": {},
   "outputs": [
    {
     "name": "stdout",
     "output_type": "stream",
     "text": [
      "Found 7775 images belonging to 8 classes.\n",
      "Found 1670 images belonging to 8 classes.\n",
      "Found 1667 images belonging to 8 classes.\n"
     ]
    }
   ],
   "source": [
    "import os\n",
    "import cv2\n",
    "import numpy as np\n",
    "import matplotlib.pyplot as plt\n",
    "import tensorflow as tf\n",
    "from tensorflow.keras import layers, models, optimizers\n",
    "import keras_preprocessing\n",
    "from keras_preprocessing import image\n",
    "from keras_preprocessing.image import ImageDataGenerator\n",
    "from sklearn.model_selection import train_test_split\n",
    "from keras.callbacks import EarlyStopping\n",
    "from keras_tuner.tuners import RandomSearch\n",
    "\n",
    "train_dir = r'E:\\AI\\dataset_skeleton_sep\\side\\BicycleCrunch\\training'\n",
    "val_dir = r'E:\\AI\\dataset_skeleton_sep\\side\\BicycleCrunch\\validation'\n",
    "test_dir = r'E:\\AI\\dataset_skeleton_sep\\side\\BicycleCrunch\\test'\n",
    "\n",
    "# ImageDataGenerator 초기화\n",
    "datagen = ImageDataGenerator(rescale=1./255)  # 이미지를 0과 1 사이의 값으로 정규화\n",
    "\n",
    "# 훈련, 검증, 테스트 데이터셋을 위한 제너레이터 생성\n",
    "train_generator = datagen.flow_from_directory(\n",
    "    train_dir,\n",
    "    target_size=(128, 128),\n",
    "    batch_size=32,\n",
    "    class_mode='categorical',\n",
    "    shuffle=True)\n",
    "\n",
    "validation_generator = datagen.flow_from_directory(\n",
    "    val_dir,\n",
    "    target_size=(128, 128),\n",
    "    batch_size=32,\n",
    "    class_mode='categorical',\n",
    "    shuffle=False)\n",
    "\n",
    "test_generator = datagen.flow_from_directory(\n",
    "    test_dir,\n",
    "    target_size=(128, 128),\n",
    "    batch_size=32,\n",
    "    class_mode='categorical',\n",
    "    shuffle=False)\n"
   ]
  },
  {
   "cell_type": "code",
   "execution_count": 2,
   "id": "9973f0e2-cc5d-49b6-a8cf-257f84ad5e8b",
   "metadata": {},
   "outputs": [
    {
     "name": "stdout",
     "output_type": "stream",
     "text": [
      "Model: \"ResNet50v2_RT\"\n",
      "_________________________________________________________________\n",
      " Layer (type)                Output Shape              Param #   \n",
      "=================================================================\n",
      " resnet50v2 (Functional)     (None, 4, 4, 2048)        23564800  \n",
      "                                                                 \n",
      " flatten (Flatten)           (None, 32768)             0         \n",
      "                                                                 \n",
      " dense (Dense)               (None, 256)               8388864   \n",
      "                                                                 \n",
      " dense_1 (Dense)             (None, 8)                 2056      \n",
      "                                                                 \n",
      "=================================================================\n",
      "Total params: 31,955,720\n",
      "Trainable params: 31,910,280\n",
      "Non-trainable params: 45,440\n",
      "_________________________________________________________________\n"
     ]
    }
   ],
   "source": [
    "base_model = tf.keras.applications.resnet_v2.ResNet50V2(weights=\"imagenet\",\n",
    "                                                         include_top=False, \n",
    "                                                         input_shape=(128, 128, 3))\n",
    "for layer in base_model.layers:\n",
    "    base_model.trainable = False\n",
    "for layer in base_model.layers[-9:]:\n",
    "    base_model.trainable = True\n",
    "\n",
    "model = models.Sequential(name=\"ResNet50v2_RT\")\n",
    "model.add(base_model)\n",
    "\n",
    "model.add(layers.Flatten())\n",
    "model.add(layers.Dense(256, activation = 'relu'))\n",
    "model.add(layers.Dense(8, activation = 'softmax'))  \n",
    "\n",
    "model.summary()"
   ]
  },
  {
   "cell_type": "code",
   "execution_count": 3,
   "id": "a43c18dc-2a64-4c4f-95a8-d2ded0404978",
   "metadata": {},
   "outputs": [
    {
     "name": "stdout",
     "output_type": "stream",
     "text": [
      "Epoch 1/25\n",
      "242/242 [==============================] - 23s 74ms/step - loss: 2.0284 - accuracy: 0.2165 - val_loss: 1.9236 - val_accuracy: 0.2500\n",
      "Epoch 2/25\n",
      "242/242 [==============================] - 17s 71ms/step - loss: 1.6670 - accuracy: 0.3420 - val_loss: 1.6385 - val_accuracy: 0.3444\n",
      "Epoch 3/25\n",
      "242/242 [==============================] - 17s 71ms/step - loss: 1.3393 - accuracy: 0.4715 - val_loss: 1.4822 - val_accuracy: 0.4501\n",
      "Epoch 4/25\n",
      "242/242 [==============================] - 17s 71ms/step - loss: 1.0884 - accuracy: 0.5751 - val_loss: 1.3200 - val_accuracy: 0.4952\n",
      "Epoch 5/25\n",
      "242/242 [==============================] - 17s 71ms/step - loss: 0.8592 - accuracy: 0.6784 - val_loss: 1.5200 - val_accuracy: 0.4808\n",
      "Epoch 6/25\n",
      "242/242 [==============================] - 17s 71ms/step - loss: 0.6644 - accuracy: 0.7535 - val_loss: 1.5815 - val_accuracy: 0.5078\n",
      "Epoch 7/25\n",
      "242/242 [==============================] - 17s 71ms/step - loss: 0.5277 - accuracy: 0.8118 - val_loss: 1.2076 - val_accuracy: 0.5847\n",
      "Epoch 8/25\n",
      "242/242 [==============================] - 17s 71ms/step - loss: 0.3918 - accuracy: 0.8586 - val_loss: 1.5492 - val_accuracy: 0.5655\n",
      "Epoch 9/25\n",
      "242/242 [==============================] - 17s 71ms/step - loss: 0.3434 - accuracy: 0.8786 - val_loss: 1.3299 - val_accuracy: 0.5877\n",
      "Epoch 10/25\n",
      "242/242 [==============================] - 17s 71ms/step - loss: 0.2537 - accuracy: 0.9153 - val_loss: 1.4867 - val_accuracy: 0.6070\n",
      "Epoch 11/25\n",
      "242/242 [==============================] - 17s 71ms/step - loss: 0.2212 - accuracy: 0.9273 - val_loss: 1.4355 - val_accuracy: 0.6124\n",
      "Epoch 12/25\n",
      "242/242 [==============================] - 17s 71ms/step - loss: 0.2180 - accuracy: 0.9285 - val_loss: 1.4803 - val_accuracy: 0.5992\n",
      "Epoch 12: early stopping\n",
      "52/52 [==============================] - 5s 98ms/step - loss: 1.4571 - accuracy: 0.6040\n",
      "\n",
      "테스트 정확도: 0.6039663553237915\n"
     ]
    }
   ],
   "source": [
    "\n",
    "early_stopping = EarlyStopping(monitor='val_loss', patience=5, verbose=1)\n",
    "\n",
    "model.compile(optimizer = optimizers.Adam(learning_rate = 0.00020752196203010584),  \n",
    "              loss='categorical_crossentropy', \n",
    "              metrics=['accuracy'])\n",
    "\n",
    "history = model.fit(train_generator,\n",
    "                    steps_per_epoch=train_generator.samples // train_generator.batch_size,\n",
    "                    validation_data=validation_generator, \n",
    "                    validation_steps=validation_generator.samples // validation_generator.batch_size,\n",
    "                    epochs = 25, \n",
    "                    callbacks=[early_stopping])\n",
    "\n",
    "test_loss, test_acc = model.evaluate(test_generator, steps=test_generator.samples // test_generator.batch_size)\n",
    "print('\\n테스트 정확도:', test_acc)"
   ]
  },
  {
   "cell_type": "code",
   "execution_count": null,
   "id": "652674e5-3f26-44f4-ae68-d6397660663f",
   "metadata": {},
   "outputs": [],
   "source": []
  }
 ],
 "metadata": {
  "kernelspec": {
   "display_name": "tensorGPU",
   "language": "python",
   "name": "tensorgpu"
  },
  "language_info": {
   "codemirror_mode": {
    "name": "ipython",
    "version": 3
   },
   "file_extension": ".py",
   "mimetype": "text/x-python",
   "name": "python",
   "nbconvert_exporter": "python",
   "pygments_lexer": "ipython3",
   "version": "3.9.18"
  }
 },
 "nbformat": 4,
 "nbformat_minor": 5
}
