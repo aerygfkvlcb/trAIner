{
 "cells": [
  {
   "cell_type": "code",
   "execution_count": 1,
   "id": "037f84ae-9b6b-4fd8-aa54-ebe006186b77",
   "metadata": {},
   "outputs": [
    {
     "name": "stdout",
     "output_type": "stream",
     "text": [
      "Found 7775 images belonging to 8 classes.\n",
      "Found 1670 images belonging to 8 classes.\n",
      "Found 1667 images belonging to 8 classes.\n"
     ]
    }
   ],
   "source": [
    "import os\n",
    "import cv2\n",
    "import numpy as np\n",
    "import matplotlib.pyplot as plt\n",
    "import tensorflow as tf\n",
    "from tensorflow.keras import layers, models, optimizers\n",
    "import keras_preprocessing\n",
    "from keras_preprocessing import image\n",
    "from keras_preprocessing.image import ImageDataGenerator\n",
    "from sklearn.model_selection import train_test_split\n",
    "from keras.callbacks import EarlyStopping\n",
    "from keras_tuner.tuners import RandomSearch\n",
    "\n",
    "train_dir = r'E:\\AI\\dataset_skeleton_sep\\side\\BicycleCrunch\\training'\n",
    "val_dir = r'E:\\AI\\dataset_skeleton_sep\\side\\BicycleCrunch\\validation'\n",
    "test_dir = r'E:\\AI\\dataset_skeleton_sep\\side\\BicycleCrunch\\test'\n",
    "\n",
    "# ImageDataGenerator 초기화\n",
    "datagen = ImageDataGenerator(rescale=1./255)  # 이미지를 0과 1 사이의 값으로 정규화\n",
    "\n",
    "# 훈련, 검증, 테스트 데이터셋을 위한 제너레이터 생성\n",
    "train_generator = datagen.flow_from_directory(\n",
    "    train_dir,\n",
    "    target_size=(128, 128),\n",
    "    batch_size=32,\n",
    "    class_mode='categorical',\n",
    "    shuffle=True)\n",
    "\n",
    "validation_generator = datagen.flow_from_directory(\n",
    "    val_dir,\n",
    "    target_size=(128, 128),\n",
    "    batch_size=32,\n",
    "    class_mode='categorical',\n",
    "    shuffle=False)\n",
    "\n",
    "test_generator = datagen.flow_from_directory(\n",
    "    test_dir,\n",
    "    target_size=(128, 128),\n",
    "    batch_size=32,\n",
    "    class_mode='categorical',\n",
    "    shuffle=False)\n"
   ]
  },
  {
   "cell_type": "code",
   "execution_count": 2,
   "id": "9973f0e2-cc5d-49b6-a8cf-257f84ad5e8b",
   "metadata": {},
   "outputs": [
    {
     "name": "stdout",
     "output_type": "stream",
     "text": [
      "Model: \"ResNet50v2_RT\"\n",
      "_________________________________________________________________\n",
      " Layer (type)                Output Shape              Param #   \n",
      "=================================================================\n",
      " resnet50v2 (Functional)     (None, 4, 4, 2048)        23564800  \n",
      "                                                                 \n",
      " flatten (Flatten)           (None, 32768)             0         \n",
      "                                                                 \n",
      " dense (Dense)               (None, 256)               8388864   \n",
      "                                                                 \n",
      " dropout (Dropout)           (None, 256)               0         \n",
      "                                                                 \n",
      " dense_1 (Dense)             (None, 512)               131584    \n",
      "                                                                 \n",
      " dropout_1 (Dropout)         (None, 512)               0         \n",
      "                                                                 \n",
      " dense_2 (Dense)             (None, 512)               262656    \n",
      "                                                                 \n",
      " dropout_2 (Dropout)         (None, 512)               0         \n",
      "                                                                 \n",
      " dense_3 (Dense)             (None, 8)                 4104      \n",
      "                                                                 \n",
      "=================================================================\n",
      "Total params: 32,352,008\n",
      "Trainable params: 32,306,568\n",
      "Non-trainable params: 45,440\n",
      "_________________________________________________________________\n"
     ]
    }
   ],
   "source": [
    "base_model = tf.keras.applications.resnet_v2.ResNet50V2(weights=\"imagenet\",\n",
    "                                                         include_top=False, \n",
    "                                                         input_shape=(128, 128, 3))\n",
    "for layer in base_model.layers:\n",
    "    base_model.trainable = False\n",
    "for layer in base_model.layers[-9:]:\n",
    "    base_model.trainable = True\n",
    "\n",
    "model = models.Sequential(name=\"ResNet50v2_RT\")\n",
    "model.add(base_model)\n",
    "\n",
    "model.add(layers.Flatten())\n",
    "model.add(layers.Dense(256, activation = 'relu'))\n",
    "model.add(layers.Dropout(0.2))\n",
    "model.add(layers.Dense(512, activation = 'relu'))\n",
    "model.add(layers.Dropout(0.2))\n",
    "model.add(layers.Dense(512, activation = 'relu'))\n",
    "model.add(layers.Dropout(0.2))\n",
    "model.add(layers.Dense(8, activation = 'softmax')) \n",
    "\n",
    "model.summary()"
   ]
  },
  {
   "cell_type": "code",
   "execution_count": 3,
   "id": "a43c18dc-2a64-4c4f-95a8-d2ded0404978",
   "metadata": {},
   "outputs": [
    {
     "name": "stdout",
     "output_type": "stream",
     "text": [
      "Epoch 1/25\n",
      "242/242 [==============================] - 38s 130ms/step - loss: 2.0980 - accuracy: 0.1406 - val_loss: 2.0169 - val_accuracy: 0.1911\n",
      "Epoch 2/25\n",
      "242/242 [==============================] - 18s 73ms/step - loss: 1.8988 - accuracy: 0.2261 - val_loss: 1.8749 - val_accuracy: 0.2506\n",
      "Epoch 3/25\n",
      "242/242 [==============================] - 18s 74ms/step - loss: 1.6576 - accuracy: 0.3141 - val_loss: 1.6144 - val_accuracy: 0.3462\n",
      "Epoch 4/25\n",
      "242/242 [==============================] - 18s 75ms/step - loss: 1.4342 - accuracy: 0.4058 - val_loss: 1.4185 - val_accuracy: 0.4357\n",
      "Epoch 5/25\n",
      "242/242 [==============================] - 18s 74ms/step - loss: 1.2470 - accuracy: 0.4936 - val_loss: 1.3855 - val_accuracy: 0.4736\n",
      "Epoch 6/25\n",
      "242/242 [==============================] - 18s 73ms/step - loss: 1.0690 - accuracy: 0.5852 - val_loss: 1.2769 - val_accuracy: 0.5132\n",
      "Epoch 7/25\n",
      "242/242 [==============================] - 18s 73ms/step - loss: 0.8679 - accuracy: 0.6709 - val_loss: 1.2928 - val_accuracy: 0.5174\n",
      "Epoch 8/25\n",
      "242/242 [==============================] - 18s 75ms/step - loss: 0.7083 - accuracy: 0.7429 - val_loss: 1.3624 - val_accuracy: 0.5343\n",
      "Epoch 9/25\n",
      "242/242 [==============================] - 18s 76ms/step - loss: 0.5920 - accuracy: 0.7865 - val_loss: 1.3926 - val_accuracy: 0.5505\n",
      "Epoch 10/25\n",
      "242/242 [==============================] - 18s 73ms/step - loss: 0.4866 - accuracy: 0.8316 - val_loss: 1.2428 - val_accuracy: 0.5944\n",
      "Epoch 11/25\n",
      "242/242 [==============================] - 18s 74ms/step - loss: 0.3731 - accuracy: 0.8764 - val_loss: 1.3263 - val_accuracy: 0.6130\n",
      "Epoch 12/25\n",
      "242/242 [==============================] - 18s 73ms/step - loss: 0.3147 - accuracy: 0.8962 - val_loss: 1.4126 - val_accuracy: 0.6178\n",
      "Epoch 13/25\n",
      "242/242 [==============================] - 18s 76ms/step - loss: 0.2615 - accuracy: 0.9164 - val_loss: 1.2248 - val_accuracy: 0.6472\n",
      "Epoch 14/25\n",
      "242/242 [==============================] - 18s 74ms/step - loss: 0.2588 - accuracy: 0.9166 - val_loss: 1.4390 - val_accuracy: 0.6022\n",
      "Epoch 15/25\n",
      "242/242 [==============================] - 18s 74ms/step - loss: 0.2281 - accuracy: 0.9288 - val_loss: 1.3390 - val_accuracy: 0.6538\n",
      "Epoch 16/25\n",
      "242/242 [==============================] - 18s 73ms/step - loss: 0.1927 - accuracy: 0.9390 - val_loss: 1.3223 - val_accuracy: 0.6190\n",
      "Epoch 17/25\n",
      "242/242 [==============================] - 18s 74ms/step - loss: 0.1823 - accuracy: 0.9458 - val_loss: 1.2905 - val_accuracy: 0.6532\n",
      "Epoch 18/25\n",
      "242/242 [==============================] - 18s 74ms/step - loss: 0.1316 - accuracy: 0.9628 - val_loss: 1.2356 - val_accuracy: 0.6629\n",
      "Epoch 18: early stopping\n",
      "52/52 [==============================] - 6s 110ms/step - loss: 1.2472 - accuracy: 0.6587\n",
      "\n",
      "테스트 정확도: 0.6586538553237915\n"
     ]
    }
   ],
   "source": [
    "\n",
    "early_stopping = EarlyStopping(monitor='val_loss', patience=5, verbose=1)\n",
    "\n",
    "model.compile(optimizer = optimizers.Adam(learning_rate = 0.00020752196203010584),  \n",
    "              loss='categorical_crossentropy', \n",
    "              metrics=['accuracy'])\n",
    "\n",
    "history = model.fit(train_generator,\n",
    "                    steps_per_epoch=train_generator.samples // train_generator.batch_size,\n",
    "                    validation_data=validation_generator, \n",
    "                    validation_steps=validation_generator.samples // validation_generator.batch_size,\n",
    "                    epochs = 25, \n",
    "                    callbacks=[early_stopping])\n",
    "\n",
    "test_loss, test_acc = model.evaluate(test_generator, steps=test_generator.samples // test_generator.batch_size)\n",
    "print('\\n테스트 정확도:', test_acc)"
   ]
  },
  {
   "cell_type": "code",
   "execution_count": null,
   "id": "652674e5-3f26-44f4-ae68-d6397660663f",
   "metadata": {},
   "outputs": [],
   "source": []
  }
 ],
 "metadata": {
  "kernelspec": {
   "display_name": "tensorGPU",
   "language": "python",
   "name": "tensorgpu"
  },
  "language_info": {
   "codemirror_mode": {
    "name": "ipython",
    "version": 3
   },
   "file_extension": ".py",
   "mimetype": "text/x-python",
   "name": "python",
   "nbconvert_exporter": "python",
   "pygments_lexer": "ipython3",
   "version": "3.9.18"
  }
 },
 "nbformat": 4,
 "nbformat_minor": 5
}
