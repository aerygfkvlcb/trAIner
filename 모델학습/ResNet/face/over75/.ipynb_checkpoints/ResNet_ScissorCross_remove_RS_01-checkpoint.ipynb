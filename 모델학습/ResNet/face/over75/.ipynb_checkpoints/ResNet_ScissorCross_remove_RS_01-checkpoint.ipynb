{
 "cells": [
  {
   "cell_type": "code",
   "execution_count": 1,
   "id": "037f84ae-9b6b-4fd8-aa54-ebe006186b77",
   "metadata": {},
   "outputs": [
    {
     "name": "stdout",
     "output_type": "stream",
     "text": [
      "Found 6312 images belonging to 6 classes.\n",
      "Found 1356 images belonging to 6 classes.\n",
      "Found 1356 images belonging to 6 classes.\n"
     ]
    }
   ],
   "source": [
    "import os\n",
    "import cv2\n",
    "import numpy as np\n",
    "import matplotlib.pyplot as plt\n",
    "import tensorflow as tf\n",
    "from tensorflow.keras import layers, models, optimizers, regularizers\n",
    "import keras_preprocessing\n",
    "from keras_preprocessing import image\n",
    "from keras_preprocessing.image import ImageDataGenerator\n",
    "from keras.callbacks import EarlyStopping\n",
    "from keras_tuner import RandomSearch\n",
    "train_dir = r'E:\\AItemp\\ScissorCross\\training'\n",
    "val_dir = r'E:\\AItemp\\ScissorCross\\validation'\n",
    "test_dir = r'E:\\AItemp\\ScissorCross\\test'\n",
    "\n",
    "# ImageDataGenerator 초기화\n",
    "datagen = ImageDataGenerator(rescale=1./255)  # 이미지를 0과 1 사이의 값으로 정규화\n",
    "\n",
    "# 훈련, 검증, 테스트 데이터셋을 위한 제너레이터 생성\n",
    "train_generator = datagen.flow_from_directory(\n",
    "    train_dir,\n",
    "    target_size=(128, 128),\n",
    "    batch_size=32,\n",
    "    class_mode='categorical',\n",
    "    shuffle=True)\n",
    "\n",
    "validation_generator = datagen.flow_from_directory(\n",
    "    val_dir,\n",
    "    target_size=(128, 128),\n",
    "    batch_size=32,\n",
    "    class_mode='categorical',\n",
    "    shuffle=False)\n",
    "\n",
    "test_generator = datagen.flow_from_directory(\n",
    "    test_dir,\n",
    "    target_size=(128, 128),\n",
    "    batch_size=32,\n",
    "    class_mode='categorical',\n",
    "    shuffle=False)\n"
   ]
  },
  {
   "cell_type": "code",
   "execution_count": 2,
   "id": "dea49f2b-a228-497d-ba9a-f5d120443afa",
   "metadata": {},
   "outputs": [],
   "source": [
    "def build_model(hp):\n",
    "    base_model = tf.keras.applications.resnet_v2.ResNet50V2(weights=\"imagenet\",\n",
    "                                                         include_top=False, \n",
    "                                                         input_shape=(128, 128, 3))\n",
    "    for layer in base_model.layers:\n",
    "        base_model.trainable = False\n",
    "    for layer in base_model.layers[-9:]:\n",
    "        base_model.trainable = True\n",
    "    \n",
    "\n",
    "    model = models.Sequential()\n",
    "    model.add(base_model)\n",
    "    model.add(layers.Flatten())\n",
    "    \n",
    "    # Dropout 적용\n",
    "    #model.add(layers.Dropout(rate=hp.Float('dropout_rate', min_value=0.0, max_value=0.5, step=0.1)))\n",
    "\n",
    "    # L2 규제를 적용한 Dense 레이어 추가\n",
    "    model.add(layers.Dense(units=hp.Int('units', min_value=128, max_value=512, step=128),\n",
    "                           activation='relu',))\n",
    "                           #kernel_regularizer=regularizers.l2(hp.Float('l2', min_value=1e-5, max_value=1e-2, sampling='LOG'))))\n",
    "    \n",
    "    # Dense 레이어의 유닛 수를 하이퍼파라미터로 사용\n",
    "    #model.add(layers.Dense(units=hp.Int('units', min_value=128, max_value=512, step=128), activation = 'relu'))\n",
    "    \n",
    "    # Dense 레이어의 유닛 수를 하이퍼파라미터로 사용\n",
    "    #model.add(layers.Dense(units=hp.Int('units', min_value=128, max_value=512, step=128), activation = 'relu'))\n",
    "    model.add(layers.Dense(6, activation = 'softmax'))\n",
    "    \n",
    "    # learning_rate를 하이퍼파라미터로 사용\n",
    "    model.compile(optimizer=optimizers.Adam(learning_rate=hp.Float('learning_rate', min_value=1e-5, max_value=1e-3, sampling='LOG')),\n",
    "                  loss='categorical_crossentropy',\n",
    "                  metrics=['accuracy'])\n",
    "    \n",
    "    return model\n"
   ]
  },
  {
   "cell_type": "code",
   "execution_count": 3,
   "id": "95709e65-3d73-4157-bdb1-36ea1c21dfb6",
   "metadata": {},
   "outputs": [
    {
     "name": "stdout",
     "output_type": "stream",
     "text": [
      "Search space summary\n",
      "Default search space size: 2\n",
      "units (Int)\n",
      "{'default': None, 'conditions': [], 'min_value': 128, 'max_value': 512, 'step': 128, 'sampling': 'linear'}\n",
      "learning_rate (Float)\n",
      "{'default': 1e-05, 'conditions': [], 'min_value': 1e-05, 'max_value': 0.001, 'step': None, 'sampling': 'log'}\n"
     ]
    }
   ],
   "source": [
    "import keras_tuner as kt\n",
    "\n",
    "tuner = RandomSearch(\n",
    "    build_model,\n",
    "    objective='val_accuracy',\n",
    "    max_trials=5,  # 시도할 하이퍼파라미터 조합의 최대 개수\n",
    "    executions_per_trial=1,  # 각 하이퍼파라미터 설정을 평가하기 위해 모델을 훈련시킬 횟수\n",
    "    directory=r'E:\\AImodel\\ResNet_remove',  # 튜닝 세션의 결과를 저장할 디렉토리 이름\n",
    "    project_name='ResNet-ScissorCross-remove-01', # 프로젝트 이름    \n",
    ")\n",
    "tuner.search_space_summary()"
   ]
  },
  {
   "cell_type": "code",
   "execution_count": 4,
   "id": "a43c18dc-2a64-4c4f-95a8-d2ded0404978",
   "metadata": {},
   "outputs": [
    {
     "name": "stdout",
     "output_type": "stream",
     "text": [
      "Trial 5 Complete [00h 03m 07s]\n",
      "val_accuracy: 0.836309552192688\n",
      "\n",
      "Best val_accuracy So Far: 0.8772321343421936\n",
      "Total elapsed time: 00h 18m 49s\n"
     ]
    }
   ],
   "source": [
    "early_stopping = EarlyStopping(monitor='val_loss', patience=5, verbose=1)\n",
    "\n",
    "tuner.search(train_generator,\n",
    "             steps_per_epoch=train_generator.samples // train_generator.batch_size,\n",
    "             validation_data=validation_generator, \n",
    "             validation_steps=validation_generator.samples // validation_generator.batch_size,\n",
    "             epochs=25,\n",
    "             callbacks=[early_stopping])\n",
    "\n",
    "\n",
    "# 최적의 하이퍼파라미터 가져오기\n",
    "best_hps = tuner.get_best_hyperparameters(num_trials=1)[0]\n",
    "\n",
    "# 최적의 하이퍼파라미터로 모델 빌드\n",
    "model = tuner.hypermodel.build(best_hps)"
   ]
  },
  {
   "cell_type": "code",
   "execution_count": 5,
   "id": "e69e2532-3934-4908-873a-ea2b30a70462",
   "metadata": {},
   "outputs": [
    {
     "name": "stdout",
     "output_type": "stream",
     "text": [
      "The optimal value for units is 128\n",
      "The optimal value for learning_rate is 0.00014624836934599254\n",
      "Epoch 1/25\n",
      "197/197 [==============================] - 18s 76ms/step - loss: 1.3319 - accuracy: 0.4694 - val_loss: 1.1635 - val_accuracy: 0.5149\n",
      "Epoch 2/25\n",
      "197/197 [==============================] - 15s 74ms/step - loss: 0.9527 - accuracy: 0.6139 - val_loss: 0.9382 - val_accuracy: 0.6257\n",
      "Epoch 3/25\n",
      "197/197 [==============================] - 14s 73ms/step - loss: 0.7361 - accuracy: 0.7080 - val_loss: 0.8053 - val_accuracy: 0.7106\n",
      "Epoch 4/25\n",
      "197/197 [==============================] - 15s 74ms/step - loss: 0.5736 - accuracy: 0.7806 - val_loss: 0.6489 - val_accuracy: 0.7686\n",
      "Epoch 5/25\n",
      "197/197 [==============================] - 15s 74ms/step - loss: 0.4144 - accuracy: 0.8516 - val_loss: 1.0543 - val_accuracy: 0.6376\n",
      "Epoch 6/25\n",
      "197/197 [==============================] - 14s 73ms/step - loss: 0.3560 - accuracy: 0.8705 - val_loss: 0.7233 - val_accuracy: 0.7567\n",
      "Epoch 7/25\n",
      "197/197 [==============================] - 15s 74ms/step - loss: 0.2680 - accuracy: 0.9030 - val_loss: 0.5966 - val_accuracy: 0.8006\n",
      "Epoch 8/25\n",
      "197/197 [==============================] - 14s 73ms/step - loss: 0.2171 - accuracy: 0.9245 - val_loss: 0.6263 - val_accuracy: 0.8132\n",
      "Epoch 9/25\n",
      "197/197 [==============================] - 14s 73ms/step - loss: 0.1687 - accuracy: 0.9416 - val_loss: 0.5997 - val_accuracy: 0.8289\n",
      "Epoch 10/25\n",
      "197/197 [==============================] - 15s 74ms/step - loss: 0.1680 - accuracy: 0.9455 - val_loss: 0.7426 - val_accuracy: 0.7693\n",
      "Epoch 11/25\n",
      "197/197 [==============================] - 15s 74ms/step - loss: 0.1383 - accuracy: 0.9570 - val_loss: 0.4763 - val_accuracy: 0.8780\n",
      "Epoch 12/25\n",
      "197/197 [==============================] - 14s 73ms/step - loss: 0.1009 - accuracy: 0.9693 - val_loss: 0.5133 - val_accuracy: 0.8512\n",
      "Epoch 13/25\n",
      "197/197 [==============================] - 14s 73ms/step - loss: 0.0943 - accuracy: 0.9715 - val_loss: 0.5476 - val_accuracy: 0.8594\n",
      "Epoch 14/25\n",
      "197/197 [==============================] - 15s 74ms/step - loss: 0.1444 - accuracy: 0.9543 - val_loss: 0.8379 - val_accuracy: 0.7857\n",
      "Epoch 15/25\n",
      "197/197 [==============================] - 14s 73ms/step - loss: 0.1383 - accuracy: 0.9559 - val_loss: 0.5677 - val_accuracy: 0.8542\n",
      "Epoch 16/25\n",
      "197/197 [==============================] - 15s 74ms/step - loss: 0.0710 - accuracy: 0.9791 - val_loss: 0.5455 - val_accuracy: 0.8586\n",
      "Epoch 16: early stopping\n",
      "42/42 [==============================] - 4s 105ms/step - loss: 0.6249 - accuracy: 0.8542\n",
      "\n",
      "테스트 정확도: 0.8541666865348816\n"
     ]
    }
   ],
   "source": [
    "# 모든 최적 하이퍼파라미터 출력\n",
    "for hp in best_hps.values:\n",
    "    print(f\"The optimal value for {hp} is {best_hps.get(hp)}\")\n",
    "    \n",
    "# 모델 훈련\n",
    "history = model.fit(train_generator,\n",
    "                    steps_per_epoch=train_generator.samples // train_generator.batch_size,\n",
    "                    validation_data=validation_generator, \n",
    "                    validation_steps=validation_generator.samples // validation_generator.batch_size,\n",
    "                    epochs=25,\n",
    "                    callbacks=[early_stopping])\n",
    "\n",
    "# 모델 평가 (테스트 데이터셋)\n",
    "test_loss, test_acc = model.evaluate(test_generator, steps=test_generator.samples // test_generator.batch_size)\n",
    "print('\\n테스트 정확도:', test_acc)"
   ]
  },
  {
   "cell_type": "code",
   "execution_count": 6,
   "id": "8e93b5f0-1f9a-4136-9b06-a2a1465886ed",
   "metadata": {},
   "outputs": [
    {
     "name": "stderr",
     "output_type": "stream",
     "text": [
      "WARNING:absl:Found untraced functions such as _jit_compiled_convolution_op, _jit_compiled_convolution_op, _jit_compiled_convolution_op, _jit_compiled_convolution_op, _jit_compiled_convolution_op while saving (showing 5 of 53). These functions will not be directly callable after loading.\n"
     ]
    },
    {
     "name": "stdout",
     "output_type": "stream",
     "text": [
      "INFO:tensorflow:Assets written to: E:\\AImodel\\models\\Face-ResNet-ScissorCross-remove-model\\assets\n"
     ]
    },
    {
     "name": "stderr",
     "output_type": "stream",
     "text": [
      "INFO:tensorflow:Assets written to: E:\\AImodel\\models\\Face-ResNet-ScissorCross-remove-model\\assets\n"
     ]
    }
   ],
   "source": [
    "model.save(r'E:\\AImodel\\models\\Face-ResNet-ScissorCross-remove-model')"
   ]
  },
  {
   "cell_type": "code",
   "execution_count": null,
   "id": "ea8308c7-b80e-4182-882f-39d5567196e2",
   "metadata": {},
   "outputs": [],
   "source": []
  }
 ],
 "metadata": {
  "kernelspec": {
   "display_name": "tensorGPU",
   "language": "python",
   "name": "tensorgpu"
  },
  "language_info": {
   "codemirror_mode": {
    "name": "ipython",
    "version": 3
   },
   "file_extension": ".py",
   "mimetype": "text/x-python",
   "name": "python",
   "nbconvert_exporter": "python",
   "pygments_lexer": "ipython3",
   "version": "3.9.18"
  }
 },
 "nbformat": 4,
 "nbformat_minor": 5
}
