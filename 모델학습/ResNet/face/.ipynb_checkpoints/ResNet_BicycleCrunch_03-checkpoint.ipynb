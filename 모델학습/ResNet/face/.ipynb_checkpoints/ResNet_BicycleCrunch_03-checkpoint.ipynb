{
 "cells": [
  {
   "cell_type": "code",
   "execution_count": 3,
   "id": "037f84ae-9b6b-4fd8-aa54-ebe006186b77",
   "metadata": {},
   "outputs": [
    {
     "name": "stdout",
     "output_type": "stream",
     "text": [
      "Found 7775 images belonging to 8 classes.\n",
      "Found 1670 images belonging to 8 classes.\n",
      "Found 1667 images belonging to 8 classes.\n"
     ]
    }
   ],
   "source": [
    "import os\n",
    "import cv2\n",
    "import numpy as np\n",
    "import matplotlib.pyplot as plt\n",
    "import tensorflow as tf\n",
    "from tensorflow.keras import layers\n",
    "from tensorflow.keras import models\n",
    "import keras_preprocessing\n",
    "from keras_preprocessing import image\n",
    "from keras_preprocessing.image import ImageDataGenerator\n",
    "from sklearn.model_selection import train_test_split\n",
    "from keras.callbacks import EarlyStopping\n",
    "from tensorflow.keras import optimizers\n",
    "from keras_tuner.tuners import RandomSearch\n",
    "\n",
    "train_dir = r'E:\\AI\\dataset_skeleton_sep\\side\\BicycleCrunch\\training'\n",
    "val_dir = r'E:\\AI\\dataset_skeleton_sep\\side\\BicycleCrunch\\validation'\n",
    "test_dir = r'E:\\AI\\dataset_skeleton_sep\\side\\BicycleCrunch\\test'\n",
    "\n",
    "# ImageDataGenerator 초기화\n",
    "datagen = ImageDataGenerator(rescale=1./255)  # 이미지를 0과 1 사이의 값으로 정규화\n",
    "\n",
    "# 훈련, 검증, 테스트 데이터셋을 위한 제너레이터 생성\n",
    "train_generator = datagen.flow_from_directory(\n",
    "    train_dir,\n",
    "    target_size=(128, 128),\n",
    "    batch_size=32,\n",
    "    class_mode='categorical',\n",
    "    shuffle=True)\n",
    "\n",
    "validation_generator = datagen.flow_from_directory(\n",
    "    val_dir,\n",
    "    target_size=(128, 128),\n",
    "    batch_size=32,\n",
    "    class_mode='categorical',\n",
    "    shuffle=False)\n",
    "\n",
    "test_generator = datagen.flow_from_directory(\n",
    "    test_dir,\n",
    "    target_size=(128, 128),\n",
    "    batch_size=32,\n",
    "    class_mode='categorical',\n",
    "    shuffle=False)\n"
   ]
  },
  {
   "cell_type": "code",
   "execution_count": 4,
   "id": "9973f0e2-cc5d-49b6-a8cf-257f84ad5e8b",
   "metadata": {},
   "outputs": [
    {
     "name": "stdout",
     "output_type": "stream",
     "text": [
      "Model: \"ResNet50v2_RT\"\n",
      "_________________________________________________________________\n",
      " Layer (type)                Output Shape              Param #   \n",
      "=================================================================\n",
      " resnet50v2 (Functional)     (None, 4, 4, 2048)        23564800  \n",
      "                                                                 \n",
      " flatten (Flatten)           (None, 32768)             0         \n",
      "                                                                 \n",
      " dense (Dense)               (None, 512)               16777728  \n",
      "                                                                 \n",
      " dense_1 (Dense)             (None, 8)                 4104      \n",
      "                                                                 \n",
      "=================================================================\n",
      "Total params: 40,346,632\n",
      "Trainable params: 40,301,192\n",
      "Non-trainable params: 45,440\n",
      "_________________________________________________________________\n"
     ]
    }
   ],
   "source": [
    "\n",
    "RN50_2 = tf.keras.applications.resnet_v2.ResNet50V2(weights=\"imagenet\",\n",
    "                                          include_top=False, \n",
    "                                          input_shape=(128, 128, 3))\n",
    "\n",
    "RN50_2.trainable = True # 이미 학습된 가중치만을 사용\n",
    "\n",
    "model = models.Sequential(name=\"ResNet50v2_RT\")\n",
    "model.add(RN50_2)\n",
    "\n",
    "model.add(layers.Flatten())\n",
    "model.add(layers.Dense(512, activation = 'relu'))\n",
    "model.add(layers.Dense(8, activation = 'softmax'))  \n",
    "\n",
    "model.summary()"
   ]
  },
  {
   "cell_type": "code",
   "execution_count": 5,
   "id": "a43c18dc-2a64-4c4f-95a8-d2ded0404978",
   "metadata": {},
   "outputs": [
    {
     "name": "stdout",
     "output_type": "stream",
     "text": [
      "Epoch 1/25\n",
      "242/242 [==============================] - 26s 84ms/step - loss: 2.0251 - accuracy: 0.2397 - val_loss: 1.8840 - val_accuracy: 0.2776\n",
      "Epoch 2/25\n",
      "242/242 [==============================] - 19s 80ms/step - loss: 1.5965 - accuracy: 0.3938 - val_loss: 1.5311 - val_accuracy: 0.4363\n",
      "Epoch 3/25\n",
      "242/242 [==============================] - 19s 80ms/step - loss: 1.2423 - accuracy: 0.5282 - val_loss: 1.4489 - val_accuracy: 0.4657\n",
      "Epoch 4/25\n",
      "242/242 [==============================] - 19s 80ms/step - loss: 0.9914 - accuracy: 0.6225 - val_loss: 1.4459 - val_accuracy: 0.4988\n",
      "Epoch 5/25\n",
      "242/242 [==============================] - 19s 80ms/step - loss: 0.7578 - accuracy: 0.7204 - val_loss: 1.3630 - val_accuracy: 0.5475\n",
      "Epoch 6/25\n",
      "242/242 [==============================] - 19s 80ms/step - loss: 0.5649 - accuracy: 0.8001 - val_loss: 1.3597 - val_accuracy: 0.5709\n",
      "Epoch 7/25\n",
      "242/242 [==============================] - 19s 80ms/step - loss: 0.4426 - accuracy: 0.8498 - val_loss: 1.7216 - val_accuracy: 0.5186\n",
      "Epoch 8/25\n",
      "242/242 [==============================] - 20s 83ms/step - loss: 0.3468 - accuracy: 0.8795 - val_loss: 1.4942 - val_accuracy: 0.5745\n",
      "Epoch 9/25\n",
      "242/242 [==============================] - 19s 80ms/step - loss: 0.2797 - accuracy: 0.9069 - val_loss: 1.4673 - val_accuracy: 0.5871\n",
      "Epoch 10/25\n",
      "242/242 [==============================] - 19s 79ms/step - loss: 0.2248 - accuracy: 0.9257 - val_loss: 1.5401 - val_accuracy: 0.6082\n",
      "Epoch 11/25\n",
      "242/242 [==============================] - 19s 79ms/step - loss: 0.1819 - accuracy: 0.9416 - val_loss: 1.6332 - val_accuracy: 0.5925\n",
      "Epoch 11: early stopping\n",
      "52/52 [==============================] - 1s 22ms/step - loss: 1.5711 - accuracy: 0.6142\n",
      "\n",
      "테스트 정확도: 0.614182710647583\n"
     ]
    }
   ],
   "source": [
    "\n",
    "early_stopping = EarlyStopping(monitor='val_loss', patience=5, verbose=1)\n",
    "\n",
    "model.compile(optimizer = optimizers.Adam(learning_rate = 0.0001),  \n",
    "              loss='categorical_crossentropy', \n",
    "              metrics=['accuracy'])\n",
    "history = model.fit(train_generator,\n",
    "                    steps_per_epoch=train_generator.samples // train_generator.batch_size,\n",
    "                    validation_data=validation_generator, \n",
    "                    validation_steps=validation_generator.samples // validation_generator.batch_size,\n",
    "                    epochs = 25, \n",
    "                    verbose=1, \n",
    "                    callbacks=[early_stopping])\n",
    "\n",
    "test_loss, test_acc = model.evaluate(test_generator, steps=test_generator.samples // test_generator.batch_size)\n",
    "print('\\n테스트 정확도:', test_acc)"
   ]
  },
  {
   "cell_type": "code",
   "execution_count": null,
   "id": "652674e5-3f26-44f4-ae68-d6397660663f",
   "metadata": {},
   "outputs": [],
   "source": []
  }
 ],
 "metadata": {
  "kernelspec": {
   "display_name": "tensorGPU",
   "language": "python",
   "name": "tensorgpu"
  },
  "language_info": {
   "codemirror_mode": {
    "name": "ipython",
    "version": 3
   },
   "file_extension": ".py",
   "mimetype": "text/x-python",
   "name": "python",
   "nbconvert_exporter": "python",
   "pygments_lexer": "ipython3",
   "version": "3.9.18"
  }
 },
 "nbformat": 4,
 "nbformat_minor": 5
}
