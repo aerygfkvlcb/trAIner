{
 "cells": [
  {
   "cell_type": "code",
   "execution_count": 1,
   "id": "037f84ae-9b6b-4fd8-aa54-ebe006186b77",
   "metadata": {},
   "outputs": [
    {
     "name": "stdout",
     "output_type": "stream",
     "text": [
      "Found 8409 images belonging to 8 classes.\n",
      "Found 1807 images belonging to 8 classes.\n",
      "Found 1805 images belonging to 8 classes.\n"
     ]
    }
   ],
   "source": [
    "import os\n",
    "import cv2\n",
    "import numpy as np\n",
    "import matplotlib.pyplot as plt\n",
    "import tensorflow as tf\n",
    "from tensorflow.keras import layers, models, optimizers, regularizers\n",
    "import keras_preprocessing\n",
    "from keras_preprocessing import image\n",
    "from keras_preprocessing.image import ImageDataGenerator\n",
    "from keras.callbacks import EarlyStopping\n",
    "from keras_tuner import RandomSearch\n",
    "train_dir = r'E:\\AI\\dataset_skeleton_sep\\face\\HipThrust\\training'\n",
    "val_dir = r'E:\\AI\\dataset_skeleton_sep\\face\\HipThrust\\validation'\n",
    "test_dir = r'E:\\AI\\dataset_skeleton_sep\\face\\HipThrust\\test'\n",
    "\n",
    "# ImageDataGenerator 초기화\n",
    "datagen = ImageDataGenerator(rescale=1./255)  # 이미지를 0과 1 사이의 값으로 정규화\n",
    "\n",
    "# 훈련, 검증, 테스트 데이터셋을 위한 제너레이터 생성\n",
    "train_generator = datagen.flow_from_directory(\n",
    "    train_dir,\n",
    "    target_size=(128, 128),\n",
    "    batch_size=32,\n",
    "    class_mode='categorical',\n",
    "    shuffle=True)\n",
    "\n",
    "validation_generator = datagen.flow_from_directory(\n",
    "    val_dir,\n",
    "    target_size=(128, 128),\n",
    "    batch_size=32,\n",
    "    class_mode='categorical',\n",
    "    shuffle=False)\n",
    "\n",
    "test_generator = datagen.flow_from_directory(\n",
    "    test_dir,\n",
    "    target_size=(128, 128),\n",
    "    batch_size=32,\n",
    "    class_mode='categorical',\n",
    "    shuffle=False)\n"
   ]
  },
  {
   "cell_type": "code",
   "execution_count": 2,
   "id": "dea49f2b-a228-497d-ba9a-f5d120443afa",
   "metadata": {},
   "outputs": [],
   "source": [
    "def build_model(hp):\n",
    "    base_model = tf.keras.applications.resnet_v2.ResNet50V2(weights=\"imagenet\",\n",
    "                                                         include_top=False, \n",
    "                                                         input_shape=(128, 128, 3))\n",
    "    for layer in base_model.layers:\n",
    "        base_model.trainable = False\n",
    "    for layer in base_model.layers[-9:]:\n",
    "        base_model.trainable = True\n",
    "    \n",
    "\n",
    "    model = models.Sequential()\n",
    "    model.add(base_model)\n",
    "    model.add(layers.Flatten())\n",
    "    \n",
    "    # Dropout 적용\n",
    "    #model.add(layers.Dropout(rate=hp.Float('dropout_rate', min_value=0.0, max_value=0.5, step=0.1)))\n",
    "\n",
    "    # L2 규제를 적용한 Dense 레이어 추가\n",
    "    model.add(layers.Dense(units=hp.Int('units', min_value=128, max_value=512, step=128),\n",
    "                           activation='relu',))\n",
    "                           #kernel_regularizer=regularizers.l2(hp.Float('l2', min_value=1e-5, max_value=1e-2, sampling='LOG'))))\n",
    "    \n",
    "    # Dense 레이어의 유닛 수를 하이퍼파라미터로 사용\n",
    "    #model.add(layers.Dense(units=hp.Int('units', min_value=128, max_value=512, step=128), activation = 'relu'))\n",
    "    \n",
    "    # Dense 레이어의 유닛 수를 하이퍼파라미터로 사용\n",
    "    #model.add(layers.Dense(units=hp.Int('units', min_value=128, max_value=512, step=128), activation = 'relu'))\n",
    "    model.add(layers.Dense(8, activation = 'softmax'))\n",
    "    \n",
    "    # learning_rate를 하이퍼파라미터로 사용\n",
    "    model.compile(optimizer=optimizers.Adam(learning_rate=hp.Float('learning_rate', min_value=1e-5, max_value=1e-3, sampling='LOG')),\n",
    "                  loss='categorical_crossentropy',\n",
    "                  metrics=['accuracy'])\n",
    "    \n",
    "    return model\n"
   ]
  },
  {
   "cell_type": "code",
   "execution_count": 3,
   "id": "95709e65-3d73-4157-bdb1-36ea1c21dfb6",
   "metadata": {},
   "outputs": [
    {
     "name": "stdout",
     "output_type": "stream",
     "text": [
      "Search space summary\n",
      "Default search space size: 2\n",
      "units (Int)\n",
      "{'default': None, 'conditions': [], 'min_value': 128, 'max_value': 512, 'step': 128, 'sampling': 'linear'}\n",
      "learning_rate (Float)\n",
      "{'default': 1e-05, 'conditions': [], 'min_value': 1e-05, 'max_value': 0.001, 'step': None, 'sampling': 'log'}\n"
     ]
    }
   ],
   "source": [
    "import keras_tuner as kt\n",
    "\n",
    "tuner = RandomSearch(\n",
    "    build_model,\n",
    "    objective='val_accuracy',\n",
    "    max_trials=5,  # 시도할 하이퍼파라미터 조합의 최대 개수\n",
    "    executions_per_trial=1,  # 각 하이퍼파라미터 설정을 평가하기 위해 모델을 훈련시킬 횟수\n",
    "    directory=r'E:\\AImodel\\ResNet_RandomSearch',  # 튜닝 세션의 결과를 저장할 디렉토리 이름\n",
    "    project_name='ResNet-HipThrust-01', # 프로젝트 이름    \n",
    ")\n",
    "tuner.search_space_summary()"
   ]
  },
  {
   "cell_type": "code",
   "execution_count": 4,
   "id": "a43c18dc-2a64-4c4f-95a8-d2ded0404978",
   "metadata": {},
   "outputs": [
    {
     "name": "stdout",
     "output_type": "stream",
     "text": [
      "Trial 5 Complete [00h 03m 27s]\n",
      "val_accuracy: 0.6796875\n",
      "\n",
      "Best val_accuracy So Far: 0.8046875\n",
      "Total elapsed time: 00h 26m 29s\n"
     ]
    }
   ],
   "source": [
    "early_stopping = EarlyStopping(monitor='val_loss', patience=5, verbose=1)\n",
    "\n",
    "tuner.search(train_generator,\n",
    "             steps_per_epoch=train_generator.samples // train_generator.batch_size,\n",
    "             validation_data=validation_generator, \n",
    "             validation_steps=validation_generator.samples // validation_generator.batch_size,\n",
    "             epochs=25,\n",
    "             callbacks=[early_stopping])\n",
    "\n",
    "\n",
    "# 최적의 하이퍼파라미터 가져오기\n",
    "best_hps = tuner.get_best_hyperparameters(num_trials=1)[0]\n",
    "\n",
    "# 최적의 하이퍼파라미터로 모델 빌드\n",
    "model = tuner.hypermodel.build(best_hps)"
   ]
  },
  {
   "cell_type": "code",
   "execution_count": 5,
   "id": "e69e2532-3934-4908-873a-ea2b30a70462",
   "metadata": {},
   "outputs": [
    {
     "name": "stdout",
     "output_type": "stream",
     "text": [
      "The optimal value for units is 256\n",
      "The optimal value for learning_rate is 0.00014610648647933147\n",
      "Epoch 1/25\n",
      "262/262 [==============================] - 22s 72ms/step - loss: 1.7270 - accuracy: 0.3014 - val_loss: 1.6978 - val_accuracy: 0.3225\n",
      "Epoch 2/25\n",
      "262/262 [==============================] - 18s 70ms/step - loss: 1.3636 - accuracy: 0.4215 - val_loss: 1.3109 - val_accuracy: 0.4615\n",
      "Epoch 3/25\n",
      "262/262 [==============================] - 18s 70ms/step - loss: 1.1140 - accuracy: 0.5261 - val_loss: 1.2858 - val_accuracy: 0.4883\n",
      "Epoch 4/25\n",
      "262/262 [==============================] - 19s 71ms/step - loss: 0.9211 - accuracy: 0.6099 - val_loss: 1.0723 - val_accuracy: 0.5670\n",
      "Epoch 5/25\n",
      "262/262 [==============================] - 18s 70ms/step - loss: 0.7610 - accuracy: 0.6859 - val_loss: 0.8764 - val_accuracy: 0.6373\n",
      "Epoch 6/25\n",
      "262/262 [==============================] - 19s 71ms/step - loss: 0.6237 - accuracy: 0.7529 - val_loss: 0.7710 - val_accuracy: 0.6992\n",
      "Epoch 7/25\n",
      "262/262 [==============================] - 19s 71ms/step - loss: 0.5095 - accuracy: 0.7979 - val_loss: 0.7744 - val_accuracy: 0.6964\n",
      "Epoch 8/25\n",
      "262/262 [==============================] - 18s 70ms/step - loss: 0.4242 - accuracy: 0.8424 - val_loss: 0.7603 - val_accuracy: 0.7215\n",
      "Epoch 9/25\n",
      "262/262 [==============================] - 18s 70ms/step - loss: 0.3470 - accuracy: 0.8689 - val_loss: 0.8589 - val_accuracy: 0.7148\n",
      "Epoch 10/25\n",
      "262/262 [==============================] - 19s 71ms/step - loss: 0.2839 - accuracy: 0.8942 - val_loss: 0.8288 - val_accuracy: 0.6914\n",
      "Epoch 11/25\n",
      "262/262 [==============================] - 18s 70ms/step - loss: 0.2585 - accuracy: 0.9100 - val_loss: 0.7368 - val_accuracy: 0.7522\n",
      "Epoch 12/25\n",
      "262/262 [==============================] - 18s 70ms/step - loss: 0.2216 - accuracy: 0.9225 - val_loss: 0.8104 - val_accuracy: 0.7494\n",
      "Epoch 13/25\n",
      "262/262 [==============================] - 18s 70ms/step - loss: 0.1885 - accuracy: 0.9345 - val_loss: 0.8491 - val_accuracy: 0.7433\n",
      "Epoch 14/25\n",
      "262/262 [==============================] - 18s 70ms/step - loss: 0.1599 - accuracy: 0.9465 - val_loss: 0.6971 - val_accuracy: 0.7796\n",
      "Epoch 15/25\n",
      "262/262 [==============================] - 18s 70ms/step - loss: 0.1393 - accuracy: 0.9539 - val_loss: 0.7578 - val_accuracy: 0.7807\n",
      "Epoch 16/25\n",
      "262/262 [==============================] - 18s 70ms/step - loss: 0.1492 - accuracy: 0.9506 - val_loss: 0.6563 - val_accuracy: 0.7969\n",
      "Epoch 17/25\n",
      "262/262 [==============================] - 18s 70ms/step - loss: 0.1366 - accuracy: 0.9577 - val_loss: 0.8744 - val_accuracy: 0.7801\n",
      "Epoch 18/25\n",
      "262/262 [==============================] - 18s 70ms/step - loss: 0.0999 - accuracy: 0.9674 - val_loss: 0.8581 - val_accuracy: 0.7729\n",
      "Epoch 19/25\n",
      "262/262 [==============================] - 18s 70ms/step - loss: 0.1295 - accuracy: 0.9601 - val_loss: 0.7565 - val_accuracy: 0.7818\n",
      "Epoch 20/25\n",
      "262/262 [==============================] - 18s 70ms/step - loss: 0.1093 - accuracy: 0.9681 - val_loss: 0.7351 - val_accuracy: 0.7863\n",
      "Epoch 21/25\n",
      "262/262 [==============================] - 19s 71ms/step - loss: 0.0907 - accuracy: 0.9716 - val_loss: 0.8619 - val_accuracy: 0.7640\n",
      "Epoch 21: early stopping\n",
      "56/56 [==============================] - 6s 102ms/step - loss: 0.8313 - accuracy: 0.7924\n",
      "\n",
      "테스트 정확도: 0.7924107313156128\n"
     ]
    }
   ],
   "source": [
    "# 모든 최적 하이퍼파라미터 출력\n",
    "for hp in best_hps.values:\n",
    "    print(f\"The optimal value for {hp} is {best_hps.get(hp)}\")\n",
    "    \n",
    "# 모델 훈련\n",
    "history = model.fit(train_generator,\n",
    "                    steps_per_epoch=train_generator.samples // train_generator.batch_size,\n",
    "                    validation_data=validation_generator, \n",
    "                    validation_steps=validation_generator.samples // validation_generator.batch_size,\n",
    "                    epochs=25,\n",
    "                    callbacks=[early_stopping])\n",
    "\n",
    "# 모델 평가 (테스트 데이터셋)\n",
    "test_loss, test_acc = model.evaluate(test_generator, steps=test_generator.samples // test_generator.batch_size)\n",
    "print('\\n테스트 정확도:', test_acc)"
   ]
  },
  {
   "cell_type": "code",
   "execution_count": 6,
   "id": "8e93b5f0-1f9a-4136-9b06-a2a1465886ed",
   "metadata": {},
   "outputs": [
    {
     "name": "stderr",
     "output_type": "stream",
     "text": [
      "WARNING:absl:Found untraced functions such as _jit_compiled_convolution_op, _jit_compiled_convolution_op, _jit_compiled_convolution_op, _jit_compiled_convolution_op, _jit_compiled_convolution_op while saving (showing 5 of 53). These functions will not be directly callable after loading.\n"
     ]
    },
    {
     "name": "stdout",
     "output_type": "stream",
     "text": [
      "INFO:tensorflow:Assets written to: E:\\AImodel\\models\\Face-ResNet-Plank-model\\assets\n"
     ]
    },
    {
     "name": "stderr",
     "output_type": "stream",
     "text": [
      "INFO:tensorflow:Assets written to: E:\\AImodel\\models\\Face-ResNet-Plank-model\\assets\n"
     ]
    }
   ],
   "source": [
    "model.save(r'E:\\AImodel\\models\\Face-ResNet-Plank-model')"
   ]
  },
  {
   "cell_type": "code",
   "execution_count": null,
   "id": "ea8308c7-b80e-4182-882f-39d5567196e2",
   "metadata": {},
   "outputs": [],
   "source": []
  }
 ],
 "metadata": {
  "kernelspec": {
   "display_name": "tensorGPU",
   "language": "python",
   "name": "tensorgpu"
  },
  "language_info": {
   "codemirror_mode": {
    "name": "ipython",
    "version": 3
   },
   "file_extension": ".py",
   "mimetype": "text/x-python",
   "name": "python",
   "nbconvert_exporter": "python",
   "pygments_lexer": "ipython3",
   "version": "3.9.18"
  }
 },
 "nbformat": 4,
 "nbformat_minor": 5
}
