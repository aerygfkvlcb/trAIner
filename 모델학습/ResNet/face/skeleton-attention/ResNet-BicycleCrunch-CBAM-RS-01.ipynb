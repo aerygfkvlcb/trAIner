{
 "cells": [
  {
   "cell_type": "code",
   "execution_count": 1,
   "id": "037f84ae-9b6b-4fd8-aa54-ebe006186b77",
   "metadata": {},
   "outputs": [
    {
     "name": "stdout",
     "output_type": "stream",
     "text": [
      "Found 3940 images belonging to 4 classes.\n",
      "Found 846 images belonging to 4 classes.\n",
      "Found 846 images belonging to 4 classes.\n"
     ]
    }
   ],
   "source": [
    "import os\n",
    "import cv2\n",
    "import numpy as np\n",
    "import matplotlib.pyplot as plt\n",
    "import tensorflow as tf\n",
    "from tensorflow.keras import layers, models, optimizers\n",
    "from tensorflow.keras import regularizers\n",
    "import keras_preprocessing\n",
    "from keras_preprocessing import image\n",
    "from keras_preprocessing.image import ImageDataGenerator\n",
    "from keras.callbacks import EarlyStopping\n",
    "from keras_tuner import RandomSearch\n",
    "train_dir = r'E:\\AItemp\\BicycleCrunch\\training'\n",
    "val_dir = r'E:\\AItemp\\BicycleCrunch\\validation'\n",
    "test_dir = r'E:\\AItemp\\BicycleCrunch\\test'\n",
    "\n",
    "from tensorflow.keras.preprocessing.image import ImageDataGenerator\n",
    "\n",
    "# 데이터 증식을 위한 ImageDataGenerator 초기화\n",
    "train_datagen = ImageDataGenerator(\n",
    "    rescale=1./255,  # 이미지 스케일 조정\n",
    "    #width_shift_range=0.2,  # 이미지를 수평으로 랜덤 이동 시키는 범위\n",
    "    #height_shift_range=0.2,  # 이미지를 수직으로 랜덤 이동 시키는 범위\n",
    "    #zoom_range=0.2,  # 랜덤하게 확대할 범위\n",
    "    #horizontal_flip=True,  # 수평 방향으로 이미지 뒤집기\n",
    "    #fill_mode='nearest'  # 회전이나 너비/높이 이동으로 인해 새롭게 생성해야 할 픽셀을 채우는 방법\n",
    ")\n",
    "\n",
    "# 검증과 테스트 데이터셋에는 데이터 증식을 적용하지 않음\n",
    "test_datagen = ImageDataGenerator(rescale=1./255)\n",
    "\n",
    "# 훈련 데이터셋을 위한 제너레이터\n",
    "train_generator = train_datagen.flow_from_directory(\n",
    "    train_dir,\n",
    "    target_size=(128, 128),\n",
    "    batch_size=32,\n",
    "    class_mode='categorical',\n",
    "    shuffle=True)\n",
    "\n",
    "# 검증 데이터셋을 위한 제너레이터\n",
    "validation_generator = test_datagen.flow_from_directory(\n",
    "    val_dir,\n",
    "    target_size=(128, 128),\n",
    "    batch_size=32,\n",
    "    class_mode='categorical',\n",
    "    shuffle=False)\n",
    "\n",
    "# 테스트 데이터셋을 위한 제너레이터\n",
    "test_generator = test_datagen.flow_from_directory(\n",
    "    test_dir,\n",
    "    target_size=(128, 128),\n",
    "    batch_size=32,\n",
    "    class_mode='categorical',\n",
    "    shuffle=False)\n"
   ]
  },
  {
   "cell_type": "code",
   "execution_count": 2,
   "id": "a71ed79c-b16e-4691-8fea-9a7ae403e165",
   "metadata": {},
   "outputs": [],
   "source": [
    "# CBAM attention 추가\n",
    "def channel_attention(input_feature, ratio=8):\n",
    "    channel = input_feature.shape[-1]\n",
    "    shared_layer_one = layers.Dense(channel//ratio,\n",
    "                                    activation='relu',\n",
    "                                    kernel_initializer='he_normal',\n",
    "                                    use_bias=True,\n",
    "                                    bias_initializer='zeros')\n",
    "    shared_layer_two = layers.Dense(channel,\n",
    "                                    kernel_initializer='he_normal',\n",
    "                                    use_bias=True,\n",
    "                                    bias_initializer='zeros')\n",
    "    \n",
    "    avg_pool = layers.GlobalAveragePooling2D()(input_feature)    \n",
    "    avg_pool = layers.Reshape((1,1,channel))(avg_pool)\n",
    "    assert avg_pool.shape[1:] == (1,1,channel)\n",
    "    avg_pool = shared_layer_one(avg_pool)\n",
    "    assert avg_pool.shape[1:] == (1,1,channel//ratio)\n",
    "    avg_pool = shared_layer_two(avg_pool)\n",
    "    assert avg_pool.shape[1:] == (1,1,channel)\n",
    "    \n",
    "    max_pool = layers.GlobalMaxPooling2D()(input_feature)\n",
    "    max_pool = layers.Reshape((1,1,channel))(max_pool)\n",
    "    assert max_pool.shape[1:] == (1,1,channel)\n",
    "    max_pool = shared_layer_one(max_pool)\n",
    "    assert max_pool.shape[1:] == (1,1,channel//ratio)\n",
    "    max_pool = shared_layer_two(max_pool)\n",
    "    assert max_pool.shape[1:] == (1,1,channel)\n",
    "    \n",
    "    cbam_feature = layers.Add()([avg_pool, max_pool])\n",
    "    cbam_feature = layers.Activation('sigmoid')(cbam_feature)\n",
    "    \n",
    "    return layers.Multiply()([input_feature, cbam_feature])\n",
    "\n",
    "def spatial_attention(input_feature):\n",
    "    kernel_size = 7\n",
    "    \n",
    "    avg_pool = layers.Lambda(lambda x: tf.reduce_mean(x, axis=-1, keepdims=True))(input_feature)\n",
    "    max_pool = layers.Lambda(lambda x: tf.reduce_max(x, axis=-1, keepdims=True))(input_feature)\n",
    "    concat = layers.Concatenate(axis=-1)([avg_pool, max_pool])\n",
    "    cbam_feature = layers.Conv2D(filters=1,\n",
    "                                 kernel_size=kernel_size,\n",
    "                                 strides=1,\n",
    "                                 padding='same',\n",
    "                                 activation='sigmoid',\n",
    "                                 kernel_initializer='he_normal',\n",
    "                                 use_bias=False)(concat)\n",
    "    \n",
    "    return layers.Multiply()([input_feature, cbam_feature])\n"
   ]
  },
  {
   "cell_type": "code",
   "execution_count": 3,
   "id": "dea49f2b-a228-497d-ba9a-f5d120443afa",
   "metadata": {},
   "outputs": [],
   "source": [
    "def build_model(hp):\n",
    "    input_tensor = layers.Input(shape=(128, 128, 3))\n",
    "    base_model = tf.keras.applications.resnet_v2.ResNet50V2(weights=\"imagenet\",\n",
    "                                                            include_top=False, \n",
    "                                                            input_tensor=input_tensor)\n",
    "\n",
    "    base_model.trainable = False\n",
    "    for layer in base_model.layers[-9:]:\n",
    "        layer.trainable = True\n",
    "\n",
    "    x = base_model.output\n",
    "    x = channel_attention(x)\n",
    "    x = spatial_attention(x)\n",
    "    x = layers.Flatten()(x)\n",
    "    \n",
    "    # Dense 층의 유닛 수를 하이퍼파라미터로 설정\n",
    "    units = hp.Int('units', min_value=128, max_value=1024, step=128)\n",
    "    x = layers.Dense(units, activation='relu')(x)\n",
    "    #x = layers.Dropout(0.5)(x)\n",
    "    output = layers.Dense(4, activation='softmax')(x)\n",
    "\n",
    "    model = models.Model(inputs=input_tensor, outputs=output)\n",
    "\n",
    "    # learning rate를 하이퍼파라미터로 설정\n",
    "    lr = hp.Float('learning_rate', min_value=1e-5, max_value=1e-3, sampling='LOG')\n",
    "    model.compile(optimizer=optimizers.Adam(lr),\n",
    "                  loss='categorical_crossentropy',\n",
    "                  metrics=['accuracy'])\n",
    "\n",
    "    return model\n"
   ]
  },
  {
   "cell_type": "code",
   "execution_count": 4,
   "id": "95709e65-3d73-4157-bdb1-36ea1c21dfb6",
   "metadata": {},
   "outputs": [
    {
     "name": "stdout",
     "output_type": "stream",
     "text": [
      "Search space summary\n",
      "Default search space size: 2\n",
      "units (Int)\n",
      "{'default': None, 'conditions': [], 'min_value': 128, 'max_value': 1024, 'step': 128, 'sampling': 'linear'}\n",
      "learning_rate (Float)\n",
      "{'default': 1e-05, 'conditions': [], 'min_value': 1e-05, 'max_value': 0.001, 'step': None, 'sampling': 'log'}\n"
     ]
    }
   ],
   "source": [
    "import keras_tuner as kt\n",
    "\n",
    "tuner = RandomSearch(\n",
    "    build_model,\n",
    "    objective='val_accuracy',\n",
    "    max_trials=20,  # 시도할 하이퍼파라미터 조합의 최대 개수\n",
    "    executions_per_trial=1,  # 각 하이퍼파라미터 설정을 평가하기 위해 모델을 훈련시킬 횟수\n",
    "    directory='E:\\AImodel\\ResNet_RandomSearch\\skeletonAttention',  # 튜닝 세션의 결과를 저장할 디렉토리 이름\n",
    "    project_name='ResNet-BicycleCrunch-attention-01',) # 프로젝트 이름\n",
    "\n",
    "tuner.search_space_summary()"
   ]
  },
  {
   "cell_type": "code",
   "execution_count": 5,
   "id": "a43c18dc-2a64-4c4f-95a8-d2ded0404978",
   "metadata": {},
   "outputs": [
    {
     "name": "stdout",
     "output_type": "stream",
     "text": [
      "Trial 20 Complete [00h 00m 34s]\n",
      "val_accuracy: 0.614182710647583\n",
      "\n",
      "Best val_accuracy So Far: 0.6466346383094788\n",
      "Total elapsed time: 00h 15m 15s\n"
     ]
    }
   ],
   "source": [
    "early_stopping = EarlyStopping(monitor='val_loss', patience=5, verbose=1)\n",
    "\n",
    "tuner.search(train_generator,\n",
    "             steps_per_epoch=train_generator.samples // train_generator.batch_size,\n",
    "             validation_data=validation_generator, \n",
    "             validation_steps=validation_generator.samples // validation_generator.batch_size,\n",
    "             epochs=25,\n",
    "             callbacks=[early_stopping])\n",
    "\n",
    "\n",
    "# 최적의 하이퍼파라미터 가져오기\n",
    "best_hps = tuner.get_best_hyperparameters(num_trials=1)[0]\n",
    "\n",
    "# 최적의 하이퍼파라미터로 모델 빌드\n",
    "model = tuner.hypermodel.build(best_hps)"
   ]
  },
  {
   "cell_type": "code",
   "execution_count": 6,
   "id": "e69e2532-3934-4908-873a-ea2b30a70462",
   "metadata": {},
   "outputs": [
    {
     "name": "stdout",
     "output_type": "stream",
     "text": [
      "The optimal value for units is 640\n",
      "The optimal value for learning_rate is 4.272970012783842e-05\n",
      "Epoch 1/25\n",
      "123/123 [==============================] - 7s 39ms/step - loss: 1.3225 - accuracy: 0.4158 - val_loss: 1.2050 - val_accuracy: 0.4663\n",
      "Epoch 2/25\n",
      "123/123 [==============================] - 4s 34ms/step - loss: 0.5684 - accuracy: 0.8237 - val_loss: 1.1355 - val_accuracy: 0.5493\n",
      "Epoch 3/25\n",
      "123/123 [==============================] - 4s 31ms/step - loss: 0.2351 - accuracy: 0.9511 - val_loss: 1.1173 - val_accuracy: 0.5697\n",
      "Epoch 4/25\n",
      "123/123 [==============================] - 4s 30ms/step - loss: 0.1281 - accuracy: 0.9803 - val_loss: 1.1494 - val_accuracy: 0.5986\n",
      "Epoch 5/25\n",
      "123/123 [==============================] - 4s 31ms/step - loss: 0.0627 - accuracy: 0.9882 - val_loss: 1.1925 - val_accuracy: 0.6130\n",
      "Epoch 6/25\n",
      "123/123 [==============================] - 4s 31ms/step - loss: 0.0383 - accuracy: 0.9954 - val_loss: 1.2193 - val_accuracy: 0.6070\n",
      "Epoch 7/25\n",
      "123/123 [==============================] - 4s 33ms/step - loss: 0.0225 - accuracy: 0.9969 - val_loss: 1.2312 - val_accuracy: 0.6262\n",
      "Epoch 8/25\n",
      "123/123 [==============================] - 4s 32ms/step - loss: 0.0151 - accuracy: 0.9972 - val_loss: 1.2438 - val_accuracy: 0.6250\n",
      "Epoch 8: early stopping\n",
      "26/26 [==============================] - 3s 100ms/step - loss: 1.3720 - accuracy: 0.5913\n",
      "\n",
      "테스트 정확도: 0.5913461446762085\n"
     ]
    }
   ],
   "source": [
    "# 모든 최적 하이퍼파라미터 출력\n",
    "for hp in best_hps.values:\n",
    "    print(f\"The optimal value for {hp} is {best_hps.get(hp)}\")\n",
    "\n",
    "# 모델 훈련\n",
    "history = model.fit(train_generator,\n",
    "                    steps_per_epoch=train_generator.samples // train_generator.batch_size,\n",
    "                    validation_data=validation_generator, \n",
    "                    validation_steps=validation_generator.samples // validation_generator.batch_size,\n",
    "                    epochs=25,\n",
    "                    callbacks=[early_stopping])\n",
    "\n",
    "# 모델 평가 (테스트 데이터셋)\n",
    "test_loss, test_acc = model.evaluate(test_generator, steps=test_generator.samples // test_generator.batch_size)\n",
    "print('\\n테스트 정확도:', test_acc)"
   ]
  },
  {
   "cell_type": "code",
   "execution_count": 7,
   "id": "8e93b5f0-1f9a-4136-9b06-a2a1465886ed",
   "metadata": {},
   "outputs": [
    {
     "name": "stderr",
     "output_type": "stream",
     "text": [
      "WARNING:absl:Found untraced functions such as _jit_compiled_convolution_op, _jit_compiled_convolution_op, _jit_compiled_convolution_op, _jit_compiled_convolution_op, _jit_compiled_convolution_op while saving (showing 5 of 54). These functions will not be directly callable after loading.\n"
     ]
    },
    {
     "name": "stdout",
     "output_type": "stream",
     "text": [
      "INFO:tensorflow:Assets written to: E:\\AImodel\\models\\skeletonAttention\\Face-ResNet-BicycleCrunch-Attention-model\\assets\n"
     ]
    },
    {
     "name": "stderr",
     "output_type": "stream",
     "text": [
      "INFO:tensorflow:Assets written to: E:\\AImodel\\models\\skeletonAttention\\Face-ResNet-BicycleCrunch-Attention-model\\assets\n"
     ]
    }
   ],
   "source": [
    "model.save(r'E:\\AImodel\\models\\skeletonAttention\\Face-ResNet-BicycleCrunch-Attention-model')\n"
   ]
  },
  {
   "cell_type": "code",
   "execution_count": null,
   "id": "bc1f8958-810e-49fd-8a96-0add1d53cc6d",
   "metadata": {},
   "outputs": [],
   "source": []
  }
 ],
 "metadata": {
  "kernelspec": {
   "display_name": "tensorGPU",
   "language": "python",
   "name": "tensorgpu"
  },
  "language_info": {
   "codemirror_mode": {
    "name": "ipython",
    "version": 3
   },
   "file_extension": ".py",
   "mimetype": "text/x-python",
   "name": "python",
   "nbconvert_exporter": "python",
   "pygments_lexer": "ipython3",
   "version": "3.9.18"
  }
 },
 "nbformat": 4,
 "nbformat_minor": 5
}
