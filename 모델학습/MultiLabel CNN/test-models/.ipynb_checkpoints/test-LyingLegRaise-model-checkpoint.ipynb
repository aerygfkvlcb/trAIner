{
 "cells": [
  {
   "cell_type": "code",
   "execution_count": 1,
   "id": "72c78879-76b1-4329-ade4-d235102a5223",
   "metadata": {},
   "outputs": [],
   "source": [
    "import os\n",
    "import json\n",
    "import cv2\n",
    "import tensorflow as tf\n",
    "import pandas as pd\n",
    "import numpy as np\n",
    "import matplotlib.pyplot as plt\n",
    "import matplotlib.cm as cm\n",
    "from tensorflow.keras.preprocessing import image\n",
    "from tensorflow import keras\n",
    "from tensorflow.keras.applications import resnet50, ResNet50\n",
    "from tensorflow.keras.preprocessing import image\n"
   ]
  },
  {
   "cell_type": "markdown",
   "id": "4726c3e8-80b9-43ed-b71e-e23f28e13a44",
   "metadata": {},
   "source": [
    "모델 load, 이미지 데이터 폴더 경로설정"
   ]
  },
  {
   "cell_type": "code",
   "execution_count": 2,
   "id": "ea1e6b0b-9644-496d-a893-4554fedc63fd",
   "metadata": {},
   "outputs": [],
   "source": [
    "json_path = 'E:/AInotes/자세교정/모델학습/label_data.json'\n",
    "direction = 'face'\n",
    "exercise_name = 'LyingLegRaise'\n",
    "test_folder = f'E:/AI/dataset_skeleton_sep/{direction}/{exercise_name}/test'\n",
    "exercise_name = 'LyingLegRaise'.lower()\n",
    "model = tf.keras.models.load_model(f'E:/AImodel/models/Multilabel/VGG16/{exercise_name}.h5')\n"
   ]
  },
  {
   "cell_type": "markdown",
   "id": "21adb974-a6c3-4f37-a534-684afabae5bd",
   "metadata": {},
   "source": [
    "함수정의"
   ]
  },
  {
   "cell_type": "code",
   "execution_count": 3,
   "id": "dbdc504a-034f-457c-a382-fb29491a6fa5",
   "metadata": {},
   "outputs": [],
   "source": [
    "def resize_img(image_paths):\n",
    "    images_resized = []  # 리사이즈된 이미지를 저장할 리스트\n",
    "    for image_path in image_paths:\n",
    "        image = cv2.imread(image_path)  # 각 이미지 경로로부터 이미지를 읽음\n",
    "        image = cv2.cvtColor(image, cv2.COLOR_BGR2RGB)  # BGR에서 RGB로 색상 변환\n",
    "        image_resized = cv2.resize(image, (128, 128))  # 이미지 리사이즈\n",
    "        images_resized.append(image_resized)  # 결과 리스트에 추가\n",
    "    images_resized = np.array(images_resized) / 255.0  # numpy 배열로 변환 및 정규화\n",
    "    return images_resized\n",
    "    \n",
    "\n",
    "def process_dataset(root_folder):\n",
    "    image_paths = []\n",
    "    label_data = []\n",
    "\n",
    "    for roots, dirs, files in os.walk(root_folder):\n",
    "        for file in files:\n",
    "            if file.endswith('.jpg'):\n",
    "                # 파일 이름 분석을 위해 숫자만 추출\n",
    "                prefix = file[0:3]\n",
    "\n",
    "                # 접두사에 따른 레이블 할당\n",
    "                label = prefix_to_label.get(prefix)\n",
    "\n",
    "                # 유효한 레이블이 있는 경우에만 리스트에 추가\n",
    "                if label is not None:\n",
    "                    image_paths.append(os.path.join(roots, file))\n",
    "                    label_data.append(label)\n",
    "\n",
    "    return image_paths, label_data\n",
    "\n",
    "\n",
    "def apply_sliding_window(sequence, window_size=5, method='mean'):\n",
    "    smoothed_sequence = []\n",
    "    for i in range(len(sequence)):\n",
    "        start_idx = max(0, i - window_size // 2)\n",
    "        end_idx = min(len(sequence), i + window_size // 2 + 1)\n",
    "        window = sequence[start_idx:end_idx]\n",
    "        if method == 'mean':\n",
    "            smoothed_value = np.mean(window)\n",
    "        elif method == 'median':\n",
    "            smoothed_value = np.median(window)\n",
    "        else:\n",
    "            raise ValueError(\"Method should be 'mean' or 'median'\")\n",
    "        smoothed_sequence.append(smoothed_value)\n",
    "    return smoothed_sequence\n",
    "\n",
    "\n",
    "def load_json_file(file_path):\n",
    "    with open(file_path, 'r', encoding='utf-8') as file:\n",
    "        return json.load(file)\n",
    "\n",
    "\n",
    "def get_prefix_to_label(file_path, exercise_name):\n",
    "    data = load_json_file(file_path)\n",
    "    result = (data.get(exercise_name))\n",
    "    prefix = data.get(exercise_name)['prefix']\n",
    "    label = data.get(exercise_name)['last_path']\n",
    "    prefix_to_label = dict(zip(prefix, label))\n",
    "    return prefix_to_label\n",
    "    "
   ]
  },
  {
   "cell_type": "code",
   "execution_count": 4,
   "id": "469b47ec-7992-4f1f-bc10-0349172ae5b2",
   "metadata": {},
   "outputs": [
    {
     "name": "stdout",
     "output_type": "stream",
     "text": [
      "3406 3406\n"
     ]
    }
   ],
   "source": [
    "prefix_to_label = get_prefix_to_label(json_path, exercise_name)\n",
    "\n",
    "test_image_paths, test_label_data = process_dataset(test_folder)\n",
    "print(len(test_image_paths), len(test_label_data))"
   ]
  },
  {
   "cell_type": "code",
   "execution_count": 5,
   "id": "d5de1740-2402-44a0-bc16-fd638e410f0d",
   "metadata": {},
   "outputs": [
    {
     "name": "stdout",
     "output_type": "stream",
     "text": [
      "107/107 [==============================] - 8s 42ms/step\n",
      "레이블 1의 정확도: 0.9128009395184967\n",
      "레이블 2의 정확도: 0.91015854374633\n",
      "레이블 3의 정확도: 0.88285378743394\n",
      "레이블 4의 정확도: 0.9495008807985907\n",
      "전체 정확도: 0.9138285378743394\n"
     ]
    }
   ],
   "source": [
    "test_image_resized = resize_img(test_image_paths)\n",
    "# 모델 예측\n",
    "predictions = model.predict(test_image_resized)\n",
    "\n",
    "# 임계값 설정 (예: 0.5)\n",
    "threshold = 0.5\n",
    "predictions_binary = (predictions > threshold).astype(int)\n",
    "\n",
    "# 각 레이블에 대한 정확도 계산\n",
    "accuracy_per_label = np.mean(predictions_binary == test_label_data, axis=0)\n",
    "\n",
    "# 각 레이블별 정확도 출력\n",
    "for i, accuracy in enumerate(accuracy_per_label):\n",
    "    print(f\"레이블 {i+1}의 정확도: {accuracy}\")\n",
    "\n",
    "# 전체 정확도도 여전히 중요할 수 있으므로, 이를 계산합니다.\n",
    "overall_accuracy = np.mean(predictions_binary == test_label_data)\n",
    "print(f\"전체 정확도: {overall_accuracy}\")\n"
   ]
  },
  {
   "cell_type": "code",
   "execution_count": 6,
   "id": "37baa50e-d964-482f-b870-bf29d60d2230",
   "metadata": {},
   "outputs": [
    {
     "name": "stdout",
     "output_type": "stream",
     "text": [
      "레이블 1의 보정된 정확도: 0.9797416324133882\n",
      "레이블 2의 보정된 정확도: 0.9732824427480916\n",
      "레이블 3의 보정된 정확도: 0.9600704638872578\n",
      "레이블 4의 보정된 정확도: 0.9856136230182032\n",
      "보정된 전체 정확도: 0.9746770405167352\n"
     ]
    }
   ],
   "source": [
    "# 예측 결과를 전치(Transpose)하여 각 레이블의 모든 예측 결과를 연속으로 배열\n",
    "transposed_predictions = np.transpose(predictions)\n",
    "\n",
    "smoothed_predictions = []\n",
    "for label_predictions in transposed_predictions:\n",
    "    # 각 레이블 별로 예측값에 슬라이딩 윈도우 적용\n",
    "    smoothed = apply_sliding_window(label_predictions, window_size=5, method='mean')\n",
    "    smoothed_predictions.append(smoothed)\n",
    "\n",
    "# 슬라이딩 윈도우 적용 결과를 다시 전치하여 원래 형태로 복원\n",
    "smoothed_predictions = np.transpose(smoothed_predictions)\n",
    "\n",
    "# Apply threshold to smoothed predictions\n",
    "smoothed_predictions_binary = (smoothed_predictions > threshold).astype(int)\n",
    "\n",
    "# Calculate accuracy for each label in smoothed predictions\n",
    "smoothed_accuracy_per_label = np.mean(smoothed_predictions_binary == test_label_data, axis=0)\n",
    "\n",
    "# Print accuracy for each label\n",
    "for i, accuracy in enumerate(smoothed_accuracy_per_label):\n",
    "    print(f\"레이블 {i+1}의 보정된 정확도: {accuracy}\")\n",
    "\n",
    "# Calculate overall accuracy for smoothed predictions\n",
    "smoothed_overall_accuracy = np.mean(smoothed_predictions_binary == test_label_data)\n",
    "print(f\"보정된 전체 정확도: {smoothed_overall_accuracy}\")\n"
   ]
  },
  {
   "cell_type": "code",
   "execution_count": 7,
   "id": "f11b8471-5cc2-4021-a001-d3a54eb047e6",
   "metadata": {},
   "outputs": [],
   "source": [
    "# # 각 예측 결과에 대해 슬라이딩 윈도우 적용\n",
    "# smoothed_predictions = []\n",
    "# for prediction in predictions:\n",
    "#     smoothed = apply_sliding_window(prediction.flatten(), window_size=5, method='mean')  # 예측 결과가 2차원일 수 있으므로 flatten() 호출\n",
    "#     smoothed_predictions.append(smoothed)\n",
    "\n",
    "# # Apply threshold to smoothed predictions\n",
    "# smoothed_predictions_binary = (np.array(smoothed_predictions) > threshold).astype(int)\n",
    "\n",
    "# # Calculate accuracy for each label in smoothed predictions\n",
    "# smoothed_accuracy_per_label = np.mean(smoothed_predictions_binary == test_label_data, axis=0)\n",
    "\n",
    "# # Print accuracy for each label\n",
    "# for i, accuracy in enumerate(smoothed_accuracy_per_label):\n",
    "#     print(f\"레이블 {i+1}의 보정된 정확도: {accuracy}\")\n",
    "\n",
    "# # Calculate overall accuracy for smoothed predictions\n",
    "# smoothed_overall_accuracy = np.mean(smoothed_predictions_binary == test_label_data)\n",
    "# print(f\"보정된 전체 정확도: {smoothed_overall_accuracy}\")\n"
   ]
  },
  {
   "cell_type": "code",
   "execution_count": null,
   "id": "0505d79c-c441-44e8-a728-b48e1552e18c",
   "metadata": {},
   "outputs": [],
   "source": []
  }
 ],
 "metadata": {
  "kernelspec": {
   "display_name": "tensorGPU",
   "language": "python",
   "name": "tensorgpu"
  },
  "language_info": {
   "codemirror_mode": {
    "name": "ipython",
    "version": 3
   },
   "file_extension": ".py",
   "mimetype": "text/x-python",
   "name": "python",
   "nbconvert_exporter": "python",
   "pygments_lexer": "ipython3",
   "version": "3.9.18"
  }
 },
 "nbformat": 4,
 "nbformat_minor": 5
}
