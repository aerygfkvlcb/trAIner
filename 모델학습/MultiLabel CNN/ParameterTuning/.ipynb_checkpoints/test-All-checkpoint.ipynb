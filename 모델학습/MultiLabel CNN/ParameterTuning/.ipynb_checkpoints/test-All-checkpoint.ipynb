{
 "cells": [
  {
   "cell_type": "code",
   "execution_count": 1,
   "id": "72c78879-76b1-4329-ade4-d235102a5223",
   "metadata": {},
   "outputs": [],
   "source": [
    "import os\n",
    "import json\n",
    "import cv2\n",
    "import tensorflow as tf\n",
    "import pandas as pd\n",
    "import numpy as np\n",
    "import matplotlib.pyplot as plt\n",
    "import matplotlib.cm as cm\n",
    "from sklearn.metrics import precision_recall_fscore_support\n",
    "from tensorflow.keras.preprocessing import image\n",
    "from tensorflow import keras\n",
    "from tensorflow.keras.metrics import Metric\n",
    "from tensorflow.keras.applications import resnet50, ResNet50\n",
    "from tensorflow.keras.preprocessing import image\n",
    "from hyperopt import hp, STATUS_OK, fmin, tpe, Trials\n",
    "from bayes_opt import BayesianOptimization\n",
    "from tensorflow.keras import layers, models, optimizers\n",
    "from tensorflow.keras.callbacks import EarlyStopping\n",
    "from tensorflow.keras.preprocessing.image import ImageDataGenerator, img_to_array, load_img\n",
    "import cv2\n"
   ]
  },
  {
   "cell_type": "markdown",
   "id": "4726c3e8-80b9-43ed-b71e-e23f28e13a44",
   "metadata": {},
   "source": [
    "모델 load, 이미지 데이터 폴더 경로설정"
   ]
  },
  {
   "cell_type": "code",
   "execution_count": 2,
   "id": "03e20412-d421-49f1-9dba-0e32011cb1cf",
   "metadata": {},
   "outputs": [],
   "source": [
    "exercise_names01 = [\n",
    "    'BicycleCrunch',              #0\n",
    "    'BurpeeTest',                 #1\n",
    "    'BurpeeTest',                 #2\n",
    "    'CrossLunge',                 #3\n",
    "    'CrossLunge',                 #4\n",
    "    'Crunch',                     #5\n",
    "    'Goodmorning',                #6\n",
    "    'HipThrust',                  #7\n",
    "    'KneePushup',                 #8\n",
    "    'LyingLegRaise',              #9\n",
    "    'Plank',                      #10\n",
    "    'Pushup',                     #11\n",
    "    'ScissorCross',               #12\n",
    "    'SideLunge',                  #13\n",
    "    'SideLunge',                  #14\n",
    "    'StandingKneeup',             #15\n",
    "    'StandingKneeup',             #16\n",
    "    'StandingSideCrunch',         #17\n",
    "    'StandingSideCrunch',         #18\n",
    "    'StepBackwardDynamicLunge',   #19\n",
    "    'StepForwardDynamicLunge',    #20\n",
    "    ]\n",
    "\n",
    "exercise_names02 = [\n",
    "    'BicycleCrunch',              #0\n",
    "    'BurpeeTest-face',            #1\n",
    "    'BurpeeTest-side',            #2\n",
    "    'CrossLunge-face',            #3\n",
    "    'CrossLunge-side',            #4\n",
    "    'Crunch',                     #5\n",
    "    'Goodmorning',                #6 side\n",
    "    'HipThrust',                  #7\n",
    "    'KneePushup',                 #8\n",
    "    'LyingLegRaise',              #9\n",
    "    'Plank',                      #10\n",
    "    'Pushup',                     #11\n",
    "    'ScissorCross',               #12\n",
    "    'SideLunge-face',             #13\n",
    "    'SideLunge-side',             #14\n",
    "    'StandingKneeup-face',        #15\n",
    "    'StandingKneeup-side',        #16\n",
    "    'StandingSideCrunch-face',    #17\n",
    "    'StandingSideCrunch-side',    #18\n",
    "    'StepBackwardDynamicLunge',   #19 side\n",
    "    'StepForwardDynamicLunge',    #20 side\n",
    "    ]\n",
    "\n",
    "\n"
   ]
  },
  {
   "cell_type": "markdown",
   "id": "21adb974-a6c3-4f37-a534-684afabae5bd",
   "metadata": {},
   "source": [
    "함수정의"
   ]
  },
  {
   "cell_type": "code",
   "execution_count": 3,
   "id": "dbdc504a-034f-457c-a382-fb29491a6fa5",
   "metadata": {},
   "outputs": [],
   "source": [
    "def resize_img(image_paths):\n",
    "    images_resized = []  # 리사이즈된 이미지를 저장할 리스트\n",
    "    for image_path in image_paths:\n",
    "        image = cv2.imread(image_path)  # 각 이미지 경로로부터 이미지를 읽음\n",
    "        image = cv2.cvtColor(image, cv2.COLOR_BGR2RGB)  # BGR에서 RGB로 색상 변환\n",
    "        image_resized = cv2.resize(image, (128, 128))  # 이미지 리사이즈\n",
    "        images_resized.append(image_resized)  # 결과 리스트에 추가\n",
    "    images_resized = np.array(images_resized) / 255.0  # numpy 배열로 변환 및 정규화\n",
    "    return images_resized\n",
    "    \n",
    "\n",
    "def process_dataset(root_folder):\n",
    "    image_paths = []\n",
    "    label_data = []\n",
    "\n",
    "    for roots, dirs, files in os.walk(root_folder):\n",
    "        for file in files:\n",
    "            if file.endswith('.jpg'):\n",
    "                # 파일 이름 분석을 위해 숫자만 추출\n",
    "                prefix = file[0:3]\n",
    "\n",
    "                # 접두사에 따른 레이블 할당\n",
    "                label = prefix_to_label.get(prefix)\n",
    "\n",
    "                # 유효한 레이블이 있는 경우에만 리스트에 추가\n",
    "                if label is not None:\n",
    "                    image_paths.append(os.path.join(roots, file))\n",
    "                    label_data.append(label)\n",
    "\n",
    "    return image_paths, label_data\n",
    "\n",
    "\n",
    "def apply_sliding_window(sequence, window_size=5, method='mean'):\n",
    "    smoothed_sequence = []\n",
    "    for i in range(len(sequence)):\n",
    "        start_idx = max(0, i - window_size // 2)\n",
    "        end_idx = min(len(sequence), i + window_size // 2 + 1)\n",
    "        window = sequence[start_idx:end_idx]\n",
    "        if method == 'mean':\n",
    "            smoothed_value = np.mean(window)\n",
    "        elif method == 'median':\n",
    "            smoothed_value = np.median(window)\n",
    "        else:\n",
    "            raise ValueError(\"Method should be 'mean' or 'median'\")\n",
    "        smoothed_sequence.append(smoothed_value)\n",
    "    return smoothed_sequence\n",
    "\n",
    "\n",
    "def load_json_file(file_path):\n",
    "    with open(file_path, 'r', encoding='utf-8') as file:\n",
    "        return json.load(file)\n",
    "\n",
    "\n",
    "def get_prefix_to_label(file_path, exercise_name):\n",
    "    data = load_json_file(file_path)\n",
    "    result = (data.get(exercise_name))\n",
    "    prefix = data.get(exercise_name)['prefix']\n",
    "    label = data.get(exercise_name)['last_path']\n",
    "    prefix_to_label = dict(zip(prefix, label))\n",
    "    return prefix_to_label\n",
    "\n",
    "\n",
    "get_label_nums = lambda x: len(next(iter(x.values())))"
   ]
  },
  {
   "cell_type": "markdown",
   "id": "dbc05765-f05d-4718-b42b-267ed554d3a4",
   "metadata": {},
   "source": [
    "변수설정"
   ]
  },
  {
   "cell_type": "code",
   "execution_count": 4,
   "id": "ea1e6b0b-9644-496d-a893-4554fedc63fd",
   "metadata": {},
   "outputs": [
    {
     "name": "stdout",
     "output_type": "stream",
     "text": [
      "stepforwarddynamiclunge\n"
     ]
    }
   ],
   "source": [
    "json_path = 'E:/AInotes/자세교정/모델학습/label_data.json'\n",
    "pretrained_model = 'ResNet50'\n",
    "direction = 'side' #side\n",
    "exercise_name01 = exercise_names01[20]\n",
    "exercise_name02 = exercise_names02[20].lower()\n",
    "test_folder = f'E:/AI/dataset_skeleton_sep/{direction}/{exercise_name01}/test'\n",
    "prefix_to_label = get_prefix_to_label(json_path, exercise_name02)\n",
    "#model = tf.keras.models.load_model(f'E:/AImodel/models/Multilabel/{pretrained_model}/{exercise_name02}.h5', custom_objects={'PerClassAccuracy': PerClassAccuracy})\n",
    "model = tf.keras.models.load_model(f'E:/AImodel/models/Multilabel/{pretrained_model}/{exercise_name02}.h5')\n",
    "print(exercise_name02)"
   ]
  },
  {
   "cell_type": "code",
   "execution_count": 5,
   "id": "469b47ec-7992-4f1f-bc10-0349172ae5b2",
   "metadata": {},
   "outputs": [
    {
     "name": "stdout",
     "output_type": "stream",
     "text": [
      "7950 7950\n"
     ]
    }
   ],
   "source": [
    "prefix_to_label = get_prefix_to_label(json_path, exercise_name02)\n",
    "\n",
    "test_image_paths, test_label_data = process_dataset(test_folder)\n",
    "print(len(test_image_paths), len(test_label_data))"
   ]
  },
  {
   "cell_type": "code",
   "execution_count": 6,
   "id": "d5de1740-2402-44a0-bc16-fd638e410f0d",
   "metadata": {},
   "outputs": [
    {
     "name": "stdout",
     "output_type": "stream",
     "text": [
      "249/249 [==============================] - 8s 21ms/step\n",
      "\n",
      "레이블 1의 정확도: 0.8049, 정밀도: 0.8849, 재현율: 0.1278, F1 스코어: 0.2233\n",
      "레이블 2의 정확도: 0.8126, 정밀도: 0.0000, 재현율: 0.0000, F1 스코어: 0.0000\n",
      "레이블 3의 정확도: 0.7699, 정밀도: 0.6318, 재현율: 0.4353, F1 스코어: 0.5155\n",
      "레이블 4의 정확도: 0.6463, 정밀도: 0.6584, 재현율: 0.9000, F1 스코어: 0.7605\n",
      "레이블 5의 정확도: 0.6072, 정밀도: 0.5127, 재현율: 0.6586, F1 스코어: 0.5765\n"
     ]
    },
    {
     "name": "stderr",
     "output_type": "stream",
     "text": [
      "C:\\Users\\ajhoo\\anaconda3\\envs\\tensorGPU\\lib\\site-packages\\sklearn\\metrics\\_classification.py:1471: UndefinedMetricWarning: Precision and F-score are ill-defined and being set to 0.0 in labels with no predicted samples. Use `zero_division` parameter to control this behavior.\n",
      "  _warn_prf(average, modifier, msg_start, len(result))\n"
     ]
    }
   ],
   "source": [
    "test_image_resized = resize_img(test_image_paths)\n",
    "# 모델 예측\n",
    "predictions = model.predict(test_image_resized)\n",
    "\n",
    "# 임계값 설정 (예: 0.5)\n",
    "threshold = 0.5\n",
    "predictions_binary = (predictions > threshold).astype(int)\n",
    "\n",
    "# 각 레이블에 대한 정확도 계산\n",
    "accuracy_per_label = np.mean(predictions_binary == test_label_data, axis=0)\n",
    "precision, recall, f1_score, _ = precision_recall_fscore_support(test_label_data, predictions_binary, average=None)\n",
    "\n",
    "print()\n",
    "\n",
    "#for i, (a) in enumerate(accuracy_per_label):\n",
    "#    print(f\"레이블 {i+1}의 정확도: {a:.4f}\")\n",
    "\n",
    "# 각 레이블별 정확도 출력\n",
    "for i, (a,p,r,f) in enumerate(zip(accuracy_per_label, precision, recall, f1_score)):\n",
    "    print(f\"레이블 {i+1}의 정확도: {a:.4f}, 정밀도: {p:.4f}, 재현율: {r:.4f}, F1 스코어: {f:.4f}\")\n",
    "\n",
    "# 원본 예측 결과에 대한 정밀도, 재현율, F1 스코어 계산\n",
    "\n",
    "# 각 레이블별 정밀도, 재현율, F1 스코어 출력\n",
    "# for i, (p, r, f) in enumerate):\n",
    "#     print(f\"레이블 {i+1}의 정밀도: {p:.4f}, 재현율: {r:.4f}, F1 스코어: {f:.4f}\")\n",
    "\n",
    "# 전체 정확도도 여전히 중요할 수 있으므로, 이를 계산합니다.\n",
    "# overall_accuracy = np.mean(predictions_binary == test_label_data)\n",
    "# print(f\"전체 정확도: {overall_accuracy}\")\n"
   ]
  },
  {
   "cell_type": "code",
   "execution_count": 7,
   "id": "37baa50e-d964-482f-b870-bf29d60d2230",
   "metadata": {},
   "outputs": [
    {
     "name": "stdout",
     "output_type": "stream",
     "text": [
      "레이블 1의 보정된 정확도: 0.8001, 정밀도: 1.0000, 재현율: 0.0894, F1 스코어: 0.1641\n",
      "레이블 2의 보정된 정확도: 0.8126, 정밀도: 0.0000, 재현율: 0.0000, F1 스코어: 0.0000\n",
      "레이블 3의 보정된 정확도: 0.8260, 정밀도: 0.9152, 재현율: 0.4201, F1 스코어: 0.5759\n",
      "레이블 4의 보정된 정확도: 0.6699, 정밀도: 0.6601, 재현율: 0.9708, F1 스코어: 0.7859\n",
      "레이블 5의 보정된 정확도: 0.6358, 정밀도: 0.5385, 재현율: 0.7212, F1 스코어: 0.6166\n"
     ]
    },
    {
     "name": "stderr",
     "output_type": "stream",
     "text": [
      "C:\\Users\\ajhoo\\anaconda3\\envs\\tensorGPU\\lib\\site-packages\\sklearn\\metrics\\_classification.py:1471: UndefinedMetricWarning: Precision and F-score are ill-defined and being set to 0.0 in labels with no predicted samples. Use `zero_division` parameter to control this behavior.\n",
      "  _warn_prf(average, modifier, msg_start, len(result))\n"
     ]
    }
   ],
   "source": [
    "# 예측 결과를 전치(Transpose)하여 각 레이블의 모든 예측 결과를 연속으로 배열\n",
    "transposed_predictions = np.transpose(predictions)\n",
    "\n",
    "smoothed_predictions = []\n",
    "for label_predictions in transposed_predictions:\n",
    "    # 각 레이블 별로 예측값에 슬라이딩 윈도우 적용\n",
    "    smoothed = apply_sliding_window(label_predictions, window_size=5, method='mean')\n",
    "    smoothed_predictions.append(smoothed)\n",
    "\n",
    "# 슬라이딩 윈도우 적용 결과를 다시 전치하여 원래 형태로 복원\n",
    "smoothed_predictions = np.transpose(smoothed_predictions)\n",
    "\n",
    "# Apply threshold to smoothed predictions\n",
    "smoothed_predictions_binary = (smoothed_predictions > threshold).astype(int)\n",
    "\n",
    "# Calculate accuracy for each label in smoothed predictions\n",
    "smoothed_accuracy_per_label = np.mean(smoothed_predictions_binary == test_label_data, axis=0)\n",
    "smoothed_precision, smoothed_recall, smoothed_f1_score, _ = precision_recall_fscore_support(test_label_data, smoothed_predictions_binary, average=None)\n",
    "\n",
    "# Print accuracy for each label\n",
    "for i, (a,p,r,f) in enumerate(zip(smoothed_accuracy_per_label, smoothed_precision, smoothed_recall, smoothed_f1_score)):\n",
    "    print(f\"레이블 {i+1}의 보정된 정확도: {a:.4f}, 정밀도: {p:.4f}, 재현율: {r:.4f}, F1 스코어: {f:.4f}\")\n",
    "\n",
    "# Calculate overall accuracy for smoothed predictions\n",
    "# smoothed_overall_accuracy = np.mean(smoothed_predictions_binary == test_label_data)\n",
    "# print(f\"보정된 전체 정확도: {smoothed_overall_accuracy}\")\n",
    "\n"
   ]
  },
  {
   "cell_type": "code",
   "execution_count": null,
   "id": "0505d79c-c441-44e8-a728-b48e1552e18c",
   "metadata": {},
   "outputs": [],
   "source": []
  }
 ],
 "metadata": {
  "kernelspec": {
   "display_name": "tensorGPU",
   "language": "python",
   "name": "tensorgpu"
  },
  "language_info": {
   "codemirror_mode": {
    "name": "ipython",
    "version": 3
   },
   "file_extension": ".py",
   "mimetype": "text/x-python",
   "name": "python",
   "nbconvert_exporter": "python",
   "pygments_lexer": "ipython3",
   "version": "3.9.18"
  }
 },
 "nbformat": 4,
 "nbformat_minor": 5
}
