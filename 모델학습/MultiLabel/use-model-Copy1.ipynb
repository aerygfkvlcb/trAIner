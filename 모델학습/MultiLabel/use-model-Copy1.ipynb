{
 "cells": [
  {
   "cell_type": "code",
   "execution_count": 1,
   "id": "80a07171-d825-42ed-aac8-03b0aa756d5c",
   "metadata": {},
   "outputs": [],
   "source": [
    "import os\n",
    "import cv2\n",
    "import tensorflow as tf\n",
    "import pandas as pd\n",
    "import numpy as np\n",
    "import matplotlib.pyplot as plt\n",
    "import matplotlib.cm as cm\n",
    "from tensorflow.keras.preprocessing import image\n",
    "from tensorflow import keras\n",
    "from tensorflow.keras.applications import resnet50, ResNet50\n",
    "from tensorflow.keras.preprocessing import image\n"
   ]
  },
  {
   "cell_type": "code",
   "execution_count": 2,
   "id": "ea1e6b0b-9644-496d-a893-4554fedc63fd",
   "metadata": {},
   "outputs": [],
   "source": [
    "model = tf.keras.models.load_model(r'E:\\AImodel\\models\\Face-ResNet-BicycleCrunch-multiLabel-model')\n"
   ]
  },
  {
   "cell_type": "code",
   "execution_count": 3,
   "id": "dbdc504a-034f-457c-a382-fb29491a6fa5",
   "metadata": {},
   "outputs": [],
   "source": [
    "def preprocess_image(image_path, target_size=(128, 128)):\n",
    "    \"\"\"이미지 파일을 불러와 전처리하는 함수\"\"\"\n",
    "    img = image.load_img(image_path, target_size=target_size)\n",
    "    img_array = image.img_to_array(img)\n",
    "    img_array = np.expand_dims(img_array, axis=0)  # 모델 예측을 위해 차원 확장\n",
    "    img_array /= 255.0  # 이미지를 0과 1 사이로 스케일링\n",
    "    return img_array\n",
    "\n",
    "def load_and_preprocess_from_directory(directory_path, target_size=(128, 128)):\n",
    "    \"\"\"지정된 디렉토리 내의 모든 이미지를 불러와 전처리하는 함수\"\"\"\n",
    "    processed_images = []\n",
    "    for file_name in os.listdir(directory_path):\n",
    "        file_path = os.path.join(directory_path, file_name)\n",
    "        if file_path.lower().endswith(('.png', '.jpg', '.jpeg')):\n",
    "            img = preprocess_image(file_path, target_size=target_size)\n",
    "            processed_images.append(img)\n",
    "    return np.vstack(processed_images)  # 전처리된 이미지들을 하나의 numpy 배열로 합침\n",
    "\n",
    "dir = r'E:\\AItemp\\testdata\\BC test02'\n",
    "preprocessed_images = load_and_preprocess_from_directory(dir)\n"
   ]
  },
  {
   "cell_type": "code",
   "execution_count": 4,
   "id": "d5de1740-2402-44a0-bc16-fd638e410f0d",
   "metadata": {},
   "outputs": [
    {
     "name": "stdout",
     "output_type": "stream",
     "text": [
      "7/7 [==============================] - 3s 28ms/step\n"
     ]
    }
   ],
   "source": [
    "import pandas as pd\n",
    "# 모델 예측 수행\n",
    "model_predictions = model.predict(preprocessed_images)\n",
    "# model_predictions는 [prediction1, prediction2, prediction3] 형태의 리스트를 반환할 것입니다.\n",
    "\n",
    "# 슬라이딩 윈도우 함수 정의 (앞서 제시된 예시 사용)\n",
    "def apply_sliding_window(sequence, window_size=5, method='mean'):\n",
    "    smoothed_sequence = []\n",
    "    for i in range(len(sequence)):\n",
    "        start_idx = max(0, i - window_size // 2)\n",
    "        end_idx = min(len(sequence), i + window_size // 2 + 1)\n",
    "        window = sequence[start_idx:end_idx]\n",
    "        if method == 'mean':\n",
    "            smoothed_value = np.mean(window)\n",
    "        elif method == 'median':\n",
    "            smoothed_value = np.median(window)\n",
    "        else:\n",
    "            raise ValueError(\"Method should be 'mean' or 'median'\")\n",
    "        smoothed_sequence.append(smoothed_value)\n",
    "    return smoothed_sequence\n",
    "\n"
   ]
  },
  {
   "cell_type": "code",
   "execution_count": 7,
   "id": "f11b8471-5cc2-4021-a001-d3a54eb047e6",
   "metadata": {},
   "outputs": [],
   "source": [
    "# 각 예측 결과에 대해 슬라이딩 윈도우 적용\n",
    "smoothed_predictions = []\n",
    "for prediction in model_predictions:\n",
    "    smoothed = apply_sliding_window(prediction.flatten(), window_size=5, method='mean')  # 예측 결과가 2차원일 수 있으므로 flatten() 호출\n",
    "    smoothed_predictions.append(smoothed)\n",
    "\n",
    "# 슬라이딩 윈도우가 적용된 결과 확인\n",
    "# 예: smoothed_predictions[0]는 조정된 prediction1의 결과를 포함합니다.\n",
    "adjusted_first_prediction1 = smoothed_predictions[0]\n",
    "adjusted_first_prediction2 = smoothed_predictions[1]\n",
    "adjusted_first_prediction3 = smoothed_predictions[2]\n",
    "\n",
    "# 조정된 첫 번째 예측 결과 분석 예시\n",
    "# print(\"조정된 1 번째 예측 결과:\", adjusted_first_prediction1)\n",
    "# print(\"조정된 2 번째 예측 결과:\", adjusted_first_prediction2)\n",
    "# print(\"조정된 3 번째 예측 결과:\", adjusted_first_prediction3)\n",
    "\n",
    "# 조정된 예측 결과가 특정 임계값을 넘는지 체크하는 로직\n",
    "threshold = 0.5  # 임계값 설정\n",
    "exceeds_threshold1 = [pred > threshold for pred in adjusted_first_prediction1]\n",
    "exceeds_threshold2 = [pred > threshold for pred in adjusted_first_prediction2]\n",
    "exceeds_threshold3 = [pred > threshold for pred in adjusted_first_prediction3]\n",
    "\n"
   ]
  },
  {
   "cell_type": "code",
   "execution_count": 6,
   "id": "37baa50e-d964-482f-b870-bf29d60d2230",
   "metadata": {},
   "outputs": [
    {
     "name": "stdout",
     "output_type": "stream",
     "text": [
      "    허리 지면 고정 수축시 무릎 엉덩이 지남 견갑골이 충분히 올라옴\n",
      "0          예           아니오          아니오\n",
      "1          예           아니오          아니오\n",
      "2          예           아니오          아니오\n",
      "3          예           아니오          아니오\n",
      "4          예           아니오          아니오\n",
      "..       ...           ...          ...\n",
      "205        예           아니오          아니오\n",
      "206        예           아니오          아니오\n",
      "207        예           아니오          아니오\n",
      "208        예           아니오          아니오\n",
      "209        예           아니오          아니오\n",
      "\n",
      "[210 rows x 3 columns]\n"
     ]
    }
   ],
   "source": [
    "# 예측 결과와 임계값을 초과 여부를 데이터프레임으로 변환\n",
    "df = pd.DataFrame({    \n",
    "    '허리 지면 고정': exceeds_threshold1,\n",
    "    '수축시 무릎 엉덩이 지남': exceeds_threshold2,\n",
    "    '견갑골이 충분히 올라옴': exceeds_threshold3,\n",
    "})\n",
    "\n",
    "# 임계값을 초과하는지 여부를 True/False 대신에 예/아니오로 표시하고 싶다면,\n",
    "# 다음과 같이 수정할 수 있습니다.\n",
    "df = df.replace({True: '예', False: '아니오'})\n",
    "\n",
    "# 결과 출력\n",
    "print(df)\n"
   ]
  }
 ],
 "metadata": {
  "kernelspec": {
   "display_name": "tensorGPU",
   "language": "python",
   "name": "tensorgpu"
  },
  "language_info": {
   "codemirror_mode": {
    "name": "ipython",
    "version": 3
   },
   "file_extension": ".py",
   "mimetype": "text/x-python",
   "name": "python",
   "nbconvert_exporter": "python",
   "pygments_lexer": "ipython3",
   "version": "3.9.18"
  }
 },
 "nbformat": 4,
 "nbformat_minor": 5
}
