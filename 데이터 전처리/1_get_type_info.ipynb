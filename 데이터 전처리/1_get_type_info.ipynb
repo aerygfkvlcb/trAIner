{
 "cells": [
  {
   "cell_type": "code",
   "execution_count": 5,
   "id": "0312c8ca-4eda-4d24-a6a6-2d43f4e06ce6",
   "metadata": {},
   "outputs": [
    {
     "name": "stdout",
     "output_type": "stream",
     "text": [
      "모든 폴더의 결과가 각각의 JSON 파일로 저장되었습니다.\n"
     ]
    }
   ],
   "source": [
    "import os\n",
    "import json\n",
    "\n",
    "# 상위 폴더 경로 설정\n",
    "parent_folder = 'D:/AI/dataset/fitnessPose/Training/labeldataset/맨몸운동_Labeling_new_220128'  # 상위 폴더 경로\n",
    "\n",
    "# 상위 폴더 내의 모든 폴더에 대해 반복\n",
    "for folder_name in os.listdir(parent_folder):\n",
    "    folder_path = os.path.join(parent_folder, folder_name)\n",
    "    if os.path.isdir(folder_path):  # 폴더인 경우에만 처리\n",
    "        # 해당 폴더 내의 JSON 파일들을 처리하여 결과를 저장할 리스트 초기화\n",
    "        type_info_data = []\n",
    "\n",
    "        # 현재 폴더 내의 모든 JSON 파일에 대해 반복\n",
    "        for filename in os.listdir(folder_path):\n",
    "            if filename.endswith('.json'):  # JSON 파일만 처리\n",
    "                file_path = os.path.join(folder_path, filename)\n",
    "                with open(file_path, 'r', encoding='utf-8') as json_file:  # 인코딩을 UTF-8로 지정\n",
    "                    data = json.load(json_file)\n",
    "                    type_info = data.get(\"type_info\", {})\n",
    "                    type_info_data.append({\"filename\": filename, \"type_info\": type_info})\n",
    "\n",
    "        # 결과를 현재 폴더의 이름으로 JSON 파일에 저장\n",
    "        output_json_file = os.path.join(folder_path, f'{folder_name}_output.json')  # 결과를 저장할 JSON 파일 경로\n",
    "        with open(output_json_file, 'w', encoding='utf-8') as output_file:  # 인코딩을 UTF-8로 지정\n",
    "            json.dump(type_info_data, output_file, indent=4, ensure_ascii=False)  # ensure_ascii=False 옵션 추가\n",
    "\n",
    "print(\"모든 폴더의 결과가 각각의 JSON 파일로 저장되었습니다.\")\n"
   ]
  },
  {
   "cell_type": "code",
   "execution_count": 3,
   "id": "314b0866-17d9-4242-9952-e2d78820bbe5",
   "metadata": {},
   "outputs": [
    {
     "name": "stdout",
     "output_type": "stream",
     "text": [
      "중복되지 않는 type_info의 key 값을 가진 데이터가 type_info_output.json 파일로 저장되었습니다.\n"
     ]
    }
   ],
   "source": [
    "import os\n",
    "import json\n",
    "\n",
    "# 상위 폴더 경로 설정\n",
    "parent_folder = 'D:/AI/dataset/fitnessPose/Training/labeldataset/맨몸운동_Labeling_new_220128'\n",
    "output_path = os.path.join(parent_folder, '..', 'output')\n",
    "\n",
    "# 최종 데이터를 저장할 리스트\n",
    "final_data = []\n",
    "\n",
    "# 중복 체크를 위한 key 값 저장용 세트\n",
    "keys_set = set()\n",
    "\n",
    "# os.walk를 사용하여 모든 디렉토리와 파일을 순회\n",
    "for root, dirs, files in os.walk(parent_folder):\n",
    "    for filename in files:\n",
    "        # JSON 파일만 처리\n",
    "        if filename.endswith('.json'):\n",
    "            file_path = os.path.join(root, filename)\n",
    "            with open(file_path, 'r', encoding='utf-8') as json_file:\n",
    "                data = json.load(json_file)\n",
    "                \n",
    "                # type_info 데이터가 있고, key 값 중복 체크\n",
    "                type_info = data.get(\"type_info\")\n",
    "                if type_info and type_info.get(\"key\") not in keys_set:\n",
    "                    keys_set.add(type_info.get(\"key\"))\n",
    "                    final_data.append(type_info)  # type_info 데이터만 추가\n",
    "\n",
    "# 최종 데이터를 출력 폴더에 저장\n",
    "if not os.path.exists(output_path):\n",
    "    os.makedirs(output_path)\n",
    "\n",
    "output_json_file = os.path.join(output_path, 'type_info_output.json')\n",
    "with open(output_json_file, 'w', encoding='utf-8') as output_file:\n",
    "    json.dump(final_data, output_file, indent=4, ensure_ascii=False)\n",
    "\n",
    "print(\"중복되지 않는 type_info의 key 값을 가진 데이터가 type_info_output.json 파일로 저장되었습니다.\")\n"
   ]
  },
  {
   "cell_type": "code",
   "execution_count": null,
   "id": "abefa4d4-0750-4f0b-a1f3-fa2b86da23d1",
   "metadata": {},
   "outputs": [],
   "source": [
    "'E:/AInotes/자세교정/데이터 전처리/get_only_type_info'"
   ]
  }
 ],
 "metadata": {
  "kernelspec": {
   "display_name": "Python 3 (ipykernel)",
   "language": "python",
   "name": "python3"
  },
  "language_info": {
   "codemirror_mode": {
    "name": "ipython",
    "version": 3
   },
   "file_extension": ".py",
   "mimetype": "text/x-python",
   "name": "python",
   "nbconvert_exporter": "python",
   "pygments_lexer": "ipython3",
   "version": "3.11.7"
  }
 },
 "nbformat": 4,
 "nbformat_minor": 5
}
