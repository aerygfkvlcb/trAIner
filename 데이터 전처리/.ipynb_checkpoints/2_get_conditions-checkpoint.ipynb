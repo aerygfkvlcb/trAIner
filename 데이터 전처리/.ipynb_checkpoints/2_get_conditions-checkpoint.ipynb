{
 "cells": [
  {
   "cell_type": "code",
   "execution_count": 20,
   "id": "eca20097-2ebb-48df-8434-8f9c4ef17249",
   "metadata": {},
   "outputs": [
    {
     "name": "stdout",
     "output_type": "stream",
     "text": [
      "결과가 성공적으로 저장되었습니다.\n"
     ]
    }
   ],
   "source": [
    "import os\n",
    "import json\n",
    "import csv\n",
    "\n",
    "# 입력 폴더 경로 설정\n",
    "input_folder = 'E:/AInotes/데이터 전처리/get_type_info'  # JSON 파일들이 있는 폴더\n",
    "\n",
    "# CSV 파일에 저장할 헤더 설정\n",
    "headers = ['filename', 'key', 'exercise', 'condition1', 'condition2', 'condition3', 'condition4', 'condition5']\n",
    "\n",
    "# CSV 파일에 데이터를 저장하기 위한 리스트 초기화\n",
    "csv_data = []\n",
    "\n",
    "# 입력 폴더 내의 모든 JSON 파일에 대해 반복\n",
    "for filename in os.listdir(input_folder):\n",
    "    if filename.endswith('.json'):  # JSON 파일만 처리\n",
    "        file_path = os.path.join(input_folder, filename)\n",
    "        with open(file_path, 'r', encoding='utf-8') as json_file:  # 인코딩을 UTF-8로 지정\n",
    "            data = json.load(json_file)\n",
    "            \n",
    "            # \"type_info\"가 리스트인 경우 처리\n",
    "            if isinstance(data, list):\n",
    "                for item in data:\n",
    "                    filename_value = item.get(\"filename\")\n",
    "                    key = item.get(\"type_info\", {}).get(\"key\", \"\")  # \"key\" 값을 가져옴\n",
    "                    exercise = item.get(\"type_info\", {}).get(\"exercise\", \"\")  # \"exercise\" 값을 가져옴\n",
    "                    conditions = item.get(\"type_info\", {}).get(\"conditions\", [])  # \"conditions\" 값을 가져옴\n",
    "\n",
    "                    # \"conditions\"에서 \"value\" 값을 가져와 리스트로 변환\n",
    "                    condition_values = [str(condition.get(\"value\", \"\")).lower() for condition in conditions]\n",
    "\n",
    "                    # \"conditions\"의 길이가 5개 미만인 경우, 부족한 만큼 빈 문자열로 채움\n",
    "                    condition_values += [''] * (5 - len(condition_values))\n",
    "\n",
    "                    row_data = [filename_value, key, exercise] + condition_values  # 행 데이터 생성 (파일 이름, key, exercise, conditions의 value)\n",
    "                    csv_data.append(row_data)  # CSV 데이터에 행 데이터 추가\n",
    "            else:\n",
    "                filename_value = data.get(\"filename\")  # \"key\" 값을 가져옴\n",
    "                key = data.get(\"type_info\", {}).get(\"key\", \"\")  # \"key\" 값을 가져옴\n",
    "                exercise = data.get(\"type_info\", {}).get(\"exercise\", \"\")  # \"exercise\" 값을 가져옴\n",
    "                conditions = data.get(\"type_info\", {}).get(\"conditions\", [])  # \"conditions\" 값을 가져옴\n",
    "\n",
    "                # \"conditions\"에서 \"value\" 값을 가져와 리스트로 변환\n",
    "                condition_values = [str(condition.get(\"value\", \"\")).lower() for condition in conditions]\n",
    "\n",
    "                # \"conditions\"의 길이가 5개 미만인 경우, 부족한 만큼 빈 문자열로 채움\n",
    "                condition_values += [''] * (5 - len(condition_values))\n",
    "\n",
    "                row_data = [filename_value, key, exercise] + condition_values  # 행 데이터 생성 (파일 이름, key, exercise, conditions의 value)\n",
    "                csv_data.append(row_data)  # CSV 데이터에 행 데이터 추가\n",
    "\n",
    "# CSV 파일에 데이터를 저장\n",
    "output_csv_file = 'output.csv'  # 결과를 저장할 CSV 파일 경로\n",
    "with open(output_csv_file, 'w', encoding='utf-8-sig', newline='') as output_file:  # 인코딩을 UTF-8로 지정, BOM(Byte Order Mark)을 추가하여 한글 깨짐 문제 해결\n",
    "    writer = csv.writer(output_file)\n",
    "    writer.writerow(headers)  # 헤더 쓰기\n",
    "    writer.writerows(csv_data)  # 데이터 쓰기\n",
    "\n",
    "print(\"결과가 성공적으로 저장되었습니다.\")\n"
   ]
  },
  {
   "cell_type": "code",
   "execution_count": null,
   "id": "c304d075-a266-443f-925b-87b44da1d678",
   "metadata": {},
   "outputs": [],
   "source": [
    "E:/AInotes/데이터 전처리/get_type_info"
   ]
  }
 ],
 "metadata": {
  "kernelspec": {
   "display_name": "Python 3 (ipykernel)",
   "language": "python",
   "name": "python3"
  },
  "language_info": {
   "codemirror_mode": {
    "name": "ipython",
    "version": 3
   },
   "file_extension": ".py",
   "mimetype": "text/x-python",
   "name": "python",
   "nbconvert_exporter": "python",
   "pygments_lexer": "ipython3",
   "version": "3.11.7"
  }
 },
 "nbformat": 4,
 "nbformat_minor": 5
}
