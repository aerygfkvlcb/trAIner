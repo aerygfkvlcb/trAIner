{
 "cells": [
  {
   "cell_type": "code",
   "execution_count": 1,
   "id": "d699d011-42f6-41c2-9292-03e57e78811c",
   "metadata": {},
   "outputs": [],
   "source": [
    "import os\n",
    "\n",
    "# 데이터셋이 저장될 경로 설정\n",
    "dataset_path = \"D:/AI/dataset_trans/fitness/training/니푸시업\"\n",
    "\n",
    "# 0부터 31까지의 숫자를 이진수로 변환하여 폴더 생성\n",
    "for i in range(32):\n",
    "    folder_name = format(i, '05b')  # 5자리로 맞추고 이진수로 변환\n",
    "    folder_path = os.path.join(dataset_path, folder_name)\n",
    "    os.makedirs(folder_path, exist_ok=True)  # exist_ok=True로 설정하여 폴더가 이미 존재하면 오류를 발생하지 않음\n"
   ]
  },
  {
   "cell_type": "code",
   "execution_count": null,
   "id": "ddcb3ab4-d054-4d1b-a030-63a66198b343",
   "metadata": {},
   "outputs": [],
   "source": []
  }
 ],
 "metadata": {
  "kernelspec": {
   "display_name": "Python 3 (ipykernel)",
   "language": "python",
   "name": "python3"
  },
  "language_info": {
   "codemirror_mode": {
    "name": "ipython",
    "version": 3
   },
   "file_extension": ".py",
   "mimetype": "text/x-python",
   "name": "python",
   "nbconvert_exporter": "python",
   "pygments_lexer": "ipython3",
   "version": "3.11.7"
  }
 },
 "nbformat": 4,
 "nbformat_minor": 5
}
