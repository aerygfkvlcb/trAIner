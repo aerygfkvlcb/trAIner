{
 "cells": [
  {
   "cell_type": "code",
   "execution_count": null,
   "id": "f467e938-e3ef-4e2c-8607-82869ba953c4",
   "metadata": {},
   "outputs": [],
   "source": [
    "import numpy as np\n",
    "import tensorflow as tf\n",
    "import os\n",
    "from tensorflow import keras\n",
    "from tensorflow.keras import layers\n",
    "from tensorflow.keras.models import Sequential\n",
    "\n",
    "data_dir = 'E:/AI/dataset_skeleton/training/side'\n",
    "out_dir = 'E:/AI/labels_side.json'\n",
    "\n",
    "# 이미지 데이터와 라벨링 데이터를 저장할 리스트 생성\n",
    "labels = []\n",
    "\n",
    "# 주어진 폴더 구조를 순회하며 이미지 데이터와 라벨링 데이터 로드\n",
    "for root, dirs, files in os.walk(data_dir):\n",
    "    for dir_name in dirs:        \n",
    "        class_label = dir_name[:3]  # 폴더 이름의 앞 3자리를 클래스 라벨로 사용\n",
    "        class_dir = os.path.join(root, dir_name)\n",
    "        for file in os.listdir(class_dir):\n",
    "            if file.endswith('.jpg'):\n",
    "                image_path = os.path.join(class_dir, file)\n",
    "                labels.append(class_label)\n",
    "\n",
    "labels = np.array(labels)\n"
   ]
  }
 ],
 "metadata": {
  "kernelspec": {
   "display_name": "Python 3 (ipykernel)",
   "language": "python",
   "name": "python3"
  },
  "language_info": {
   "codemirror_mode": {
    "name": "ipython",
    "version": 3
   },
   "file_extension": ".py",
   "mimetype": "text/x-python",
   "name": "python",
   "nbconvert_exporter": "python",
   "pygments_lexer": "ipython3",
   "version": "3.11.7"
  }
 },
 "nbformat": 4,
 "nbformat_minor": 5
}
